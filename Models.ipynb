{
 "cells": [
  {
   "cell_type": "markdown",
   "metadata": {},
   "source": [
    "# IMPORT & SPLIT"
   ]
  },
  {
   "cell_type": "code",
   "execution_count": 1,
   "metadata": {},
   "outputs": [],
   "source": [
    "using CSV, DataFrames, Statistics, Dates, Gadfly, LinearAlgebra, Distributions, Random, ScikitLearn, GLM, Plots"
   ]
  },
  {
   "cell_type": "code",
   "execution_count": null,
   "metadata": {
    "scrolled": true
   },
   "outputs": [],
   "source": [
    "x_train = CSV.read(\"./data/new datasets/precipitation_daily_max/x_train.csv\");\n",
    "y_train = CSV.read(\"./data/new datasets/precipitation_daily_max/y_train.csv\");\n",
    "x_pred = CSV.read(\"./data/new datasets/precipitation_daily_max/x_pred.csv\");\n",
    "\n",
    "x_train = DataFrame(x_train)\n",
    "y_train = convert(DataFrame, y_train)\n",
    "x_pred = convert(DataFrame, x_pred);"
   ]
  },
  {
   "cell_type": "markdown",
   "metadata": {},
   "source": [
    "# PLOT"
   ]
  },
  {
   "cell_type": "code",
   "execution_count": null,
   "metadata": {
    "scrolled": true
   },
   "outputs": [],
   "source": [
    "histogram(convert(Matrix, x_train))"
   ]
  },
  {
   "cell_type": "markdown",
   "metadata": {},
   "source": [
    "We can observe that most data is skewed towards 0cm with some extreme cases over 2000cm (outliers)\n",
    "\n",
    "we need to preprocess the data with a function to reduce this gap\n",
    "\n",
    "$ f(x) = log_{10}(x+1) $"
   ]
  },
  {
   "cell_type": "code",
   "execution_count": null,
   "metadata": {
    "scrolled": true
   },
   "outputs": [],
   "source": [
    "x_train = DataFrame([log.(col.+1) for col = eachcol(x_train)])\n",
    "display(histogram(convert(Matrix, x_train)))\n",
    "display(describe(x_train, :mean, :std, :min, :q25, :median, :q75, :max))"
   ]
  },
  {
   "cell_type": "markdown",
   "metadata": {},
   "source": [
    "We will try regression without normalisation"
   ]
  },
  {
   "cell_type": "markdown",
   "metadata": {},
   "source": [
    "Intuition guides us to believe that the precipitations are correlated, but we will avoid PCA so that the model learns on it's own what meteoroligic stations are important for what gutter"
   ]
  },
  {
   "cell_type": "markdown",
   "metadata": {},
   "source": [
    "# Logistic Regression"
   ]
  },
  {
   "cell_type": "markdown",
   "metadata": {},
   "source": [
    "for 1st ouvrage only"
   ]
  },
  {
   "cell_type": "code",
   "execution_count": null,
   "metadata": {
    "scrolled": true
   },
   "outputs": [],
   "source": [
    "@sk_import linear_model: LogisticRegression\n",
    "model = LogisticRegression(\n",
    "    penalty=\"l2\",\n",
    "    random_state=234, # chosen by random dice roll, thus truly random\n",
    ")\n",
    "x = convert(Matrix, x_train)\n",
    "y = convert(Matrix, y_train)\n",
    "ScikitLearn.fit!(model, x, y)"
   ]
  }
 ],
 "metadata": {
  "kernelspec": {
   "display_name": "Julia 1.2.0",
   "language": "julia",
   "name": "julia-1.2"
  },
  "language_info": {
   "file_extension": ".jl",
   "mimetype": "application/julia",
   "name": "julia",
   "version": "1.2.0"
  }
 },
 "nbformat": 4,
 "nbformat_minor": 2
}

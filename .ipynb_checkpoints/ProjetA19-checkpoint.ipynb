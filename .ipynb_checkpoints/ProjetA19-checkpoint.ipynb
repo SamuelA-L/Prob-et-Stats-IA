{
 "cells": [
  {
   "cell_type": "markdown",
   "metadata": {},
   "source": [
    "\n",
    "# MTH3302 : Méthodes probabilistes et statistiques pour l'I.A.\n",
    "\n",
    "Jonathan Jalbert<br/>\n",
    "Professeur adjoint au Département de mathématiques et de génie industriel<br/>\n",
    "Polytechnique Montréal<br/>\n",
    "\n",
    "Le projet a été développé à l'aide de Alice Breton, étudiante à la maîtrise en génie informatique. Elle a suivi le cours lors de la session Hiver 2019.\n",
    "\n",
    "\n",
    "\n",
    "# Projet : Débordement d'égouts\n",
    "\n",
    "La description du projet est disponible à l'adresse suivante :\n",
    "https://www.kaggle.com/t/a238b752c33a41d9803c2cdde6bfc929\n",
    "\n",
    "Ce calepin Jupyter de base permet de charger et de nettoyer les données fournies. La dernière section détaille la génération du fichier des prédictions afin de le soumettre sur Kaggle dans le bon format.\n",
    "\n",
    "Dans un premier temps, vous devrez récupérer l'archive *data.zip* sur Moodle. Ce dossier contient les fichiers suivants :\n",
    "- surverses.csv\n",
    "- precipitation.csv\n",
    "- ouvrages-surverses.csv\n",
    "- test.csv\n",
    "\n",
    "Veuillez le décompresser dans le répertoire de ce calepin.\n",
    "\n",
    "Le fichier *surverse.csv* répertorie s'il y a surverse (1) ou non (0) au cours de la journée pour les 170 ouvrages de débordement de 2013 à 2018 pour les mois de mai à octobre (inclusivement). Des renseignements additionnels sur les données sont disponibles à l'adresse suivante :\n",
    "\n",
    "http://donnees.ville.montreal.qc.ca/dataset/debordement\n",
    "\n",
    "\n",
    "Le fichier *precipitation.csv* contient les précipitations horaires en dixième de *mm* enregistrées à 5 stations pluviométriques de 2013 à 2019 :\n",
    "- McTavish (7024745)\n",
    "- Ste-Anne-de-Bellevue (702FHL8)\n",
    "- Montreal/Pierre Elliott Trudeau Intl (702S006)\n",
    "- Montreal/St-Hubert (7027329)\n",
    "- L’Assomption (7014160)\n",
    "\n",
    "Plus d'informations sur les précipitations sont disponibles à l'adresse suivante :\n",
    "\n",
    "https://climat.meteo.gc.ca/climate_data/hourly_data_f.html?hlyRange=2008-01-08%7C2019-11-12&dlyRange=2002-12-23%7C2019-11-12&mlyRange=%7C&StationID=30165&Prov=QC&urlExtension=_f.html&searchType=stnName&optLimit=yearRange&StartYear=1840&EndYear=2019&selRowPerPage=25&Line=17&searchMethod=contains&Month=11&Day=12&txtStationName=montreal&timeframe=1&Year=2019\n",
    "\n",
    "Le fichier *ouvrages-surverses.csv* contient différentes caractéristiques des ouvrages de débordement. \n",
    "\n",
    "http://donnees.ville.montreal.qc.ca/dataset/ouvrage-surverse\n",
    "\n",
    "Le fichier *test.csv* contient les ouvrages et les jours pour lesquels vous devez prédire s'il y a eu surverse (true) ou non (false). Notez que l'on s'intéresse ici à 5 ouvrages de débordement localisés tout autour de l'Ile de Montréal :\n",
    "- 3260-01D dans Rivière-des-Prairies \n",
    "- 3350-07D dans Ahunstic \n",
    "- 4240-01D dans Pointe-aux-Trembles \n",
    "- 4350-01D dans le Vieux-Montréal \n",
    "- 4380-01D dans Verdun\n",
    "\n",
    "#### Remarque\n",
    "\n",
    "Dans le projet, on ne s'intéresse qu'aux surverses occasionnées par les précipitations. On ignore les surverses occasionnées par \n",
    "- fonte de neige (F)\n",
    "- travaux planifiés et entretien (TPL)\n",
    "- urgence (U)\n",
    "- autre (AUT)\n",
    "\n",
    "On suppose que lorsqu'il n'y a pas de raison pour la surverse, il s'agit d'une surverse causée par les précipitations. Puisque Nous nous intéresserons uniquement aux surverses occasionnées par les précipitations liquides, nous ne considérons que les mois de mai à octobre inclusivement."
   ]
  },
  {
   "cell_type": "code",
   "execution_count": 1,
   "metadata": {},
   "outputs": [
    {
     "name": "stderr",
     "output_type": "stream",
     "text": [
      "┌ Info: Recompiling stale cache file C:\\Users\\Jonathan\\.julia\\compiled\\v1.2\\Gadfly\\DvECm.ji for Gadfly [c91e804a-d5a3-530f-b6f0-dfbca275c004]\n",
      "└ @ Base loading.jl:1240\n",
      "┌ Info: Recompiling stale cache file C:\\Users\\Jonathan\\.julia\\compiled\\v1.2\\ScikitLearn\\tbUuI.ji for ScikitLearn [3646fa90-6ef7-5e7e-9f22-8aca16db6324]\n",
      "└ @ Base loading.jl:1240\n"
     ]
    }
   ],
   "source": [
    "using CSV, DataFrames, Statistics, Dates, Gadfly, LinearAlgebra, Distributions, Random, ScikitLearn, GLM"
   ]
  },
  {
   "cell_type": "markdown",
   "metadata": {},
   "source": [
    "## Fonctions gobales"
   ]
  },
  {
   "cell_type": "code",
   "execution_count": 2,
   "metadata": {},
   "outputs": [
    {
     "data": {
      "text/plain": [
       "splitdataframe"
      ]
     },
     "execution_count": 2,
     "metadata": {},
     "output_type": "execute_result"
    }
   ],
   "source": [
    "\"\"\"\n",
    "    splitdataframe(df::DataFrame, p::Real)\n",
    "\n",
    "Partitionne en un ensemble d'entraînement et un ensemble de validation un DataFrame.\n",
    "\n",
    "### Arguments\n",
    "- `df::DataFrame` : Un DataFrame\n",
    "- `p::Real` : La proportion (entre 0 et 1) de données dans l'ensemble d'entraînement.\n",
    "\n",
    "### Détails\n",
    "\n",
    "La fonction renvoie deux DataFrames, un pour l'ensemble d'entraînement et l'autre pour l'ensemble de validation.\n",
    "\n",
    "### Exemple\n",
    "\n",
    "\\```\n",
    " julia> splitdataframe(df, p.7)\n",
    "\\```\n",
    "\n",
    "\"\"\"\n",
    "function splitdataframe(df::DataFrame, p::Real)\n",
    "   @assert 0 <= p <= 1 \n",
    "    \n",
    "    n = size(df,1)\n",
    "    \n",
    "    ind = shuffle(1:n)\n",
    "    \n",
    "    threshold = Int64(round(n*p))\n",
    "    \n",
    "    indTrain = sort(ind[1:threshold])\n",
    "    \n",
    "    indTest = setdiff(1:n,indTrain)\n",
    "    \n",
    "    dfTrain = df[indTrain,:]\n",
    "    dfTest = df[indTest,:]\n",
    "    \n",
    "    return dfTrain, dfTest\n",
    "    \n",
    "end"
   ]
  },
  {
   "cell_type": "markdown",
   "metadata": {},
   "source": [
    "# Chargement des données et nettoyage préliminaire"
   ]
  },
  {
   "cell_type": "markdown",
   "metadata": {},
   "source": [
    "## Chargement des surverses"
   ]
  },
  {
   "cell_type": "code",
   "execution_count": 3,
   "metadata": {},
   "outputs": [
    {
     "data": {
      "text/html": [
       "<table class=\"data-frame\"><thead><tr><th></th><th>NO_OUVRAGE</th><th>DATE</th><th>SURVERSE</th><th>RAISON</th></tr><tr><th></th><th>String</th><th>Date</th><th>Int64⍰</th><th>String⍰</th></tr></thead><tbody><p>5 rows × 4 columns</p><tr><th>1</th><td>0642-01D</td><td>2013-05-01</td><td>0</td><td>missing</td></tr><tr><th>2</th><td>0642-01D</td><td>2013-05-02</td><td>0</td><td>missing</td></tr><tr><th>3</th><td>0642-01D</td><td>2013-05-03</td><td>0</td><td>missing</td></tr><tr><th>4</th><td>0642-01D</td><td>2013-05-04</td><td>0</td><td>missing</td></tr><tr><th>5</th><td>0642-01D</td><td>2013-05-05</td><td>0</td><td>missing</td></tr></tbody></table>"
      ],
      "text/latex": [
       "\\begin{tabular}{r|cccc}\n",
       "\t& NO\\_OUVRAGE & DATE & SURVERSE & RAISON\\\\\n",
       "\t\\hline\n",
       "\t& String & Date & Int64⍰ & String⍰\\\\\n",
       "\t\\hline\n",
       "\t1 & 0642-01D & 2013-05-01 & 0 &  \\\\\n",
       "\t2 & 0642-01D & 2013-05-02 & 0 &  \\\\\n",
       "\t3 & 0642-01D & 2013-05-03 & 0 &  \\\\\n",
       "\t4 & 0642-01D & 2013-05-04 & 0 &  \\\\\n",
       "\t5 & 0642-01D & 2013-05-05 & 0 &  \\\\\n",
       "\\end{tabular}\n"
      ],
      "text/plain": [
       "5×4 DataFrame\n",
       "│ Row │ NO_OUVRAGE │ DATE       │ SURVERSE │ RAISON  │\n",
       "│     │ \u001b[90mString\u001b[39m     │ \u001b[90mDate\u001b[39m       │ \u001b[90mInt64⍰\u001b[39m   │ \u001b[90mString⍰\u001b[39m │\n",
       "├─────┼────────────┼────────────┼──────────┼─────────┤\n",
       "│ 1   │ 0642-01D   │ 2013-05-01 │ 0        │ \u001b[90mmissing\u001b[39m │\n",
       "│ 2   │ 0642-01D   │ 2013-05-02 │ 0        │ \u001b[90mmissing\u001b[39m │\n",
       "│ 3   │ 0642-01D   │ 2013-05-03 │ 0        │ \u001b[90mmissing\u001b[39m │\n",
       "│ 4   │ 0642-01D   │ 2013-05-04 │ 0        │ \u001b[90mmissing\u001b[39m │\n",
       "│ 5   │ 0642-01D   │ 2013-05-05 │ 0        │ \u001b[90mmissing\u001b[39m │"
      ]
     },
     "execution_count": 3,
     "metadata": {},
     "output_type": "execute_result"
    }
   ],
   "source": [
    "data = CSV.read(\"data/surverses.csv\",missingstring=\"-99999\")\n",
    "first(data,5)"
   ]
  },
  {
   "cell_type": "markdown",
   "metadata": {},
   "source": [
    "## Nettoyage des données sur les surverses\n",
    "\n",
    "#### Extraction des surverses pour les mois de mai à octobre inclusivement"
   ]
  },
  {
   "cell_type": "code",
   "execution_count": 4,
   "metadata": {},
   "outputs": [
    {
     "data": {
      "text/html": [
       "<table class=\"data-frame\"><thead><tr><th></th><th>NO_OUVRAGE</th><th>DATE</th><th>SURVERSE</th><th>RAISON</th></tr><tr><th></th><th>String</th><th>Date</th><th>Int64⍰</th><th>String⍰</th></tr></thead><tbody><p>5 rows × 4 columns</p><tr><th>1</th><td>0642-01D</td><td>2013-05-01</td><td>0</td><td>missing</td></tr><tr><th>2</th><td>0642-01D</td><td>2013-05-02</td><td>0</td><td>missing</td></tr><tr><th>3</th><td>0642-01D</td><td>2013-05-03</td><td>0</td><td>missing</td></tr><tr><th>4</th><td>0642-01D</td><td>2013-05-04</td><td>0</td><td>missing</td></tr><tr><th>5</th><td>0642-01D</td><td>2013-05-05</td><td>0</td><td>missing</td></tr></tbody></table>"
      ],
      "text/latex": [
       "\\begin{tabular}{r|cccc}\n",
       "\t& NO\\_OUVRAGE & DATE & SURVERSE & RAISON\\\\\n",
       "\t\\hline\n",
       "\t& String & Date & Int64⍰ & String⍰\\\\\n",
       "\t\\hline\n",
       "\t1 & 0642-01D & 2013-05-01 & 0 &  \\\\\n",
       "\t2 & 0642-01D & 2013-05-02 & 0 &  \\\\\n",
       "\t3 & 0642-01D & 2013-05-03 & 0 &  \\\\\n",
       "\t4 & 0642-01D & 2013-05-04 & 0 &  \\\\\n",
       "\t5 & 0642-01D & 2013-05-05 & 0 &  \\\\\n",
       "\\end{tabular}\n"
      ],
      "text/plain": [
       "5×4 DataFrame\n",
       "│ Row │ NO_OUVRAGE │ DATE       │ SURVERSE │ RAISON  │\n",
       "│     │ \u001b[90mString\u001b[39m     │ \u001b[90mDate\u001b[39m       │ \u001b[90mInt64⍰\u001b[39m   │ \u001b[90mString⍰\u001b[39m │\n",
       "├─────┼────────────┼────────────┼──────────┼─────────┤\n",
       "│ 1   │ 0642-01D   │ 2013-05-01 │ 0        │ \u001b[90mmissing\u001b[39m │\n",
       "│ 2   │ 0642-01D   │ 2013-05-02 │ 0        │ \u001b[90mmissing\u001b[39m │\n",
       "│ 3   │ 0642-01D   │ 2013-05-03 │ 0        │ \u001b[90mmissing\u001b[39m │\n",
       "│ 4   │ 0642-01D   │ 2013-05-04 │ 0        │ \u001b[90mmissing\u001b[39m │\n",
       "│ 5   │ 0642-01D   │ 2013-05-05 │ 0        │ \u001b[90mmissing\u001b[39m │"
      ]
     },
     "execution_count": 4,
     "metadata": {},
     "output_type": "execute_result"
    }
   ],
   "source": [
    "data = filter(row -> month(row.DATE) > 4, data) \n",
    "data = filter(row -> month(row.DATE) < 11, data) \n",
    "first(data,5)"
   ]
  },
  {
   "cell_type": "markdown",
   "metadata": {},
   "source": [
    "#### Remplacement des valeurs *missing* dans la colonne :RAISON par \"Inconnue\""
   ]
  },
  {
   "cell_type": "code",
   "execution_count": 5,
   "metadata": {},
   "outputs": [
    {
     "data": {
      "text/html": [
       "<table class=\"data-frame\"><thead><tr><th></th><th>NO_OUVRAGE</th><th>DATE</th><th>SURVERSE</th><th>RAISON</th></tr><tr><th></th><th>String</th><th>Date</th><th>Int64⍰</th><th>String</th></tr></thead><tbody><p>5 rows × 4 columns</p><tr><th>1</th><td>0642-01D</td><td>2013-05-01</td><td>0</td><td>Inconnue</td></tr><tr><th>2</th><td>0642-01D</td><td>2013-05-02</td><td>0</td><td>Inconnue</td></tr><tr><th>3</th><td>0642-01D</td><td>2013-05-03</td><td>0</td><td>Inconnue</td></tr><tr><th>4</th><td>0642-01D</td><td>2013-05-04</td><td>0</td><td>Inconnue</td></tr><tr><th>5</th><td>0642-01D</td><td>2013-05-05</td><td>0</td><td>Inconnue</td></tr></tbody></table>"
      ],
      "text/latex": [
       "\\begin{tabular}{r|cccc}\n",
       "\t& NO\\_OUVRAGE & DATE & SURVERSE & RAISON\\\\\n",
       "\t\\hline\n",
       "\t& String & Date & Int64⍰ & String\\\\\n",
       "\t\\hline\n",
       "\t1 & 0642-01D & 2013-05-01 & 0 & Inconnue \\\\\n",
       "\t2 & 0642-01D & 2013-05-02 & 0 & Inconnue \\\\\n",
       "\t3 & 0642-01D & 2013-05-03 & 0 & Inconnue \\\\\n",
       "\t4 & 0642-01D & 2013-05-04 & 0 & Inconnue \\\\\n",
       "\t5 & 0642-01D & 2013-05-05 & 0 & Inconnue \\\\\n",
       "\\end{tabular}\n"
      ],
      "text/plain": [
       "5×4 DataFrame\n",
       "│ Row │ NO_OUVRAGE │ DATE       │ SURVERSE │ RAISON   │\n",
       "│     │ \u001b[90mString\u001b[39m     │ \u001b[90mDate\u001b[39m       │ \u001b[90mInt64⍰\u001b[39m   │ \u001b[90mString\u001b[39m   │\n",
       "├─────┼────────────┼────────────┼──────────┼──────────┤\n",
       "│ 1   │ 0642-01D   │ 2013-05-01 │ 0        │ Inconnue │\n",
       "│ 2   │ 0642-01D   │ 2013-05-02 │ 0        │ Inconnue │\n",
       "│ 3   │ 0642-01D   │ 2013-05-03 │ 0        │ Inconnue │\n",
       "│ 4   │ 0642-01D   │ 2013-05-04 │ 0        │ Inconnue │\n",
       "│ 5   │ 0642-01D   │ 2013-05-05 │ 0        │ Inconnue │"
      ]
     },
     "execution_count": 5,
     "metadata": {},
     "output_type": "execute_result"
    }
   ],
   "source": [
    "raison = coalesce.(data[:,:RAISON],\"Inconnue\")\n",
    "data[!,:RAISON] = raison\n",
    "first(data,5)"
   ]
  },
  {
   "cell_type": "markdown",
   "metadata": {},
   "source": [
    "#### Exlusion des surverses coccasionnées par d'autres facteurs que les précipitations liquides\n",
    "\n",
    "Ces facteurs correspondent à : \n",
    "- la fonte de neige (F), \n",
    "- les travaux planifiés et entretien (TPL)\n",
    "- urgence (U)\n",
    "- autre (AUT)"
   ]
  },
  {
   "cell_type": "code",
   "execution_count": 6,
   "metadata": {},
   "outputs": [
    {
     "data": {
      "text/html": [
       "<table class=\"data-frame\"><thead><tr><th></th><th>NO_OUVRAGE</th><th>DATE</th><th>SURVERSE</th></tr><tr><th></th><th>String</th><th>Date</th><th>Int64⍰</th></tr></thead><tbody><p>5 rows × 3 columns</p><tr><th>1</th><td>0642-01D</td><td>2013-05-01</td><td>0</td></tr><tr><th>2</th><td>0642-01D</td><td>2013-05-02</td><td>0</td></tr><tr><th>3</th><td>0642-01D</td><td>2013-05-03</td><td>0</td></tr><tr><th>4</th><td>0642-01D</td><td>2013-05-04</td><td>0</td></tr><tr><th>5</th><td>0642-01D</td><td>2013-05-05</td><td>0</td></tr></tbody></table>"
      ],
      "text/latex": [
       "\\begin{tabular}{r|ccc}\n",
       "\t& NO\\_OUVRAGE & DATE & SURVERSE\\\\\n",
       "\t\\hline\n",
       "\t& String & Date & Int64⍰\\\\\n",
       "\t\\hline\n",
       "\t1 & 0642-01D & 2013-05-01 & 0 \\\\\n",
       "\t2 & 0642-01D & 2013-05-02 & 0 \\\\\n",
       "\t3 & 0642-01D & 2013-05-03 & 0 \\\\\n",
       "\t4 & 0642-01D & 2013-05-04 & 0 \\\\\n",
       "\t5 & 0642-01D & 2013-05-05 & 0 \\\\\n",
       "\\end{tabular}\n"
      ],
      "text/plain": [
       "5×3 DataFrame\n",
       "│ Row │ NO_OUVRAGE │ DATE       │ SURVERSE │\n",
       "│     │ \u001b[90mString\u001b[39m     │ \u001b[90mDate\u001b[39m       │ \u001b[90mInt64⍰\u001b[39m   │\n",
       "├─────┼────────────┼────────────┼──────────┤\n",
       "│ 1   │ 0642-01D   │ 2013-05-01 │ 0        │\n",
       "│ 2   │ 0642-01D   │ 2013-05-02 │ 0        │\n",
       "│ 3   │ 0642-01D   │ 2013-05-03 │ 0        │\n",
       "│ 4   │ 0642-01D   │ 2013-05-04 │ 0        │\n",
       "│ 5   │ 0642-01D   │ 2013-05-05 │ 0        │"
      ]
     },
     "execution_count": 6,
     "metadata": {},
     "output_type": "execute_result"
    }
   ],
   "source": [
    "data = filter(row -> row.RAISON ∈ [\"P\",\"Inconnue\",\"TS\"], data) \n",
    "select!(data, [:NO_OUVRAGE, :DATE, :SURVERSE])\n",
    "first(data,5)"
   ]
  },
  {
   "cell_type": "markdown",
   "metadata": {},
   "source": [
    "#### Exclusion des lignes où :SURVERSE est manquante"
   ]
  },
  {
   "cell_type": "code",
   "execution_count": 7,
   "metadata": {},
   "outputs": [
    {
     "data": {
      "text/html": [
       "<table class=\"data-frame\"><thead><tr><th></th><th>NO_OUVRAGE</th><th>DATE</th><th>SURVERSE</th></tr><tr><th></th><th>String</th><th>Date</th><th>Int64</th></tr></thead><tbody><p>5 rows × 3 columns</p><tr><th>1</th><td>0642-01D</td><td>2013-05-01</td><td>0</td></tr><tr><th>2</th><td>0642-01D</td><td>2013-05-02</td><td>0</td></tr><tr><th>3</th><td>0642-01D</td><td>2013-05-03</td><td>0</td></tr><tr><th>4</th><td>0642-01D</td><td>2013-05-04</td><td>0</td></tr><tr><th>5</th><td>0642-01D</td><td>2013-05-05</td><td>0</td></tr></tbody></table>"
      ],
      "text/latex": [
       "\\begin{tabular}{r|ccc}\n",
       "\t& NO\\_OUVRAGE & DATE & SURVERSE\\\\\n",
       "\t\\hline\n",
       "\t& String & Date & Int64\\\\\n",
       "\t\\hline\n",
       "\t1 & 0642-01D & 2013-05-01 & 0 \\\\\n",
       "\t2 & 0642-01D & 2013-05-02 & 0 \\\\\n",
       "\t3 & 0642-01D & 2013-05-03 & 0 \\\\\n",
       "\t4 & 0642-01D & 2013-05-04 & 0 \\\\\n",
       "\t5 & 0642-01D & 2013-05-05 & 0 \\\\\n",
       "\\end{tabular}\n"
      ],
      "text/plain": [
       "5×3 DataFrame\n",
       "│ Row │ NO_OUVRAGE │ DATE       │ SURVERSE │\n",
       "│     │ \u001b[90mString\u001b[39m     │ \u001b[90mDate\u001b[39m       │ \u001b[90mInt64\u001b[39m    │\n",
       "├─────┼────────────┼────────────┼──────────┤\n",
       "│ 1   │ 0642-01D   │ 2013-05-01 │ 0        │\n",
       "│ 2   │ 0642-01D   │ 2013-05-02 │ 0        │\n",
       "│ 3   │ 0642-01D   │ 2013-05-03 │ 0        │\n",
       "│ 4   │ 0642-01D   │ 2013-05-04 │ 0        │\n",
       "│ 5   │ 0642-01D   │ 2013-05-05 │ 0        │"
      ]
     },
     "execution_count": 7,
     "metadata": {},
     "output_type": "execute_result"
    }
   ],
   "source": [
    "surverse_df = dropmissing(data, disallowmissing=true)\n",
    "first(surverse_df,5)"
   ]
  },
  {
   "cell_type": "code",
   "execution_count": 8,
   "metadata": {},
   "outputs": [
    {
     "data": {
      "text/plain": [
       "\"surverse_df.csv\""
      ]
     },
     "execution_count": 8,
     "metadata": {},
     "output_type": "execute_result"
    }
   ],
   "source": [
    "CSV.write(\"surverse_df.csv\", surverse_df)"
   ]
  },
  {
   "cell_type": "markdown",
   "metadata": {},
   "source": [
    "## Chargement des précipitations"
   ]
  },
  {
   "cell_type": "code",
   "execution_count": 9,
   "metadata": {},
   "outputs": [
    {
     "data": {
      "text/html": [
       "<table class=\"data-frame\"><thead><tr><th></th><th>date</th><th>heure</th><th>McTavish</th><th>Bellevue</th><th>Assomption</th><th>Trudeau</th><th>StHubert</th></tr><tr><th></th><th>Date</th><th>Int64</th><th>Int64⍰</th><th>Int64⍰</th><th>Int64⍰</th><th>Int64⍰</th><th>Int64⍰</th></tr></thead><tbody><p>5 rows × 7 columns</p><tr><th>1</th><td>2013-01-01</td><td>0</td><td>0</td><td>0</td><td>0</td><td>0</td><td>missing</td></tr><tr><th>2</th><td>2013-01-01</td><td>1</td><td>0</td><td>0</td><td>0</td><td>0</td><td>missing</td></tr><tr><th>3</th><td>2013-01-01</td><td>2</td><td>0</td><td>0</td><td>0</td><td>0</td><td>missing</td></tr><tr><th>4</th><td>2013-01-01</td><td>3</td><td>0</td><td>0</td><td>0</td><td>0</td><td>missing</td></tr><tr><th>5</th><td>2013-01-01</td><td>4</td><td>0</td><td>0</td><td>0</td><td>0</td><td>missing</td></tr></tbody></table>"
      ],
      "text/latex": [
       "\\begin{tabular}{r|ccccccc}\n",
       "\t& date & heure & McTavish & Bellevue & Assomption & Trudeau & StHubert\\\\\n",
       "\t\\hline\n",
       "\t& Date & Int64 & Int64⍰ & Int64⍰ & Int64⍰ & Int64⍰ & Int64⍰\\\\\n",
       "\t\\hline\n",
       "\t1 & 2013-01-01 & 0 & 0 & 0 & 0 & 0 &  \\\\\n",
       "\t2 & 2013-01-01 & 1 & 0 & 0 & 0 & 0 &  \\\\\n",
       "\t3 & 2013-01-01 & 2 & 0 & 0 & 0 & 0 &  \\\\\n",
       "\t4 & 2013-01-01 & 3 & 0 & 0 & 0 & 0 &  \\\\\n",
       "\t5 & 2013-01-01 & 4 & 0 & 0 & 0 & 0 &  \\\\\n",
       "\\end{tabular}\n"
      ],
      "text/plain": [
       "5×7 DataFrame. Omitted printing of 1 columns\n",
       "│ Row │ date       │ heure │ McTavish │ Bellevue │ Assomption │ Trudeau │\n",
       "│     │ \u001b[90mDate\u001b[39m       │ \u001b[90mInt64\u001b[39m │ \u001b[90mInt64⍰\u001b[39m   │ \u001b[90mInt64⍰\u001b[39m   │ \u001b[90mInt64⍰\u001b[39m     │ \u001b[90mInt64⍰\u001b[39m  │\n",
       "├─────┼────────────┼───────┼──────────┼──────────┼────────────┼─────────┤\n",
       "│ 1   │ 2013-01-01 │ 0     │ 0        │ 0        │ 0          │ 0       │\n",
       "│ 2   │ 2013-01-01 │ 1     │ 0        │ 0        │ 0          │ 0       │\n",
       "│ 3   │ 2013-01-01 │ 2     │ 0        │ 0        │ 0          │ 0       │\n",
       "│ 4   │ 2013-01-01 │ 3     │ 0        │ 0        │ 0          │ 0       │\n",
       "│ 5   │ 2013-01-01 │ 4     │ 0        │ 0        │ 0          │ 0       │"
      ]
     },
     "execution_count": 9,
     "metadata": {},
     "output_type": "execute_result"
    }
   ],
   "source": [
    "data = CSV.read(\"data/precipitations.csv\",missingstring=\"-99999\")\n",
    "rename!(data, Symbol(\"St-Hubert\")=>:StHubert)\n",
    "first(data,5)"
   ]
  },
  {
   "cell_type": "markdown",
   "metadata": {},
   "source": [
    "## Nettoyage des données sur les précipitations\n",
    "\n",
    "#### Extraction des précipitations des mois de mai à octobre inclusivement"
   ]
  },
  {
   "cell_type": "code",
   "execution_count": 10,
   "metadata": {},
   "outputs": [
    {
     "data": {
      "text/html": [
       "<table class=\"data-frame\"><thead><tr><th></th><th>date</th><th>heure</th><th>McTavish</th><th>Bellevue</th><th>Assomption</th><th>Trudeau</th><th>StHubert</th></tr><tr><th></th><th>Date</th><th>Int64</th><th>Int64⍰</th><th>Int64⍰</th><th>Int64⍰</th><th>Int64⍰</th><th>Int64⍰</th></tr></thead><tbody><p>5 rows × 7 columns</p><tr><th>1</th><td>2013-05-01</td><td>0</td><td>0</td><td>0</td><td>0</td><td>0</td><td>missing</td></tr><tr><th>2</th><td>2013-05-01</td><td>1</td><td>0</td><td>0</td><td>0</td><td>0</td><td>missing</td></tr><tr><th>3</th><td>2013-05-01</td><td>2</td><td>0</td><td>0</td><td>0</td><td>0</td><td>missing</td></tr><tr><th>4</th><td>2013-05-01</td><td>3</td><td>0</td><td>0</td><td>0</td><td>0</td><td>missing</td></tr><tr><th>5</th><td>2013-05-01</td><td>4</td><td>0</td><td>0</td><td>0</td><td>0</td><td>missing</td></tr></tbody></table>"
      ],
      "text/latex": [
       "\\begin{tabular}{r|ccccccc}\n",
       "\t& date & heure & McTavish & Bellevue & Assomption & Trudeau & StHubert\\\\\n",
       "\t\\hline\n",
       "\t& Date & Int64 & Int64⍰ & Int64⍰ & Int64⍰ & Int64⍰ & Int64⍰\\\\\n",
       "\t\\hline\n",
       "\t1 & 2013-05-01 & 0 & 0 & 0 & 0 & 0 &  \\\\\n",
       "\t2 & 2013-05-01 & 1 & 0 & 0 & 0 & 0 &  \\\\\n",
       "\t3 & 2013-05-01 & 2 & 0 & 0 & 0 & 0 &  \\\\\n",
       "\t4 & 2013-05-01 & 3 & 0 & 0 & 0 & 0 &  \\\\\n",
       "\t5 & 2013-05-01 & 4 & 0 & 0 & 0 & 0 &  \\\\\n",
       "\\end{tabular}\n"
      ],
      "text/plain": [
       "5×7 DataFrame. Omitted printing of 1 columns\n",
       "│ Row │ date       │ heure │ McTavish │ Bellevue │ Assomption │ Trudeau │\n",
       "│     │ \u001b[90mDate\u001b[39m       │ \u001b[90mInt64\u001b[39m │ \u001b[90mInt64⍰\u001b[39m   │ \u001b[90mInt64⍰\u001b[39m   │ \u001b[90mInt64⍰\u001b[39m     │ \u001b[90mInt64⍰\u001b[39m  │\n",
       "├─────┼────────────┼───────┼──────────┼──────────┼────────────┼─────────┤\n",
       "│ 1   │ 2013-05-01 │ 0     │ 0        │ 0        │ 0          │ 0       │\n",
       "│ 2   │ 2013-05-01 │ 1     │ 0        │ 0        │ 0          │ 0       │\n",
       "│ 3   │ 2013-05-01 │ 2     │ 0        │ 0        │ 0          │ 0       │\n",
       "│ 4   │ 2013-05-01 │ 3     │ 0        │ 0        │ 0          │ 0       │\n",
       "│ 5   │ 2013-05-01 │ 4     │ 0        │ 0        │ 0          │ 0       │"
      ]
     },
     "execution_count": 10,
     "metadata": {},
     "output_type": "execute_result"
    }
   ],
   "source": [
    "data = filter(row -> month(row.date) > 4, data) \n",
    "data = filter(row -> month(row.date) < 11, data) \n",
    "first(data,5)"
   ]
  },
  {
   "cell_type": "markdown",
   "metadata": {},
   "source": [
    " ### Remplissage des données manquantes\n",
    "Nous allons tenter de remplir les données manquantes par des moyennes de précipitations lorsque les données sont inconnues pour 2 stations ou plus"
   ]
  },
  {
   "cell_type": "code",
   "execution_count": 11,
   "metadata": {},
   "outputs": [
    {
     "data": {
      "text/plain": [
       "countMissing (generic function with 1 method)"
      ]
     },
     "execution_count": 11,
     "metadata": {},
     "output_type": "execute_result"
    }
   ],
   "source": [
    "# fonction permettant de compter le nombre de valeurs du type \"missing\" dans une ligne\n",
    "function countMissing(line)\n",
    "    count=0\n",
    "    ind = 0\n",
    "    for i=1:length(line)\n",
    "        if (ismissing(line[i]))\n",
    "            count += 1\n",
    "            ind = i\n",
    "        end\n",
    "    end\n",
    "    return count, ind\n",
    "end"
   ]
  },
  {
   "cell_type": "code",
   "execution_count": 12,
   "metadata": {},
   "outputs": [
    {
     "data": {
      "text/plain": [
       "meanLine (generic function with 1 method)"
      ]
     },
     "execution_count": 12,
     "metadata": {},
     "output_type": "execute_result"
    }
   ],
   "source": [
    "# fonction permettant de calculer le moyenne des valeurs d'une ligne peu importe le nombre de \"missing\"\n",
    "function meanLine(line)\n",
    "    values = []\n",
    "    for i=1:length(line)\n",
    "        if (!ismissing(line[i]))\n",
    "            append!(values,line[i])\n",
    "        end\n",
    "    end\n",
    "    return mean(values)\n",
    "end"
   ]
  },
  {
   "cell_type": "code",
   "execution_count": 13,
   "metadata": {},
   "outputs": [
    {
     "data": {
      "text/plain": [
       "replaceMissing (generic function with 1 method)"
      ]
     },
     "execution_count": 13,
     "metadata": {},
     "output_type": "execute_result"
    }
   ],
   "source": [
    "# fonction permettant de remplacer toutes les valeurs \"missing\" d'une ligne avec la valeur donnée en parametre\n",
    "function replaceMissing(line,value)\n",
    "    n = length(line)\n",
    "    for i=1:n\n",
    "        if (ismissing(line[i]))\n",
    "            line[i] = value\n",
    "        end\n",
    "    end\n",
    "end"
   ]
  },
  {
   "cell_type": "markdown",
   "metadata": {},
   "source": [
    "## Fonctions pour calculer les coefficients d'une regression ridge\n",
    "Il faudra aussi retourner la moyenne et la variance pour déstandardizer les valeures"
   ]
  },
  {
   "cell_type": "code",
   "execution_count": 14,
   "metadata": {},
   "outputs": [
    {
     "data": {
      "text/plain": [
       "ridge (generic function with 1 method)"
      ]
     },
     "execution_count": 14,
     "metadata": {},
     "output_type": "execute_result"
    }
   ],
   "source": [
    "# Fonction pour faire une regression ridge\n",
    "# Ressort le beta, m, et s\n",
    "function ridge(datas::DataFrame, station::Symbol)\n",
    "       \n",
    "    Train, Test = splitdataframe(datas, .75);\n",
    "    # Prétraitement des données\n",
    "    # Les variables avec les tildes correspondent à l'échantillon de test\n",
    "\n",
    "    X = convert(Matrix{Int64},Train[:,Not(station)])\n",
    "    m = mean(X, dims=1)\n",
    "    s = std(X, dims=1)\n",
    "    m[2] = 0\n",
    "    s[2] = 1\n",
    "    X = (X .- m) ./ s\n",
    "\n",
    "    X̃ = convert(Matrix{Int64},Test[:,Not(station)])\n",
    "    X̃ = (X̃ .- m) ./ s\n",
    "\n",
    "    y = convert(Vector{Int64}, Train[:,station])\n",
    "    m = mean(y)\n",
    "    s = std(y)\n",
    "    y = (y .- m) ./s\n",
    "\n",
    "    ỹ = convert(Vector{Int64}, Test[:,station])\n",
    "    ỹ = (ỹ .- m) ./s;\n",
    "\n",
    "    #On calcule ensuite le RMSE pour chacun des valeurs de lambda\n",
    "    RMSEs = DataFrame(λ=Float64[], RMSE=Float64[])\n",
    "\n",
    "    for λ in 0:1:10000\n",
    "   \n",
    "        β̂ = (X'X + λ*I)\\X'y\n",
    "    \n",
    "        ŷ = X̃*β̂\n",
    "    \n",
    "        ẽ = ỹ - ŷ\n",
    "    \n",
    "        RMSE = sqrt(dot(ẽ,ẽ)/length(ẽ))\n",
    "    \n",
    "        push!(RMSEs, [λ, RMSE])\n",
    "    \n",
    "    end\n",
    "    \n",
    "    # On trouve ensuite la valeure de lambda qui minimise le RMSE\n",
    "    _, ind = findmin(RMSEs[:,:RMSE])\n",
    "\n",
    "    λ̂ = RMSEs[ind,:λ]\n",
    "    \n",
    "    β̂ = (X'X + λ̂*I)\\X'y\n",
    "    \n",
    "    #TODO validate model and print value of validator R² ajuste\n",
    "    \n",
    "    #On peut alors calculer les y avec les betas trouver et l'echantillon de test\n",
    "    ŷ = X̃ * β̂\n",
    "    ŷ = round.((ŷ .* s) .+ m)\n",
    "    \n",
    "    # Calcul du R² ajusté\n",
    "\n",
    "    p = 4          # nombre de variables explicatives\n",
    "    n = length(ỹ)  # taille de l'échantillon\n",
    "\n",
    "    ỹ = (ỹ .* s) .+ m\n",
    "    ȳ = mean(ỹ)\n",
    "    e = ỹ - ŷ\n",
    "\n",
    "    SST = sum( (ỹ[i] - ȳ)^2 for i=1:n )  # variabilité totale\n",
    "    SSE = sum( e.^2 )                    # variabilité résiduelle\n",
    "\n",
    "    R2aj =  1 - SSE/SST * (n-1)/(n-p)\n",
    "    \n",
    "    println(\"Le R² ajuste du modele trouve pour la station de $(station) est $(R2aj)\")\n",
    "    \n",
    "    return β̂\n",
    "end"
   ]
  },
  {
   "cell_type": "code",
   "execution_count": 15,
   "metadata": {},
   "outputs": [
    {
     "data": {
      "text/plain": [
       "(20001, 5)"
      ]
     },
     "execution_count": 15,
     "metadata": {},
     "output_type": "execute_result"
    }
   ],
   "source": [
    "full_data = dropmissing(data, disallowmissing=true)\n",
    "full_data = full_data[:,Not(:date)][:, Not(:heure)]\n",
    "size(full_data)"
   ]
  },
  {
   "cell_type": "code",
   "execution_count": 16,
   "metadata": {},
   "outputs": [
    {
     "name": "stdout",
     "output_type": "stream",
     "text": [
      "Le R² ajuste du modele trouve pour la station de McTavish est 0.562406392136992\n",
      "Le R² ajuste du modele trouve pour la station de Bellevue est 0.302488510815925\n",
      "Le R² ajuste du modele trouve pour la station de Assomption est 0.2327471493178589\n",
      "Le R² ajuste du modele trouve pour la station de Trudeau est 0.5673814588161323\n",
      "Le R² ajuste du modele trouve pour la station de StHubert est 0.5186502700924934\n"
     ]
    },
    {
     "data": {
      "text/html": [
       "<table class=\"data-frame\"><thead><tr><th></th><th>station</th><th>β</th></tr><tr><th></th><th>Symbol</th><th>Array…</th></tr></thead><tbody><p>5 rows × 2 columns</p><tr><th>1</th><td>McTavish</td><td>[0.0603683, 0.0180042, 0.310021, 0.464626]</td></tr><tr><th>2</th><td>Bellevue</td><td>[0.0803071, 0.00850951, 0.571074, 0.0520456]</td></tr><tr><th>3</th><td>Assomption</td><td>[0.205183, 0.00902556, 0.154182, 0.149968]</td></tr><tr><th>4</th><td>Trudeau</td><td>[0.378651, 0.0616915, 0.0512895, 0.0943693]</td></tr><tr><th>5</th><td>StHubert</td><td>[0.563172, 0.00466076, 0.097655, 0.0611672]</td></tr></tbody></table>"
      ],
      "text/latex": [
       "\\begin{tabular}{r|cc}\n",
       "\t& station & β\\\\\n",
       "\t\\hline\n",
       "\t& Symbol & Array…\\\\\n",
       "\t\\hline\n",
       "\t1 & McTavish & [0.0603683, 0.0180042, 0.310021, 0.464626] \\\\\n",
       "\t2 & Bellevue & [0.0803071, 0.00850951, 0.571074, 0.0520456] \\\\\n",
       "\t3 & Assomption & [0.205183, 0.00902556, 0.154182, 0.149968] \\\\\n",
       "\t4 & Trudeau & [0.378651, 0.0616915, 0.0512895, 0.0943693] \\\\\n",
       "\t5 & StHubert & [0.563172, 0.00466076, 0.097655, 0.0611672] \\\\\n",
       "\\end{tabular}\n"
      ],
      "text/plain": [
       "5×2 DataFrame\n",
       "│ Row │ station    │ β                                            │\n",
       "│     │ \u001b[90mSymbol\u001b[39m     │ \u001b[90mArray{Float64,N} where N\u001b[39m                     │\n",
       "├─────┼────────────┼──────────────────────────────────────────────┤\n",
       "│ 1   │ McTavish   │ [0.0603683, 0.0180042, 0.310021, 0.464626]   │\n",
       "│ 2   │ Bellevue   │ [0.0803071, 0.00850951, 0.571074, 0.0520456] │\n",
       "│ 3   │ Assomption │ [0.205183, 0.00902556, 0.154182, 0.149968]   │\n",
       "│ 4   │ Trudeau    │ [0.378651, 0.0616915, 0.0512895, 0.0943693]  │\n",
       "│ 5   │ StHubert   │ [0.563172, 0.00466076, 0.097655, 0.0611672]  │"
      ]
     },
     "execution_count": 16,
     "metadata": {},
     "output_type": "execute_result"
    }
   ],
   "source": [
    "betas = DataFrame(station = Symbol[], β = Array{Float64}[])\n",
    "for name in names(full_data)\n",
    "    β̂ = ridge(full_data, name)\n",
    "    push!(betas, [name, β̂])\n",
    "end\n",
    "betas"
   ]
  },
  {
   "cell_type": "markdown",
   "metadata": {},
   "source": [
    "### Faire le remplissage des valeurs manquantes"
   ]
  },
  {
   "cell_type": "code",
   "execution_count": 17,
   "metadata": {},
   "outputs": [
    {
     "data": {
      "text/html": [
       "<table class=\"data-frame\"><thead><tr><th></th><th>McTavish</th><th>Bellevue</th><th>Assomption</th><th>Trudeau</th><th>StHubert</th></tr><tr><th></th><th>Int64⍰</th><th>Int64⍰</th><th>Int64⍰</th><th>Int64⍰</th><th>Int64⍰</th></tr></thead><tbody><p>10 rows × 5 columns</p><tr><th>1</th><td>0</td><td>0</td><td>0</td><td>0</td><td>0</td></tr><tr><th>2</th><td>0</td><td>0</td><td>0</td><td>0</td><td>0</td></tr><tr><th>3</th><td>0</td><td>0</td><td>0</td><td>0</td><td>0</td></tr><tr><th>4</th><td>0</td><td>0</td><td>0</td><td>0</td><td>0</td></tr><tr><th>5</th><td>0</td><td>0</td><td>0</td><td>0</td><td>0</td></tr><tr><th>6</th><td>0</td><td>0</td><td>0</td><td>0</td><td>0</td></tr><tr><th>7</th><td>0</td><td>0</td><td>0</td><td>0</td><td>0</td></tr><tr><th>8</th><td>0</td><td>0</td><td>0</td><td>0</td><td>0</td></tr><tr><th>9</th><td>0</td><td>0</td><td>0</td><td>0</td><td>0</td></tr><tr><th>10</th><td>0</td><td>0</td><td>0</td><td>0</td><td>0</td></tr></tbody></table>"
      ],
      "text/latex": [
       "\\begin{tabular}{r|ccccc}\n",
       "\t& McTavish & Bellevue & Assomption & Trudeau & StHubert\\\\\n",
       "\t\\hline\n",
       "\t& Int64⍰ & Int64⍰ & Int64⍰ & Int64⍰ & Int64⍰\\\\\n",
       "\t\\hline\n",
       "\t1 & 0 & 0 & 0 & 0 & 0 \\\\\n",
       "\t2 & 0 & 0 & 0 & 0 & 0 \\\\\n",
       "\t3 & 0 & 0 & 0 & 0 & 0 \\\\\n",
       "\t4 & 0 & 0 & 0 & 0 & 0 \\\\\n",
       "\t5 & 0 & 0 & 0 & 0 & 0 \\\\\n",
       "\t6 & 0 & 0 & 0 & 0 & 0 \\\\\n",
       "\t7 & 0 & 0 & 0 & 0 & 0 \\\\\n",
       "\t8 & 0 & 0 & 0 & 0 & 0 \\\\\n",
       "\t9 & 0 & 0 & 0 & 0 & 0 \\\\\n",
       "\t10 & 0 & 0 & 0 & 0 & 0 \\\\\n",
       "\\end{tabular}\n"
      ],
      "text/plain": [
       "10×5 DataFrame\n",
       "│ Row │ McTavish │ Bellevue │ Assomption │ Trudeau │ StHubert │\n",
       "│     │ \u001b[90mInt64⍰\u001b[39m   │ \u001b[90mInt64⍰\u001b[39m   │ \u001b[90mInt64⍰\u001b[39m     │ \u001b[90mInt64⍰\u001b[39m  │ \u001b[90mInt64⍰\u001b[39m   │\n",
       "├─────┼──────────┼──────────┼────────────┼─────────┼──────────┤\n",
       "│ 1   │ 0        │ 0        │ 0          │ 0       │ 0        │\n",
       "│ 2   │ 0        │ 0        │ 0          │ 0       │ 0        │\n",
       "│ 3   │ 0        │ 0        │ 0          │ 0       │ 0        │\n",
       "│ 4   │ 0        │ 0        │ 0          │ 0       │ 0        │\n",
       "│ 5   │ 0        │ 0        │ 0          │ 0       │ 0        │\n",
       "│ 6   │ 0        │ 0        │ 0          │ 0       │ 0        │\n",
       "│ 7   │ 0        │ 0        │ 0          │ 0       │ 0        │\n",
       "│ 8   │ 0        │ 0        │ 0          │ 0       │ 0        │\n",
       "│ 9   │ 0        │ 0        │ 0          │ 0       │ 0        │\n",
       "│ 10  │ 0        │ 0        │ 0          │ 0       │ 0        │"
      ]
     },
     "execution_count": 17,
     "metadata": {},
     "output_type": "execute_result"
    }
   ],
   "source": [
    "n = length(data[:,:date])\n",
    "prec = data[:,Not(:date)][:,Not(:heure)]\n",
    "nbMissing = 0\n",
    "\n",
    "for row in eachrow(prec)\n",
    "    nbMissing, ind = countMissing(row)\n",
    "    if(nbMissing == 1)\n",
    "        row[ind] = round((convert(Vector{Float64},row[Not(ind)])'*betas[:, :β][ind]))\n",
    "    end\n",
    "    # remplacer les lignes qui ont de 2 a 4 missing\n",
    "    if(nbMissing<5 && nbMissing>1)\n",
    "        replaceMissing(row,round(meanLine(row)))\n",
    "    end\n",
    "end\n",
    "first(prec,10)"
   ]
  },
  {
   "cell_type": "code",
   "execution_count": 18,
   "metadata": {},
   "outputs": [
    {
     "data": {
      "text/html": [
       "<table class=\"data-frame\"><thead><tr><th></th><th>McTavish</th><th>Bellevue</th><th>Assomption</th><th>Trudeau</th><th>StHubert</th><th>heure</th><th>date</th></tr><tr><th></th><th>Int64⍰</th><th>Int64⍰</th><th>Int64⍰</th><th>Int64⍰</th><th>Int64⍰</th><th>Int64</th><th>Date</th></tr></thead><tbody><p>5 rows × 7 columns</p><tr><th>1</th><td>0</td><td>0</td><td>0</td><td>0</td><td>0</td><td>0</td><td>2013-05-01</td></tr><tr><th>2</th><td>0</td><td>0</td><td>0</td><td>0</td><td>0</td><td>1</td><td>2013-05-01</td></tr><tr><th>3</th><td>0</td><td>0</td><td>0</td><td>0</td><td>0</td><td>2</td><td>2013-05-01</td></tr><tr><th>4</th><td>0</td><td>0</td><td>0</td><td>0</td><td>0</td><td>3</td><td>2013-05-01</td></tr><tr><th>5</th><td>0</td><td>0</td><td>0</td><td>0</td><td>0</td><td>4</td><td>2013-05-01</td></tr></tbody></table>"
      ],
      "text/latex": [
       "\\begin{tabular}{r|ccccccc}\n",
       "\t& McTavish & Bellevue & Assomption & Trudeau & StHubert & heure & date\\\\\n",
       "\t\\hline\n",
       "\t& Int64⍰ & Int64⍰ & Int64⍰ & Int64⍰ & Int64⍰ & Int64 & Date\\\\\n",
       "\t\\hline\n",
       "\t1 & 0 & 0 & 0 & 0 & 0 & 0 & 2013-05-01 \\\\\n",
       "\t2 & 0 & 0 & 0 & 0 & 0 & 1 & 2013-05-01 \\\\\n",
       "\t3 & 0 & 0 & 0 & 0 & 0 & 2 & 2013-05-01 \\\\\n",
       "\t4 & 0 & 0 & 0 & 0 & 0 & 3 & 2013-05-01 \\\\\n",
       "\t5 & 0 & 0 & 0 & 0 & 0 & 4 & 2013-05-01 \\\\\n",
       "\\end{tabular}\n"
      ],
      "text/plain": [
       "5×7 DataFrame. Omitted printing of 1 columns\n",
       "│ Row │ McTavish │ Bellevue │ Assomption │ Trudeau │ StHubert │ heure │\n",
       "│     │ \u001b[90mInt64⍰\u001b[39m   │ \u001b[90mInt64⍰\u001b[39m   │ \u001b[90mInt64⍰\u001b[39m     │ \u001b[90mInt64⍰\u001b[39m  │ \u001b[90mInt64⍰\u001b[39m   │ \u001b[90mInt64\u001b[39m │\n",
       "├─────┼──────────┼──────────┼────────────┼─────────┼──────────┼───────┤\n",
       "│ 1   │ 0        │ 0        │ 0          │ 0       │ 0        │ 0     │\n",
       "│ 2   │ 0        │ 0        │ 0          │ 0       │ 0        │ 1     │\n",
       "│ 3   │ 0        │ 0        │ 0          │ 0       │ 0        │ 2     │\n",
       "│ 4   │ 0        │ 0        │ 0          │ 0       │ 0        │ 3     │\n",
       "│ 5   │ 0        │ 0        │ 0          │ 0       │ 0        │ 4     │"
      ]
     },
     "execution_count": 18,
     "metadata": {},
     "output_type": "execute_result"
    }
   ],
   "source": [
    "prec.heure = data[:,:heure]\n",
    "prec.date = data[:,:date]\n",
    "first(prec,5)"
   ]
  },
  {
   "cell_type": "code",
   "execution_count": 19,
   "metadata": {},
   "outputs": [
    {
     "data": {
      "text/plain": [
       "\"clean_values.csv\""
      ]
     },
     "execution_count": 19,
     "metadata": {},
     "output_type": "execute_result"
    }
   ],
   "source": [
    "clean_values = prec[: ,[:date, :heure, :McTavish, :Bellevue, :Assomption, :Trudeau, :StHubert]]\n",
    "CSV.write(\"clean_values.csv\",clean_values)"
   ]
  },
  {
   "cell_type": "markdown",
   "metadata": {},
   "source": [
    "# Calcul des max et des sums par jour"
   ]
  },
  {
   "cell_type": "code",
   "execution_count": 43,
   "metadata": {},
   "outputs": [
    {
     "data": {
      "text/html": [
       "<table class=\"data-frame\"><thead><tr><th></th><th>date</th><th>McTavish</th><th>Bellevue</th><th>Assomption</th><th>Trudeau</th><th>StHubert</th></tr><tr><th></th><th>Date</th><th>Int64⍰</th><th>Int64⍰</th><th>Int64⍰</th><th>Int64⍰</th><th>Int64⍰</th></tr></thead><tbody><p>10 rows × 6 columns</p><tr><th>1</th><td>2013-05-01</td><td>0</td><td>0</td><td>0</td><td>0</td><td>0</td></tr><tr><th>2</th><td>2013-05-02</td><td>0</td><td>0</td><td>0</td><td>0</td><td>0</td></tr><tr><th>3</th><td>2013-05-03</td><td>0</td><td>0</td><td>0</td><td>0</td><td>0</td></tr><tr><th>4</th><td>2013-05-04</td><td>0</td><td>0</td><td>0</td><td>0</td><td>0</td></tr><tr><th>5</th><td>2013-05-05</td><td>0</td><td>0</td><td>0</td><td>0</td><td>0</td></tr><tr><th>6</th><td>2013-05-06</td><td>0</td><td>0</td><td>0</td><td>0</td><td>0</td></tr><tr><th>7</th><td>2013-05-07</td><td>0</td><td>0</td><td>0</td><td>0</td><td>0</td></tr><tr><th>8</th><td>2013-05-08</td><td>0</td><td>0</td><td>0</td><td>0</td><td>0</td></tr><tr><th>9</th><td>2013-05-09</td><td>10</td><td>0</td><td>19</td><td>0</td><td>8</td></tr><tr><th>10</th><td>2013-05-10</td><td>0</td><td>4</td><td>20</td><td>0</td><td>2</td></tr></tbody></table>"
      ],
      "text/latex": [
       "\\begin{tabular}{r|cccccc}\n",
       "\t& date & McTavish & Bellevue & Assomption & Trudeau & StHubert\\\\\n",
       "\t\\hline\n",
       "\t& Date & Int64⍰ & Int64⍰ & Int64⍰ & Int64⍰ & Int64⍰\\\\\n",
       "\t\\hline\n",
       "\t1 & 2013-05-01 & 0 & 0 & 0 & 0 & 0 \\\\\n",
       "\t2 & 2013-05-02 & 0 & 0 & 0 & 0 & 0 \\\\\n",
       "\t3 & 2013-05-03 & 0 & 0 & 0 & 0 & 0 \\\\\n",
       "\t4 & 2013-05-04 & 0 & 0 & 0 & 0 & 0 \\\\\n",
       "\t5 & 2013-05-05 & 0 & 0 & 0 & 0 & 0 \\\\\n",
       "\t6 & 2013-05-06 & 0 & 0 & 0 & 0 & 0 \\\\\n",
       "\t7 & 2013-05-07 & 0 & 0 & 0 & 0 & 0 \\\\\n",
       "\t8 & 2013-05-08 & 0 & 0 & 0 & 0 & 0 \\\\\n",
       "\t9 & 2013-05-09 & 10 & 0 & 19 & 0 & 8 \\\\\n",
       "\t10 & 2013-05-10 & 0 & 4 & 20 & 0 & 2 \\\\\n",
       "\\end{tabular}\n"
      ],
      "text/plain": [
       "10×6 DataFrame\n",
       "│ Row │ date       │ McTavish │ Bellevue │ Assomption │ Trudeau │ StHubert │\n",
       "│     │ \u001b[90mDate\u001b[39m       │ \u001b[90mInt64⍰\u001b[39m   │ \u001b[90mInt64⍰\u001b[39m   │ \u001b[90mInt64⍰\u001b[39m     │ \u001b[90mInt64⍰\u001b[39m  │ \u001b[90mInt64⍰\u001b[39m   │\n",
       "├─────┼────────────┼──────────┼──────────┼────────────┼─────────┼──────────┤\n",
       "│ 1   │ 2013-05-01 │ 0        │ 0        │ 0          │ 0       │ 0        │\n",
       "│ 2   │ 2013-05-02 │ 0        │ 0        │ 0          │ 0       │ 0        │\n",
       "│ 3   │ 2013-05-03 │ 0        │ 0        │ 0          │ 0       │ 0        │\n",
       "│ 4   │ 2013-05-04 │ 0        │ 0        │ 0          │ 0       │ 0        │\n",
       "│ 5   │ 2013-05-05 │ 0        │ 0        │ 0          │ 0       │ 0        │\n",
       "│ 6   │ 2013-05-06 │ 0        │ 0        │ 0          │ 0       │ 0        │\n",
       "│ 7   │ 2013-05-07 │ 0        │ 0        │ 0          │ 0       │ 0        │\n",
       "│ 8   │ 2013-05-08 │ 0        │ 0        │ 0          │ 0       │ 0        │\n",
       "│ 9   │ 2013-05-09 │ 10       │ 0        │ 19         │ 0       │ 8        │\n",
       "│ 10  │ 2013-05-10 │ 0        │ 4        │ 20         │ 0       │ 2        │"
      ]
     },
     "execution_count": 43,
     "metadata": {},
     "output_type": "execute_result"
    }
   ],
   "source": [
    "pcp_sum = by(prec, :date,  McTavish = :McTavish=>sum, Bellevue = :Bellevue=>sum, \n",
    "   Assomption = :Assomption=>sum, Trudeau = :Trudeau=>sum, StHubert = :StHubert=>sum)\n",
    "first(pcp_sum ,10)"
   ]
  },
  {
   "cell_type": "markdown",
   "metadata": {},
   "source": [
    "#### Extraction du taux horaire journalier maximum des précipitations pour chacune des stations météorologiques"
   ]
  },
  {
   "cell_type": "code",
   "execution_count": 44,
   "metadata": {},
   "outputs": [
    {
     "data": {
      "text/html": [
       "<table class=\"data-frame\"><thead><tr><th></th><th>date</th><th>McTavish</th><th>Bellevue</th><th>Assomption</th><th>Trudeau</th><th>StHubert</th></tr><tr><th></th><th>Date</th><th>Int64⍰</th><th>Int64⍰</th><th>Int64⍰</th><th>Int64⍰</th><th>Int64⍰</th></tr></thead><tbody><p>10 rows × 6 columns</p><tr><th>1</th><td>2013-05-01</td><td>0</td><td>0</td><td>0</td><td>0</td><td>0</td></tr><tr><th>2</th><td>2013-05-02</td><td>0</td><td>0</td><td>0</td><td>0</td><td>0</td></tr><tr><th>3</th><td>2013-05-03</td><td>0</td><td>0</td><td>0</td><td>0</td><td>0</td></tr><tr><th>4</th><td>2013-05-04</td><td>0</td><td>0</td><td>0</td><td>0</td><td>0</td></tr><tr><th>5</th><td>2013-05-05</td><td>0</td><td>0</td><td>0</td><td>0</td><td>0</td></tr><tr><th>6</th><td>2013-05-06</td><td>0</td><td>0</td><td>0</td><td>0</td><td>0</td></tr><tr><th>7</th><td>2013-05-07</td><td>0</td><td>0</td><td>0</td><td>0</td><td>0</td></tr><tr><th>8</th><td>2013-05-08</td><td>0</td><td>0</td><td>0</td><td>0</td><td>0</td></tr><tr><th>9</th><td>2013-05-09</td><td>10</td><td>0</td><td>19</td><td>0</td><td>6</td></tr><tr><th>10</th><td>2013-05-10</td><td>0</td><td>4</td><td>20</td><td>0</td><td>2</td></tr></tbody></table>"
      ],
      "text/latex": [
       "\\begin{tabular}{r|cccccc}\n",
       "\t& date & McTavish & Bellevue & Assomption & Trudeau & StHubert\\\\\n",
       "\t\\hline\n",
       "\t& Date & Int64⍰ & Int64⍰ & Int64⍰ & Int64⍰ & Int64⍰\\\\\n",
       "\t\\hline\n",
       "\t1 & 2013-05-01 & 0 & 0 & 0 & 0 & 0 \\\\\n",
       "\t2 & 2013-05-02 & 0 & 0 & 0 & 0 & 0 \\\\\n",
       "\t3 & 2013-05-03 & 0 & 0 & 0 & 0 & 0 \\\\\n",
       "\t4 & 2013-05-04 & 0 & 0 & 0 & 0 & 0 \\\\\n",
       "\t5 & 2013-05-05 & 0 & 0 & 0 & 0 & 0 \\\\\n",
       "\t6 & 2013-05-06 & 0 & 0 & 0 & 0 & 0 \\\\\n",
       "\t7 & 2013-05-07 & 0 & 0 & 0 & 0 & 0 \\\\\n",
       "\t8 & 2013-05-08 & 0 & 0 & 0 & 0 & 0 \\\\\n",
       "\t9 & 2013-05-09 & 10 & 0 & 19 & 0 & 6 \\\\\n",
       "\t10 & 2013-05-10 & 0 & 4 & 20 & 0 & 2 \\\\\n",
       "\\end{tabular}\n"
      ],
      "text/plain": [
       "10×6 DataFrame\n",
       "│ Row │ date       │ McTavish │ Bellevue │ Assomption │ Trudeau │ StHubert │\n",
       "│     │ \u001b[90mDate\u001b[39m       │ \u001b[90mInt64⍰\u001b[39m   │ \u001b[90mInt64⍰\u001b[39m   │ \u001b[90mInt64⍰\u001b[39m     │ \u001b[90mInt64⍰\u001b[39m  │ \u001b[90mInt64⍰\u001b[39m   │\n",
       "├─────┼────────────┼──────────┼──────────┼────────────┼─────────┼──────────┤\n",
       "│ 1   │ 2013-05-01 │ 0        │ 0        │ 0          │ 0       │ 0        │\n",
       "│ 2   │ 2013-05-02 │ 0        │ 0        │ 0          │ 0       │ 0        │\n",
       "│ 3   │ 2013-05-03 │ 0        │ 0        │ 0          │ 0       │ 0        │\n",
       "│ 4   │ 2013-05-04 │ 0        │ 0        │ 0          │ 0       │ 0        │\n",
       "│ 5   │ 2013-05-05 │ 0        │ 0        │ 0          │ 0       │ 0        │\n",
       "│ 6   │ 2013-05-06 │ 0        │ 0        │ 0          │ 0       │ 0        │\n",
       "│ 7   │ 2013-05-07 │ 0        │ 0        │ 0          │ 0       │ 0        │\n",
       "│ 8   │ 2013-05-08 │ 0        │ 0        │ 0          │ 0       │ 0        │\n",
       "│ 9   │ 2013-05-09 │ 10       │ 0        │ 19         │ 0       │ 6        │\n",
       "│ 10  │ 2013-05-10 │ 0        │ 4        │ 20         │ 0       │ 2        │"
      ]
     },
     "execution_count": 44,
     "metadata": {},
     "output_type": "execute_result"
    }
   ],
   "source": [
    "pcp_max = by(prec, :date,  McTavish = :McTavish=>maximum, Bellevue = :Bellevue=>maximum, \n",
    "   Assomption = :Assomption=>maximum, Trudeau = :Trudeau=>maximum, StHubert = :StHubert=>maximum)\n",
    "first(pcp_max,10)"
   ]
  },
  {
   "cell_type": "markdown",
   "metadata": {},
   "source": [
    "### Fonction pour calculer la precision d'un modele"
   ]
  },
  {
   "cell_type": "code",
   "execution_count": 45,
   "metadata": {},
   "outputs": [
    {
     "data": {
      "text/plain": [
       "precision (generic function with 1 method)"
      ]
     },
     "execution_count": 45,
     "metadata": {},
     "output_type": "execute_result"
    }
   ],
   "source": [
    "function precision(model,test)\n",
    "    \n",
    "    reference = test[!,:Y]\n",
    "    predictions = GLM.predict(model,test)\n",
    "    n = length(predictions)\n",
    "    roundedPredictions = round.(predictions)\n",
    "    goodP = 0\n",
    "    badP = 0\n",
    "    for i=1:n\n",
    "        if roundedPredictions[i] == reference[i]\n",
    "            goodP +=1\n",
    "        else\n",
    "            badP +=1\n",
    "        end\n",
    "    end\n",
    "    println(\"succes = $goodP\")\n",
    "    println(\"failiure = $badP\")\n",
    "    percentage = goodP/n\n",
    "    println(\"accuracy = $percentage\")\n",
    "\n",
    "end"
   ]
  },
  {
   "cell_type": "markdown",
   "metadata": {},
   "source": [
    "### Fonction pour créer un modèle logistique"
   ]
  },
  {
   "cell_type": "code",
   "execution_count": 46,
   "metadata": {},
   "outputs": [
    {
     "data": {
      "text/plain": [
       "createDataEx (generic function with 1 method)"
      ]
     },
     "execution_count": 46,
     "metadata": {},
     "output_type": "execute_result"
    }
   ],
   "source": [
    "#fonction générique pour former un dataframe contenant les variables explicatives\n",
    "# Array of data contient les dataframes des va explicatives\n",
    "#list_of_va contient le type des données i.e [\"sum\" \"max\" ...]\n",
    "# surverse contient les données de surverse\n",
    "function createDataEx(array_of_data, list_of_va, surverse)\n",
    "    df = surverse\n",
    "    \n",
    "    for va in 1:length(list_of_va)\n",
    "        array = array_of_data[va]\n",
    "        McTavish = Array{Union{Missing, Int64}}(missing, size(df,1))\n",
    "        Bellevue = Array{Union{Missing, Int64}}(missing, size(df,1))\n",
    "        Assomption = Array{Union{Missing, Int64}}(missing, size(df,1))\n",
    "        Trudeau = Array{Union{Missing, Int64}}(missing, size(df,1))\n",
    "        StHubert = Array{Union{Missing, Int64}}(missing, size(df,1))\n",
    "        \n",
    "        for i=1:size(df,1)\n",
    "            ind = findfirst(array[:,:date] .== df[i,:DATE])\n",
    "            McTavish[i] = array[ind,:McTavish]\n",
    "            Bellevue[i] = array[ind,:Bellevue]\n",
    "            Assomption[i] = array[ind,:Assomption]\n",
    "            Trudeau[i] = array[ind,:Trudeau]\n",
    "            StHubert[i] = array[ind,:StHubert]\n",
    "        end\n",
    "        \n",
    "        df[!,Symbol(list_of_va[va] * \"McTavish\")] = McTavish\n",
    "        df[!,Symbol(list_of_va[va] * \"Bellevue\")] = Bellevue   \n",
    "        df[!,Symbol(list_of_va[va] * \"Assomption\")] = Assomption   \n",
    "        df[!,Symbol(list_of_va[va] * \"Trudeau\")] = Trudeau   \n",
    "        df[!,Symbol(list_of_va[va] * \"StHubert\")] = StHubert\n",
    "    end\n",
    "    \n",
    "    return df\n",
    "end"
   ]
  },
  {
   "cell_type": "code",
   "execution_count": 47,
   "metadata": {},
   "outputs": [
    {
     "data": {
      "text/plain": [
       "getOuvrage (generic function with 1 method)"
      ]
     },
     "execution_count": 47,
     "metadata": {},
     "output_type": "execute_result"
    }
   ],
   "source": [
    "#fonction pour filtrer un dataframe selon l<ouvrage\n",
    "function getOuvrage(data, ouvrage)\n",
    "    return filter(row -> row.NO_OUVRAGE == ouvrage, data)\n",
    "end"
   ]
  },
  {
   "cell_type": "code",
   "execution_count": 48,
   "metadata": {},
   "outputs": [
    {
     "data": {
      "text/html": [
       "<table class=\"data-frame\"><thead><tr><th></th><th>NO_OUVRAGE</th><th>DATE</th><th>SURVERSE</th><th>maxMcTavish</th><th>maxBellevue</th><th>maxAssomption</th><th>maxTrudeau</th></tr><tr><th></th><th>String</th><th>Date</th><th>Int64</th><th>Int64⍰</th><th>Int64⍰</th><th>Int64⍰</th><th>Int64⍰</th></tr></thead><tbody><p>161,098 rows × 13 columns (omitted printing of 6 columns)</p><tr><th>1</th><td>0642-01D</td><td>2013-05-01</td><td>0</td><td>0</td><td>0</td><td>0</td><td>0</td></tr><tr><th>2</th><td>0642-01D</td><td>2013-05-02</td><td>0</td><td>0</td><td>0</td><td>0</td><td>0</td></tr><tr><th>3</th><td>0642-01D</td><td>2013-05-03</td><td>0</td><td>0</td><td>0</td><td>0</td><td>0</td></tr><tr><th>4</th><td>0642-01D</td><td>2013-05-04</td><td>0</td><td>0</td><td>0</td><td>0</td><td>0</td></tr><tr><th>5</th><td>0642-01D</td><td>2013-05-05</td><td>0</td><td>0</td><td>0</td><td>0</td><td>0</td></tr><tr><th>6</th><td>0642-01D</td><td>2013-05-06</td><td>0</td><td>0</td><td>0</td><td>0</td><td>0</td></tr><tr><th>7</th><td>0642-01D</td><td>2013-05-07</td><td>0</td><td>0</td><td>0</td><td>0</td><td>0</td></tr><tr><th>8</th><td>0642-01D</td><td>2013-05-08</td><td>0</td><td>0</td><td>0</td><td>0</td><td>0</td></tr><tr><th>9</th><td>0642-01D</td><td>2013-05-09</td><td>0</td><td>10</td><td>0</td><td>19</td><td>0</td></tr><tr><th>10</th><td>0642-01D</td><td>2013-05-10</td><td>0</td><td>0</td><td>4</td><td>20</td><td>0</td></tr><tr><th>11</th><td>0642-01D</td><td>2013-05-11</td><td>0</td><td>39</td><td>33</td><td>60</td><td>57</td></tr><tr><th>12</th><td>0642-01D</td><td>2013-05-12</td><td>0</td><td>0</td><td>0</td><td>10</td><td>0</td></tr><tr><th>13</th><td>0642-01D</td><td>2013-05-13</td><td>0</td><td>10</td><td>0</td><td>0</td><td>0</td></tr><tr><th>14</th><td>0642-01D</td><td>2013-05-14</td><td>0</td><td>0</td><td>0</td><td>0</td><td>0</td></tr><tr><th>15</th><td>0642-01D</td><td>2013-05-15</td><td>0</td><td>16</td><td>0</td><td>10</td><td>10</td></tr><tr><th>16</th><td>0642-01D</td><td>2013-05-16</td><td>0</td><td>0</td><td>0</td><td>0</td><td>0</td></tr><tr><th>17</th><td>0642-01D</td><td>2013-05-17</td><td>0</td><td>0</td><td>0</td><td>0</td><td>0</td></tr><tr><th>18</th><td>0642-01D</td><td>2013-05-18</td><td>0</td><td>0</td><td>0</td><td>0</td><td>0</td></tr><tr><th>19</th><td>0642-01D</td><td>2013-05-19</td><td>0</td><td>12</td><td>11</td><td>0</td><td>14</td></tr><tr><th>20</th><td>0642-01D</td><td>2013-05-20</td><td>0</td><td>27</td><td>12</td><td>50</td><td>17</td></tr><tr><th>21</th><td>0642-01D</td><td>2013-05-21</td><td>0</td><td>16</td><td>28</td><td>30</td><td>21</td></tr><tr><th>22</th><td>0642-01D</td><td>2013-05-22</td><td>0</td><td>26</td><td>0</td><td>0</td><td>0</td></tr><tr><th>23</th><td>0642-01D</td><td>2013-05-23</td><td>0</td><td>144</td><td>63</td><td>80</td><td>54</td></tr><tr><th>24</th><td>0642-01D</td><td>2013-05-24</td><td>0</td><td>26</td><td>12</td><td>20</td><td>15</td></tr><tr><th>25</th><td>0642-01D</td><td>2013-05-25</td><td>0</td><td>22</td><td>13</td><td>30</td><td>18</td></tr><tr><th>26</th><td>0642-01D</td><td>2013-05-26</td><td>0</td><td>25</td><td>20</td><td>30</td><td>24</td></tr><tr><th>27</th><td>0642-01D</td><td>2013-05-27</td><td>0</td><td>0</td><td>0</td><td>0</td><td>0</td></tr><tr><th>28</th><td>0642-01D</td><td>2013-05-28</td><td>0</td><td>11</td><td>0</td><td>0</td><td>0</td></tr><tr><th>29</th><td>0642-01D</td><td>2013-05-29</td><td>0</td><td>75</td><td>43</td><td>30</td><td>67</td></tr><tr><th>30</th><td>0642-01D</td><td>2013-05-30</td><td>0</td><td>0</td><td>0</td><td>0</td><td>0</td></tr><tr><th>&vellip;</th><td>&vellip;</td><td>&vellip;</td><td>&vellip;</td><td>&vellip;</td><td>&vellip;</td><td>&vellip;</td><td>&vellip;</td></tr></tbody></table>"
      ],
      "text/latex": [
       "\\begin{tabular}{r|cccccccc}\n",
       "\t& NO\\_OUVRAGE & DATE & SURVERSE & maxMcTavish & maxBellevue & maxAssomption & maxTrudeau & \\\\\n",
       "\t\\hline\n",
       "\t& String & Date & Int64 & Int64⍰ & Int64⍰ & Int64⍰ & Int64⍰ & \\\\\n",
       "\t\\hline\n",
       "\t1 & 0642-01D & 2013-05-01 & 0 & 0 & 0 & 0 & 0 & $\\dots$ \\\\\n",
       "\t2 & 0642-01D & 2013-05-02 & 0 & 0 & 0 & 0 & 0 & $\\dots$ \\\\\n",
       "\t3 & 0642-01D & 2013-05-03 & 0 & 0 & 0 & 0 & 0 & $\\dots$ \\\\\n",
       "\t4 & 0642-01D & 2013-05-04 & 0 & 0 & 0 & 0 & 0 & $\\dots$ \\\\\n",
       "\t5 & 0642-01D & 2013-05-05 & 0 & 0 & 0 & 0 & 0 & $\\dots$ \\\\\n",
       "\t6 & 0642-01D & 2013-05-06 & 0 & 0 & 0 & 0 & 0 & $\\dots$ \\\\\n",
       "\t7 & 0642-01D & 2013-05-07 & 0 & 0 & 0 & 0 & 0 & $\\dots$ \\\\\n",
       "\t8 & 0642-01D & 2013-05-08 & 0 & 0 & 0 & 0 & 0 & $\\dots$ \\\\\n",
       "\t9 & 0642-01D & 2013-05-09 & 0 & 10 & 0 & 19 & 0 & $\\dots$ \\\\\n",
       "\t10 & 0642-01D & 2013-05-10 & 0 & 0 & 4 & 20 & 0 & $\\dots$ \\\\\n",
       "\t11 & 0642-01D & 2013-05-11 & 0 & 39 & 33 & 60 & 57 & $\\dots$ \\\\\n",
       "\t12 & 0642-01D & 2013-05-12 & 0 & 0 & 0 & 10 & 0 & $\\dots$ \\\\\n",
       "\t13 & 0642-01D & 2013-05-13 & 0 & 10 & 0 & 0 & 0 & $\\dots$ \\\\\n",
       "\t14 & 0642-01D & 2013-05-14 & 0 & 0 & 0 & 0 & 0 & $\\dots$ \\\\\n",
       "\t15 & 0642-01D & 2013-05-15 & 0 & 16 & 0 & 10 & 10 & $\\dots$ \\\\\n",
       "\t16 & 0642-01D & 2013-05-16 & 0 & 0 & 0 & 0 & 0 & $\\dots$ \\\\\n",
       "\t17 & 0642-01D & 2013-05-17 & 0 & 0 & 0 & 0 & 0 & $\\dots$ \\\\\n",
       "\t18 & 0642-01D & 2013-05-18 & 0 & 0 & 0 & 0 & 0 & $\\dots$ \\\\\n",
       "\t19 & 0642-01D & 2013-05-19 & 0 & 12 & 11 & 0 & 14 & $\\dots$ \\\\\n",
       "\t20 & 0642-01D & 2013-05-20 & 0 & 27 & 12 & 50 & 17 & $\\dots$ \\\\\n",
       "\t21 & 0642-01D & 2013-05-21 & 0 & 16 & 28 & 30 & 21 & $\\dots$ \\\\\n",
       "\t22 & 0642-01D & 2013-05-22 & 0 & 26 & 0 & 0 & 0 & $\\dots$ \\\\\n",
       "\t23 & 0642-01D & 2013-05-23 & 0 & 144 & 63 & 80 & 54 & $\\dots$ \\\\\n",
       "\t24 & 0642-01D & 2013-05-24 & 0 & 26 & 12 & 20 & 15 & $\\dots$ \\\\\n",
       "\t25 & 0642-01D & 2013-05-25 & 0 & 22 & 13 & 30 & 18 & $\\dots$ \\\\\n",
       "\t26 & 0642-01D & 2013-05-26 & 0 & 25 & 20 & 30 & 24 & $\\dots$ \\\\\n",
       "\t27 & 0642-01D & 2013-05-27 & 0 & 0 & 0 & 0 & 0 & $\\dots$ \\\\\n",
       "\t28 & 0642-01D & 2013-05-28 & 0 & 11 & 0 & 0 & 0 & $\\dots$ \\\\\n",
       "\t29 & 0642-01D & 2013-05-29 & 0 & 75 & 43 & 30 & 67 & $\\dots$ \\\\\n",
       "\t30 & 0642-01D & 2013-05-30 & 0 & 0 & 0 & 0 & 0 & $\\dots$ \\\\\n",
       "\t$\\dots$ & $\\dots$ & $\\dots$ & $\\dots$ & $\\dots$ & $\\dots$ & $\\dots$ & $\\dots$ &  \\\\\n",
       "\\end{tabular}\n"
      ],
      "text/plain": [
       "161098×13 DataFrame. Omitted printing of 8 columns\n",
       "│ Row    │ NO_OUVRAGE │ DATE       │ SURVERSE │ maxMcTavish │ maxBellevue │\n",
       "│        │ \u001b[90mString\u001b[39m     │ \u001b[90mDate\u001b[39m       │ \u001b[90mInt64\u001b[39m    │ \u001b[90mInt64⍰\u001b[39m      │ \u001b[90mInt64⍰\u001b[39m      │\n",
       "├────────┼────────────┼────────────┼──────────┼─────────────┼─────────────┤\n",
       "│ 1      │ 0642-01D   │ 2013-05-01 │ 0        │ 0           │ 0           │\n",
       "│ 2      │ 0642-01D   │ 2013-05-02 │ 0        │ 0           │ 0           │\n",
       "│ 3      │ 0642-01D   │ 2013-05-03 │ 0        │ 0           │ 0           │\n",
       "│ 4      │ 0642-01D   │ 2013-05-04 │ 0        │ 0           │ 0           │\n",
       "│ 5      │ 0642-01D   │ 2013-05-05 │ 0        │ 0           │ 0           │\n",
       "│ 6      │ 0642-01D   │ 2013-05-06 │ 0        │ 0           │ 0           │\n",
       "│ 7      │ 0642-01D   │ 2013-05-07 │ 0        │ 0           │ 0           │\n",
       "│ 8      │ 0642-01D   │ 2013-05-08 │ 0        │ 0           │ 0           │\n",
       "│ 9      │ 0642-01D   │ 2013-05-09 │ 0        │ 10          │ 0           │\n",
       "│ 10     │ 0642-01D   │ 2013-05-10 │ 0        │ 0           │ 4           │\n",
       "⋮\n",
       "│ 161088 │ 4795-01D   │ 2018-10-21 │ 0        │ 0           │ 0           │\n",
       "│ 161089 │ 4795-01D   │ 2018-10-22 │ 0        │ 0           │ 0           │\n",
       "│ 161090 │ 4795-01D   │ 2018-10-23 │ 0        │ 0           │ 0           │\n",
       "│ 161091 │ 4795-01D   │ 2018-10-24 │ 0        │ 7           │ 3           │\n",
       "│ 161092 │ 4795-01D   │ 2018-10-25 │ 0        │ 0           │ 0           │\n",
       "│ 161093 │ 4795-01D   │ 2018-10-26 │ 0        │ 0           │ 0           │\n",
       "│ 161094 │ 4795-01D   │ 2018-10-27 │ 0        │ 40          │ 20          │\n",
       "│ 161095 │ 4795-01D   │ 2018-10-28 │ 0        │ 21          │ 16          │\n",
       "│ 161096 │ 4795-01D   │ 2018-10-29 │ 0        │ 3           │ 2           │\n",
       "│ 161097 │ 4795-01D   │ 2018-10-30 │ 0        │ 0           │ 0           │\n",
       "│ 161098 │ 4795-01D   │ 2018-10-31 │ 0        │ 16          │ 15          │"
      ]
     },
     "execution_count": 48,
     "metadata": {},
     "output_type": "execute_result"
    }
   ],
   "source": [
    "createDataEx([ pcp_max, pcp_sum], [\"max\" \"sum\"], surverse_df)"
   ]
  },
  {
   "cell_type": "code",
   "execution_count": 49,
   "metadata": {},
   "outputs": [
    {
     "data": {
      "text/plain": [
       "modeleLogistique (generic function with 2 methods)"
      ]
     },
     "execution_count": 49,
     "metadata": {},
     "output_type": "execute_result"
    }
   ],
   "source": [
    "function modeleLogistique(ouvrage,data)\n",
    "    \n",
    "    \n",
    "    df = getOuvrage(data, ouvrage)     \n",
    "    dataframe = DataFrame(Y=df.SURVERSE, x₁=df.sumMcTavish,x₂=df.sumBellevue,x₃=df.sumAssomption,x₄=df.sumTrudeau,x₅=df.sumStHubert,x₆=df.maxMcTavish,x₇=df.maxBellevue,x₈=df.maxAssomption,x₉=df.maxTrudeau,x₁₀=df.maxStHubert)\n",
    "    dropmissing!(dataframe)\n",
    "    println(length(dataframe[:,:Y]))\n",
    "    train,test = splitdataframe(dataframe,0.80)\n",
    "    logicModel = glm(@formula(Y ~ x₁+x₂+x₃+x₅+x₆+x₇+x₈+x₉+x₁₀), train,  Bernoulli(), LogitLink())\n",
    "    precision(logicModel,test)\n",
    "    return logicModel, df\n",
    "    \n",
    "end"
   ]
  },
  {
   "cell_type": "code",
   "execution_count": 86,
   "metadata": {},
   "outputs": [
    {
     "name": "stderr",
     "output_type": "stream",
     "text": [
      "WARNING: redefining constant DecisionTreeClassifier\n"
     ]
    },
    {
     "data": {
      "text/plain": [
       "modeleArbreDecisif (generic function with 1 method)"
      ]
     },
     "execution_count": 86,
     "metadata": {},
     "output_type": "execute_result"
    }
   ],
   "source": [
    "@sk_import tree: DecisionTreeClassifier\n",
    "function modeleArbreDecisif(ouvrage, data)\n",
    "    \n",
    "    df = getOuvrage(data, ouvrage)\n",
    "    dropmissing!(df)\n",
    "    X = convert(Matrix{Int64}, df[:, Not([:NO_OUVRAGE, :SURVERSE, :DATE])])\n",
    "    Y = convert(Vector{Int64}, df[:, :SURVERSE])\n",
    "    return DecisionTreeClassifier().fit(X,Y)\n",
    "end"
   ]
  },
  {
   "cell_type": "code",
   "execution_count": 50,
   "metadata": {},
   "outputs": [
    {
     "name": "stdout",
     "output_type": "stream",
     "text": [
      "1099\n",
      "succes = 211\n",
      "failiure = 9\n",
      "accuracy = 0.9590909090909091\n",
      "1096\n",
      "succes = 210\n",
      "failiure = 9\n",
      "accuracy = 0.958904109589041\n",
      "729\n",
      "succes = 134\n",
      "failiure = 12\n",
      "accuracy = 0.9178082191780822\n",
      "1099\n",
      "succes = 214\n",
      "failiure = 6\n",
      "accuracy = 0.9727272727272728\n",
      "1102\n",
      "succes = 208\n",
      "failiure = 12\n",
      "accuracy = 0.9454545454545454\n"
     ]
    },
    {
     "data": {
      "text/plain": [
       "(StatsModels.TableRegressionModel{GeneralizedLinearModel{GLM.GlmResp{Array{Float64,1},Bernoulli{Float64},LogitLink},GLM.DensePredChol{Float64,Cholesky{Float64,Array{Float64,2}}}},Array{Float64,2}}\n",
       "\n",
       "Y ~ 1 + x₁ + x₂ + x₃ + x₅ + x₆ + x₇ + x₈ + x₉ + x₁₀\n",
       "\n",
       "Coefficients:\n",
       "──────────────────────────────────────────────────────────────────────────────────────\n",
       "                 Estimate  Std. Error      z value  Pr(>|z|)    Lower 95%    Upper 95%\n",
       "──────────────────────────────────────────────────────────────────────────────────────\n",
       "(Intercept)  -5.19416      0.403478    -12.8735       <1e-37  -5.98496     -4.40336   \n",
       "x₁            0.000639445  0.00883189    0.0724018    0.9423  -0.0166707    0.0179496 \n",
       "x₂           -0.00779066   0.00599816   -1.29884      0.1940  -0.0195468    0.00396552\n",
       "x₃            0.0107324    0.00550761    1.94866      0.0513  -6.2285e-5    0.0215272 \n",
       "x₅            0.0205377    0.0112834     1.82018      0.0687  -0.00157725   0.0426527 \n",
       "x₆           -0.0147056    0.0106886    -1.37582      0.1689  -0.0356549    0.00624374\n",
       "x₇            0.0199634    0.00932772    2.14022      0.0323   0.00168138   0.0382454 \n",
       "x₈           -0.0178967    0.0100642    -1.77826      0.0754  -0.0376221    0.00182871\n",
       "x₉            0.0327077    0.00734996    4.45005      <1e-5    0.018302     0.0471133 \n",
       "x₁₀           0.00815331   0.0149491     0.545404     0.5855  -0.0211465    0.0374531 \n",
       "──────────────────────────────────────────────────────────────────────────────────────, 1103×13 DataFrame. Omitted printing of 8 columns\n",
       "│ Row  │ NO_OUVRAGE │ DATE       │ SURVERSE │ maxMcTavish │ maxBellevue │\n",
       "│      │ \u001b[90mString\u001b[39m     │ \u001b[90mDate\u001b[39m       │ \u001b[90mInt64\u001b[39m    │ \u001b[90mInt64⍰\u001b[39m      │ \u001b[90mInt64⍰\u001b[39m      │\n",
       "├──────┼────────────┼────────────┼──────────┼─────────────┼─────────────┤\n",
       "│ 1    │ 4380-01D   │ 2013-05-01 │ 0        │ 0           │ 0           │\n",
       "│ 2    │ 4380-01D   │ 2013-05-02 │ 0        │ 0           │ 0           │\n",
       "│ 3    │ 4380-01D   │ 2013-05-03 │ 0        │ 0           │ 0           │\n",
       "│ 4    │ 4380-01D   │ 2013-05-04 │ 0        │ 0           │ 0           │\n",
       "│ 5    │ 4380-01D   │ 2013-05-05 │ 0        │ 0           │ 0           │\n",
       "│ 6    │ 4380-01D   │ 2013-05-06 │ 0        │ 0           │ 0           │\n",
       "│ 7    │ 4380-01D   │ 2013-05-07 │ 0        │ 0           │ 0           │\n",
       "│ 8    │ 4380-01D   │ 2013-05-08 │ 0        │ 0           │ 0           │\n",
       "│ 9    │ 4380-01D   │ 2013-05-09 │ 0        │ 10          │ 0           │\n",
       "│ 10   │ 4380-01D   │ 2013-05-10 │ 0        │ 0           │ 4           │\n",
       "⋮\n",
       "│ 1093 │ 4380-01D   │ 2018-10-21 │ 0        │ 0           │ 0           │\n",
       "│ 1094 │ 4380-01D   │ 2018-10-22 │ 0        │ 0           │ 0           │\n",
       "│ 1095 │ 4380-01D   │ 2018-10-23 │ 0        │ 0           │ 0           │\n",
       "│ 1096 │ 4380-01D   │ 2018-10-24 │ 0        │ 7           │ 3           │\n",
       "│ 1097 │ 4380-01D   │ 2018-10-25 │ 0        │ 0           │ 0           │\n",
       "│ 1098 │ 4380-01D   │ 2018-10-26 │ 0        │ 0           │ 0           │\n",
       "│ 1099 │ 4380-01D   │ 2018-10-27 │ 0        │ 40          │ 20          │\n",
       "│ 1100 │ 4380-01D   │ 2018-10-28 │ 0        │ 21          │ 16          │\n",
       "│ 1101 │ 4380-01D   │ 2018-10-29 │ 0        │ 3           │ 2           │\n",
       "│ 1102 │ 4380-01D   │ 2018-10-30 │ 0        │ 0           │ 0           │\n",
       "│ 1103 │ 4380-01D   │ 2018-10-31 │ 0        │ 16          │ 15          │)"
      ]
     },
     "execution_count": 50,
     "metadata": {},
     "output_type": "execute_result"
    }
   ],
   "source": [
    "va_table = createDataEx([ pcp_max, pcp_sum], [\"max\" \"sum\"], surverse_df)\n",
    "Mvieuxmtl = modeleLogistique(\"4350-01D\",va_table)\n",
    "Mrdesp = modeleLogistique(\"3260-01D\",va_table)\n",
    "Mahunstic = modeleLogistique(\"3350-07D\",va_table)\n",
    "Mpauxt = modeleLogistique(\"4240-01D\",va_table)\n",
    "Mverdun = modeleLogistique(\"4380-01D\",va_table)"
   ]
  },
  {
   "cell_type": "code",
   "execution_count": 78,
   "metadata": {},
   "outputs": [
    {
     "data": {
      "text/plain": [
       "PyObject DecisionTreeClassifier(class_weight=None, criterion='gini', max_depth=None,\n",
       "            max_features=None, max_leaf_nodes=None,\n",
       "            min_impurity_decrease=0.0, min_impurity_split=None,\n",
       "            min_samples_leaf=1, min_samples_split=2,\n",
       "            min_weight_fraction_leaf=0.0, presort=False, random_state=None,\n",
       "            splitter='best')"
      ]
     },
     "execution_count": 78,
     "metadata": {},
     "output_type": "execute_result"
    }
   ],
   "source": [
    "MvieuxmtlT = modeleArbreDecisif(\"4350-01D\",va_table)\n",
    "MrdespT = modeleArbreDecisif(\"3260-01D\",va_table)\n",
    "MahunsticT = modeleArbreDecisif(\"3350-07D\",va_table)\n",
    "MpauxtT = modeleArbreDecisif(\"4240-01D\",va_table)\n",
    "MverdunT = modeleArbreDecisif(\"4380-01D\",va_table)"
   ]
  },
  {
   "cell_type": "code",
   "execution_count": 91,
   "metadata": {},
   "outputs": [
    {
     "ename": "TypeError",
     "evalue": "TypeError: in Type, in parameter, expected Type, got Pair{String,PyCall.PyObject}",
     "output_type": "error",
     "traceback": [
      "TypeError: in Type, in parameter, expected Type, got Pair{String,PyCall.PyObject}",
      "",
      "Stacktrace:",
      " [1] top-level scope at In[91]:1"
     ]
    }
   ],
   "source": [
    "#Store models in Dict for easier acces DID NOT WORK\n",
    "#modelsDict = Dict{\"4350-01D\" => Mvieuxmtl, \"3260-01D\"=>Mrdesp, \"3350-07D\"=>Mahunstic, \"4240-01D\"=>Mpauxt, \"4380-01D\"=>Mverdun}"
   ]
  },
  {
   "cell_type": "markdown",
   "metadata": {},
   "source": [
    "#### Inclusion dans un dataframe de ces deux variables explicatives potentielles"
   ]
  },
  {
   "cell_type": "code",
   "execution_count": null,
   "metadata": {},
   "outputs": [],
   "source": [
    "# ouvrage = \"4350-01D\"\n",
    "\n",
    "# df = filter(row -> row.NO_OUVRAGE == ouvrage, surverse_df)\n",
    "\n",
    "# x₁ = Array{Union{Missing, Int64}}(missing, size(df,1)) # var somme journalière--McTavish\n",
    "# x₂ = Array{Union{Missing, Int64}}(missing, size(df,1)) # var max journalier-----McTavish\n",
    "# x₃ = Array{Union{Missing, Int64}}(missing, size(df,1)) # var somme journalière--Bellevue\n",
    "# x₄ = Array{Union{Missing, Int64}}(missing, size(df,1)) # var max journalier-----Bellevue\n",
    "# x₅ = Array{Union{Missing, Int64}}(missing, size(df,1)) # var somme journalière--\n",
    "# x₆ = Array{Union{Missing, Int64}}(missing, size(df,1)) # var max journalier-----\n",
    "# x₇ = Array{Union{Missing, Int64}}(missing, size(df,1)) # var somme journalière\n",
    "# x₈ = Array{Union{Missing, Int64}}(missing, size(df,1)) # var max journalier\n",
    "# x₉ = Array{Union{Missing, Int64}}(missing, size(df,1)) # var somme journalière\n",
    "# x₁₀ = Array{Union{Missing, Int64}}(missing, size(df,1)) # var max journalier\n",
    "\n",
    "\n",
    "\n",
    "# for i=1:size(df,1)\n",
    "    \n",
    "#     ind = findfirst(pcp_sum[:,:date] .== df[i,:DATE])\n",
    "#     x₁[i] = pcp_sum[ind,:McTavish]\n",
    "#     ind = findfirst(pcp_max[:,:date] .== df[i,:DATE])\n",
    "#     x₂[i] = pcp_max[ind,:McTavish]\n",
    "    \n",
    "#     ind = findfirst(pcp_sum[:,:date] .== df[i,:DATE])\n",
    "#     x₃[i] = pcp_sum[ind,:Bellevue]\n",
    "#     ind = findfirst(pcp_max[:,:date] .== df[i,:DATE])\n",
    "#     x₄[i] = pcp_max[ind,:Bellevue]\n",
    "    \n",
    "#     ind = findfirst(pcp_sum[:,:date] .== df[i,:DATE])\n",
    "#     x₅[i] = pcp_sum[ind,:Assomption]\n",
    "#     ind = findfirst(pcp_max[:,:date] .== df[i,:DATE])\n",
    "#     x₆[i] = pcp_max[ind,:Assomption]\n",
    "    \n",
    "#     ind = findfirst(pcp_sum[:,:date] .== df[i,:DATE])\n",
    "#     x₇[i] = pcp_sum[ind,:Trudeau]\n",
    "#     ind = findfirst(pcp_max[:,:date] .== df[i,:DATE])\n",
    "#     x₈[i] = pcp_max[ind,:Trudeau]\n",
    "    \n",
    "#     ind = findfirst(pcp_sum[:,:date] .== df[i,:DATE])\n",
    "#     x₉[i] = pcp_sum[ind,:StHubert]\n",
    "#     ind = findfirst(pcp_max[:,:date] .== df[i,:DATE])\n",
    "#     x₁₀[i] = pcp_max[ind,:StHubert]\n",
    "    \n",
    "# end\n",
    "\n",
    "# df[!,:sumMcTavish] = x₁\n",
    "# df[!,:maxMcTavish] = x₂\n",
    "# df[!,:sumBellevue] = x₃\n",
    "# df[!,:maxBellevue] = x₄\n",
    "# df[!,:sumAssomption] = x₅\n",
    "# df[!,:maxAssomption] = x₆\n",
    "# df[!,:sumTrudeau] = x₇\n",
    "# df[!,:maxTrudeau] = x₈\n",
    "# df[!,:sumStHubert] = x₉\n",
    "# df[!,:maxStHubert] = x₁₀\n",
    "\n",
    "\n",
    "# #dropmissing!(df, [:SUM, :MAX],disallowmissing=true)\n",
    "# first(df,10)"
   ]
  },
  {
   "cell_type": "markdown",
   "metadata": {},
   "source": [
    "#### Traçage des distribution de la somme des précipitations en fonction des surverses ou non\n",
    "\n",
    "On remarque que les deux distributions sont très différentes. Ceci suggère que la somme des précipitations à la station McTavish a un effet sur les surverses au Bota-Bota."
   ]
  },
  {
   "cell_type": "code",
   "execution_count": null,
   "metadata": {},
   "outputs": [],
   "source": [
    "#plot(df, x=:SURVERSE, y=:SUM, Geom.boxplot)"
   ]
  },
  {
   "cell_type": "markdown",
   "metadata": {},
   "source": [
    "#### Traçage des distribution de la somme des précipitations en fonction des surverses ou non\n",
    "\n",
    "On remarque que les deux distributions sont très différentes. Ceci suggère que le maximum journalier des précipitations à la station McTavish a un effet sur les surverses au Bota-Bota."
   ]
  },
  {
   "cell_type": "code",
   "execution_count": null,
   "metadata": {},
   "outputs": [],
   "source": [
    "#plot(df, x=:SURVERSE, y=:MAX, Geom.boxplot)"
   ]
  },
  {
   "cell_type": "markdown",
   "metadata": {},
   "source": [
    "## Mise en place des valeurs cherchees "
   ]
  },
  {
   "cell_type": "code",
   "execution_count": 82,
   "metadata": {},
   "outputs": [
    {
     "data": {
      "text/html": [
       "<table class=\"data-frame\"><thead><tr><th></th><th>NO_OUVRAGE</th><th>date</th><th>maxMcTavish</th><th>maxBellevue</th><th>maxAssomption</th><th>maxTrudeau</th><th>maxStHubert</th></tr><tr><th></th><th>String</th><th>Date</th><th>Int64⍰</th><th>Int64⍰</th><th>Int64⍰</th><th>Int64⍰</th><th>Int64⍰</th></tr></thead><tbody><p>283 rows × 12 columns (omitted printing of 5 columns)</p><tr><th>1</th><td>3260-01D</td><td>2019-05-02</td><td>12</td><td>7</td><td>7</td><td>8</td><td>10</td></tr><tr><th>2</th><td>3260-01D</td><td>2019-05-09</td><td>45</td><td>26</td><td>55</td><td>43</td><td>32</td></tr><tr><th>3</th><td>3260-01D</td><td>2019-05-10</td><td>66</td><td>48</td><td>50</td><td>48</td><td>50</td></tr><tr><th>4</th><td>3260-01D</td><td>2019-05-15</td><td>2</td><td>0</td><td>0</td><td>0</td><td>0</td></tr><tr><th>5</th><td>3260-01D</td><td>2019-05-20</td><td>40</td><td>5</td><td>27</td><td>51</td><td>38</td></tr><tr><th>6</th><td>3260-01D</td><td>2019-05-23</td><td>63</td><td>44</td><td>186</td><td>66</td><td>99</td></tr><tr><th>7</th><td>3260-01D</td><td>2019-05-24</td><td>9</td><td>4</td><td>12</td><td>6</td><td>12</td></tr><tr><th>8</th><td>3260-01D</td><td>2019-05-26</td><td>3</td><td>2</td><td>21</td><td>3</td><td>5</td></tr><tr><th>9</th><td>3260-01D</td><td>2019-05-30</td><td>7</td><td>7</td><td>10</td><td>12</td><td>10</td></tr><tr><th>10</th><td>3350-07D</td><td>2019-05-01</td><td>24</td><td>24</td><td>15</td><td>21</td><td>22</td></tr><tr><th>11</th><td>3350-07D</td><td>2019-05-02</td><td>12</td><td>7</td><td>7</td><td>8</td><td>10</td></tr><tr><th>12</th><td>3350-07D</td><td>2019-05-08</td><td>0</td><td>0</td><td>0</td><td>0</td><td>0</td></tr><tr><th>13</th><td>3350-07D</td><td>2019-05-09</td><td>45</td><td>26</td><td>55</td><td>43</td><td>32</td></tr><tr><th>14</th><td>3350-07D</td><td>2019-05-10</td><td>66</td><td>48</td><td>50</td><td>48</td><td>50</td></tr><tr><th>15</th><td>3350-07D</td><td>2019-05-11</td><td>2</td><td>0</td><td>0</td><td>0</td><td>0</td></tr><tr><th>16</th><td>3350-07D</td><td>2019-05-13</td><td>18</td><td>14</td><td>0</td><td>9</td><td>5</td></tr><tr><th>17</th><td>3350-07D</td><td>2019-05-14</td><td>22</td><td>21</td><td>25</td><td>18</td><td>15</td></tr><tr><th>18</th><td>3350-07D</td><td>2019-05-18</td><td>0</td><td>0</td><td>0</td><td>2</td><td>0</td></tr><tr><th>19</th><td>3350-07D</td><td>2019-05-19</td><td>23</td><td>32</td><td>16</td><td>27</td><td>25</td></tr><tr><th>20</th><td>3350-07D</td><td>2019-05-20</td><td>40</td><td>5</td><td>27</td><td>51</td><td>38</td></tr><tr><th>21</th><td>3350-07D</td><td>2019-05-23</td><td>63</td><td>44</td><td>186</td><td>66</td><td>99</td></tr><tr><th>22</th><td>3350-07D</td><td>2019-05-24</td><td>9</td><td>4</td><td>12</td><td>6</td><td>12</td></tr><tr><th>23</th><td>3350-07D</td><td>2019-05-25</td><td>0</td><td>1</td><td>7</td><td>2</td><td>2</td></tr><tr><th>24</th><td>3350-07D</td><td>2019-05-27</td><td>0</td><td>0</td><td>0</td><td>0</td><td>0</td></tr><tr><th>25</th><td>3350-07D</td><td>2019-05-31</td><td>2</td><td>3</td><td>0</td><td>5</td><td>5</td></tr><tr><th>26</th><td>4240-01D</td><td>2019-05-07</td><td>3</td><td>0</td><td>0</td><td>0</td><td>0</td></tr><tr><th>27</th><td>4240-01D</td><td>2019-05-09</td><td>45</td><td>26</td><td>55</td><td>43</td><td>32</td></tr><tr><th>28</th><td>4240-01D</td><td>2019-05-10</td><td>66</td><td>48</td><td>50</td><td>48</td><td>50</td></tr><tr><th>29</th><td>4240-01D</td><td>2019-05-15</td><td>2</td><td>0</td><td>0</td><td>0</td><td>0</td></tr><tr><th>30</th><td>4240-01D</td><td>2019-05-21</td><td>0</td><td>0</td><td>3</td><td>2</td><td>0</td></tr><tr><th>&vellip;</th><td>&vellip;</td><td>&vellip;</td><td>&vellip;</td><td>&vellip;</td><td>&vellip;</td><td>&vellip;</td><td>&vellip;</td></tr></tbody></table>"
      ],
      "text/latex": [
       "\\begin{tabular}{r|cccccccc}\n",
       "\t& NO\\_OUVRAGE & date & maxMcTavish & maxBellevue & maxAssomption & maxTrudeau & maxStHubert & \\\\\n",
       "\t\\hline\n",
       "\t& String & Date & Int64⍰ & Int64⍰ & Int64⍰ & Int64⍰ & Int64⍰ & \\\\\n",
       "\t\\hline\n",
       "\t1 & 3260-01D & 2019-05-02 & 12 & 7 & 7 & 8 & 10 & $\\dots$ \\\\\n",
       "\t2 & 3260-01D & 2019-05-09 & 45 & 26 & 55 & 43 & 32 & $\\dots$ \\\\\n",
       "\t3 & 3260-01D & 2019-05-10 & 66 & 48 & 50 & 48 & 50 & $\\dots$ \\\\\n",
       "\t4 & 3260-01D & 2019-05-15 & 2 & 0 & 0 & 0 & 0 & $\\dots$ \\\\\n",
       "\t5 & 3260-01D & 2019-05-20 & 40 & 5 & 27 & 51 & 38 & $\\dots$ \\\\\n",
       "\t6 & 3260-01D & 2019-05-23 & 63 & 44 & 186 & 66 & 99 & $\\dots$ \\\\\n",
       "\t7 & 3260-01D & 2019-05-24 & 9 & 4 & 12 & 6 & 12 & $\\dots$ \\\\\n",
       "\t8 & 3260-01D & 2019-05-26 & 3 & 2 & 21 & 3 & 5 & $\\dots$ \\\\\n",
       "\t9 & 3260-01D & 2019-05-30 & 7 & 7 & 10 & 12 & 10 & $\\dots$ \\\\\n",
       "\t10 & 3350-07D & 2019-05-01 & 24 & 24 & 15 & 21 & 22 & $\\dots$ \\\\\n",
       "\t11 & 3350-07D & 2019-05-02 & 12 & 7 & 7 & 8 & 10 & $\\dots$ \\\\\n",
       "\t12 & 3350-07D & 2019-05-08 & 0 & 0 & 0 & 0 & 0 & $\\dots$ \\\\\n",
       "\t13 & 3350-07D & 2019-05-09 & 45 & 26 & 55 & 43 & 32 & $\\dots$ \\\\\n",
       "\t14 & 3350-07D & 2019-05-10 & 66 & 48 & 50 & 48 & 50 & $\\dots$ \\\\\n",
       "\t15 & 3350-07D & 2019-05-11 & 2 & 0 & 0 & 0 & 0 & $\\dots$ \\\\\n",
       "\t16 & 3350-07D & 2019-05-13 & 18 & 14 & 0 & 9 & 5 & $\\dots$ \\\\\n",
       "\t17 & 3350-07D & 2019-05-14 & 22 & 21 & 25 & 18 & 15 & $\\dots$ \\\\\n",
       "\t18 & 3350-07D & 2019-05-18 & 0 & 0 & 0 & 2 & 0 & $\\dots$ \\\\\n",
       "\t19 & 3350-07D & 2019-05-19 & 23 & 32 & 16 & 27 & 25 & $\\dots$ \\\\\n",
       "\t20 & 3350-07D & 2019-05-20 & 40 & 5 & 27 & 51 & 38 & $\\dots$ \\\\\n",
       "\t21 & 3350-07D & 2019-05-23 & 63 & 44 & 186 & 66 & 99 & $\\dots$ \\\\\n",
       "\t22 & 3350-07D & 2019-05-24 & 9 & 4 & 12 & 6 & 12 & $\\dots$ \\\\\n",
       "\t23 & 3350-07D & 2019-05-25 & 0 & 1 & 7 & 2 & 2 & $\\dots$ \\\\\n",
       "\t24 & 3350-07D & 2019-05-27 & 0 & 0 & 0 & 0 & 0 & $\\dots$ \\\\\n",
       "\t25 & 3350-07D & 2019-05-31 & 2 & 3 & 0 & 5 & 5 & $\\dots$ \\\\\n",
       "\t26 & 4240-01D & 2019-05-07 & 3 & 0 & 0 & 0 & 0 & $\\dots$ \\\\\n",
       "\t27 & 4240-01D & 2019-05-09 & 45 & 26 & 55 & 43 & 32 & $\\dots$ \\\\\n",
       "\t28 & 4240-01D & 2019-05-10 & 66 & 48 & 50 & 48 & 50 & $\\dots$ \\\\\n",
       "\t29 & 4240-01D & 2019-05-15 & 2 & 0 & 0 & 0 & 0 & $\\dots$ \\\\\n",
       "\t30 & 4240-01D & 2019-05-21 & 0 & 0 & 3 & 2 & 0 & $\\dots$ \\\\\n",
       "\t$\\dots$ & $\\dots$ & $\\dots$ & $\\dots$ & $\\dots$ & $\\dots$ & $\\dots$ & $\\dots$ &  \\\\\n",
       "\\end{tabular}\n"
      ],
      "text/plain": [
       "283×12 DataFrame. Omitted printing of 7 columns\n",
       "│ Row │ NO_OUVRAGE │ date       │ maxMcTavish │ maxBellevue │ maxAssomption │\n",
       "│     │ \u001b[90mString\u001b[39m     │ \u001b[90mDate\u001b[39m       │ \u001b[90mInt64⍰\u001b[39m      │ \u001b[90mInt64⍰\u001b[39m      │ \u001b[90mInt64⍰\u001b[39m        │\n",
       "├─────┼────────────┼────────────┼─────────────┼─────────────┼───────────────┤\n",
       "│ 1   │ 3260-01D   │ 2019-05-02 │ 12          │ 7           │ 7             │\n",
       "│ 2   │ 3260-01D   │ 2019-05-09 │ 45          │ 26          │ 55            │\n",
       "│ 3   │ 3260-01D   │ 2019-05-10 │ 66          │ 48          │ 50            │\n",
       "│ 4   │ 3260-01D   │ 2019-05-15 │ 2           │ 0           │ 0             │\n",
       "│ 5   │ 3260-01D   │ 2019-05-20 │ 40          │ 5           │ 27            │\n",
       "│ 6   │ 3260-01D   │ 2019-05-23 │ 63          │ 44          │ 186           │\n",
       "│ 7   │ 3260-01D   │ 2019-05-24 │ 9           │ 4           │ 12            │\n",
       "│ 8   │ 3260-01D   │ 2019-05-26 │ 3           │ 2           │ 21            │\n",
       "│ 9   │ 3260-01D   │ 2019-05-30 │ 7           │ 7           │ 10            │\n",
       "│ 10  │ 3350-07D   │ 2019-05-01 │ 24          │ 24          │ 15            │\n",
       "⋮\n",
       "│ 273 │ 4380-01D   │ 2019-09-02 │ 61          │ 48          │ 48            │\n",
       "│ 274 │ 4380-01D   │ 2019-09-04 │ 126         │ 100         │ 100           │\n",
       "│ 275 │ 4380-01D   │ 2019-09-05 │ 0           │ 1           │ 1             │\n",
       "│ 276 │ 4380-01D   │ 2019-09-12 │ 0           │ 0           │ 0             │\n",
       "│ 277 │ 4380-01D   │ 2019-09-13 │ 0           │ 0           │ 0             │\n",
       "│ 278 │ 4380-01D   │ 2019-09-16 │ 0           │ 0           │ 0             │\n",
       "│ 279 │ 4380-01D   │ 2019-09-22 │ 0           │ 0           │ 0             │\n",
       "│ 280 │ 4380-01D   │ 2019-09-26 │ 34          │ 37          │ 37            │\n",
       "│ 281 │ 4380-01D   │ 2019-09-28 │ 17          │ 20          │ 20            │\n",
       "│ 282 │ 4380-01D   │ 2019-09-29 │ 2           │ 1           │ 1             │\n",
       "│ 283 │ 4380-01D   │ 2019-09-30 │ 0           │ 2           │ 2             │"
      ]
     },
     "execution_count": 82,
     "metadata": {},
     "output_type": "execute_result"
    }
   ],
   "source": [
    "test = CSV.read(\"data/test.csv\")\n",
    "df = test[:, [:NO_OUVRAGE, :DATE]]\n",
    "rename!(df, :DATE=>:date)\n",
    "for name in names(pcp_max[:, Not(:date)])\n",
    "    name2 = name\n",
    "    rename!(pcp_max, name=>Symbol(\"max\" * String(name)))\n",
    "    rename!(pcp_sum, name2=>Symbol(\"sum\" * String(name2)))\n",
    "end\n",
    "df = join(df, pcp_max, on=:date, kind= :inner)\n",
    "df = join(df, pcp_sum, on=:date, kind= :inner)\n"
   ]
  },
  {
   "cell_type": "code",
   "execution_count": 83,
   "metadata": {},
   "outputs": [
    {
     "data": {
      "text/html": [
       "<table class=\"data-frame\"><thead><tr><th></th><th>ouvrage</th><th>x₁</th><th>x₂</th><th>x₃</th><th>x₄</th><th>x₅</th><th>x₆</th><th>x₇</th><th>x₈</th><th>x₉</th></tr><tr><th></th><th>String</th><th>Int64⍰</th><th>Int64⍰</th><th>Int64⍰</th><th>Int64⍰</th><th>Int64⍰</th><th>Int64⍰</th><th>Int64⍰</th><th>Int64⍰</th><th>Int64⍰</th></tr></thead><tbody><p>283 rows × 11 columns (omitted printing of 1 columns)</p><tr><th>1</th><td>3260-01D</td><td>26</td><td>19</td><td>15</td><td>13</td><td>17</td><td>12</td><td>7</td><td>7</td><td>8</td></tr><tr><th>2</th><td>3260-01D</td><td>89</td><td>67</td><td>77</td><td>86</td><td>67</td><td>45</td><td>26</td><td>55</td><td>43</td></tr><tr><th>3</th><td>3260-01D</td><td>385</td><td>265</td><td>286</td><td>285</td><td>316</td><td>66</td><td>48</td><td>50</td><td>48</td></tr><tr><th>4</th><td>3260-01D</td><td>2</td><td>0</td><td>0</td><td>0</td><td>0</td><td>2</td><td>0</td><td>0</td><td>0</td></tr><tr><th>5</th><td>3260-01D</td><td>46</td><td>5</td><td>49</td><td>53</td><td>50</td><td>40</td><td>5</td><td>27</td><td>51</td></tr><tr><th>6</th><td>3260-01D</td><td>175</td><td>119</td><td>351</td><td>159</td><td>213</td><td>63</td><td>44</td><td>186</td><td>66</td></tr><tr><th>7</th><td>3260-01D</td><td>13</td><td>11</td><td>22</td><td>15</td><td>14</td><td>9</td><td>4</td><td>12</td><td>6</td></tr><tr><th>8</th><td>3260-01D</td><td>3</td><td>3</td><td>21</td><td>5</td><td>7</td><td>3</td><td>2</td><td>21</td><td>3</td></tr><tr><th>9</th><td>3260-01D</td><td>7</td><td>8</td><td>13</td><td>12</td><td>10</td><td>7</td><td>7</td><td>10</td><td>12</td></tr><tr><th>10</th><td>3350-07D</td><td>79</td><td>52</td><td>58</td><td>47</td><td>68</td><td>24</td><td>24</td><td>15</td><td>21</td></tr><tr><th>11</th><td>3350-07D</td><td>26</td><td>19</td><td>15</td><td>13</td><td>17</td><td>12</td><td>7</td><td>7</td><td>8</td></tr><tr><th>12</th><td>3350-07D</td><td>0</td><td>0</td><td>0</td><td>0</td><td>0</td><td>0</td><td>0</td><td>0</td><td>0</td></tr><tr><th>13</th><td>3350-07D</td><td>89</td><td>67</td><td>77</td><td>86</td><td>67</td><td>45</td><td>26</td><td>55</td><td>43</td></tr><tr><th>14</th><td>3350-07D</td><td>385</td><td>265</td><td>286</td><td>285</td><td>316</td><td>66</td><td>48</td><td>50</td><td>48</td></tr><tr><th>15</th><td>3350-07D</td><td>2</td><td>0</td><td>0</td><td>0</td><td>0</td><td>2</td><td>0</td><td>0</td><td>0</td></tr><tr><th>16</th><td>3350-07D</td><td>18</td><td>22</td><td>0</td><td>9</td><td>5</td><td>18</td><td>14</td><td>0</td><td>9</td></tr><tr><th>17</th><td>3350-07D</td><td>95</td><td>130</td><td>62</td><td>104</td><td>84</td><td>22</td><td>21</td><td>25</td><td>18</td></tr><tr><th>18</th><td>3350-07D</td><td>0</td><td>0</td><td>0</td><td>2</td><td>0</td><td>0</td><td>0</td><td>0</td><td>2</td></tr><tr><th>19</th><td>3350-07D</td><td>65</td><td>56</td><td>37</td><td>57</td><td>62</td><td>23</td><td>32</td><td>16</td><td>27</td></tr><tr><th>20</th><td>3350-07D</td><td>46</td><td>5</td><td>49</td><td>53</td><td>50</td><td>40</td><td>5</td><td>27</td><td>51</td></tr><tr><th>21</th><td>3350-07D</td><td>175</td><td>119</td><td>351</td><td>159</td><td>213</td><td>63</td><td>44</td><td>186</td><td>66</td></tr><tr><th>22</th><td>3350-07D</td><td>13</td><td>11</td><td>22</td><td>15</td><td>14</td><td>9</td><td>4</td><td>12</td><td>6</td></tr><tr><th>23</th><td>3350-07D</td><td>0</td><td>2</td><td>7</td><td>4</td><td>6</td><td>0</td><td>1</td><td>7</td><td>2</td></tr><tr><th>24</th><td>3350-07D</td><td>0</td><td>0</td><td>0</td><td>0</td><td>0</td><td>0</td><td>0</td><td>0</td><td>0</td></tr><tr><th>25</th><td>3350-07D</td><td>2</td><td>3</td><td>0</td><td>5</td><td>5</td><td>2</td><td>3</td><td>0</td><td>5</td></tr><tr><th>26</th><td>4240-01D</td><td>3</td><td>0</td><td>0</td><td>0</td><td>0</td><td>3</td><td>0</td><td>0</td><td>0</td></tr><tr><th>27</th><td>4240-01D</td><td>89</td><td>67</td><td>77</td><td>86</td><td>67</td><td>45</td><td>26</td><td>55</td><td>43</td></tr><tr><th>28</th><td>4240-01D</td><td>385</td><td>265</td><td>286</td><td>285</td><td>316</td><td>66</td><td>48</td><td>50</td><td>48</td></tr><tr><th>29</th><td>4240-01D</td><td>2</td><td>0</td><td>0</td><td>0</td><td>0</td><td>2</td><td>0</td><td>0</td><td>0</td></tr><tr><th>30</th><td>4240-01D</td><td>0</td><td>0</td><td>3</td><td>2</td><td>0</td><td>0</td><td>0</td><td>3</td><td>2</td></tr><tr><th>&vellip;</th><td>&vellip;</td><td>&vellip;</td><td>&vellip;</td><td>&vellip;</td><td>&vellip;</td><td>&vellip;</td><td>&vellip;</td><td>&vellip;</td><td>&vellip;</td><td>&vellip;</td></tr></tbody></table>"
      ],
      "text/latex": [
       "\\begin{tabular}{r|ccccccccccc}\n",
       "\t& ouvrage & x₁ & x₂ & x₃ & x₄ & x₅ & x₆ & x₇ & x₈ & x₉ & \\\\\n",
       "\t\\hline\n",
       "\t& String & Int64⍰ & Int64⍰ & Int64⍰ & Int64⍰ & Int64⍰ & Int64⍰ & Int64⍰ & Int64⍰ & Int64⍰ & \\\\\n",
       "\t\\hline\n",
       "\t1 & 3260-01D & 26 & 19 & 15 & 13 & 17 & 12 & 7 & 7 & 8 & $\\dots$ \\\\\n",
       "\t2 & 3260-01D & 89 & 67 & 77 & 86 & 67 & 45 & 26 & 55 & 43 & $\\dots$ \\\\\n",
       "\t3 & 3260-01D & 385 & 265 & 286 & 285 & 316 & 66 & 48 & 50 & 48 & $\\dots$ \\\\\n",
       "\t4 & 3260-01D & 2 & 0 & 0 & 0 & 0 & 2 & 0 & 0 & 0 & $\\dots$ \\\\\n",
       "\t5 & 3260-01D & 46 & 5 & 49 & 53 & 50 & 40 & 5 & 27 & 51 & $\\dots$ \\\\\n",
       "\t6 & 3260-01D & 175 & 119 & 351 & 159 & 213 & 63 & 44 & 186 & 66 & $\\dots$ \\\\\n",
       "\t7 & 3260-01D & 13 & 11 & 22 & 15 & 14 & 9 & 4 & 12 & 6 & $\\dots$ \\\\\n",
       "\t8 & 3260-01D & 3 & 3 & 21 & 5 & 7 & 3 & 2 & 21 & 3 & $\\dots$ \\\\\n",
       "\t9 & 3260-01D & 7 & 8 & 13 & 12 & 10 & 7 & 7 & 10 & 12 & $\\dots$ \\\\\n",
       "\t10 & 3350-07D & 79 & 52 & 58 & 47 & 68 & 24 & 24 & 15 & 21 & $\\dots$ \\\\\n",
       "\t11 & 3350-07D & 26 & 19 & 15 & 13 & 17 & 12 & 7 & 7 & 8 & $\\dots$ \\\\\n",
       "\t12 & 3350-07D & 0 & 0 & 0 & 0 & 0 & 0 & 0 & 0 & 0 & $\\dots$ \\\\\n",
       "\t13 & 3350-07D & 89 & 67 & 77 & 86 & 67 & 45 & 26 & 55 & 43 & $\\dots$ \\\\\n",
       "\t14 & 3350-07D & 385 & 265 & 286 & 285 & 316 & 66 & 48 & 50 & 48 & $\\dots$ \\\\\n",
       "\t15 & 3350-07D & 2 & 0 & 0 & 0 & 0 & 2 & 0 & 0 & 0 & $\\dots$ \\\\\n",
       "\t16 & 3350-07D & 18 & 22 & 0 & 9 & 5 & 18 & 14 & 0 & 9 & $\\dots$ \\\\\n",
       "\t17 & 3350-07D & 95 & 130 & 62 & 104 & 84 & 22 & 21 & 25 & 18 & $\\dots$ \\\\\n",
       "\t18 & 3350-07D & 0 & 0 & 0 & 2 & 0 & 0 & 0 & 0 & 2 & $\\dots$ \\\\\n",
       "\t19 & 3350-07D & 65 & 56 & 37 & 57 & 62 & 23 & 32 & 16 & 27 & $\\dots$ \\\\\n",
       "\t20 & 3350-07D & 46 & 5 & 49 & 53 & 50 & 40 & 5 & 27 & 51 & $\\dots$ \\\\\n",
       "\t21 & 3350-07D & 175 & 119 & 351 & 159 & 213 & 63 & 44 & 186 & 66 & $\\dots$ \\\\\n",
       "\t22 & 3350-07D & 13 & 11 & 22 & 15 & 14 & 9 & 4 & 12 & 6 & $\\dots$ \\\\\n",
       "\t23 & 3350-07D & 0 & 2 & 7 & 4 & 6 & 0 & 1 & 7 & 2 & $\\dots$ \\\\\n",
       "\t24 & 3350-07D & 0 & 0 & 0 & 0 & 0 & 0 & 0 & 0 & 0 & $\\dots$ \\\\\n",
       "\t25 & 3350-07D & 2 & 3 & 0 & 5 & 5 & 2 & 3 & 0 & 5 & $\\dots$ \\\\\n",
       "\t26 & 4240-01D & 3 & 0 & 0 & 0 & 0 & 3 & 0 & 0 & 0 & $\\dots$ \\\\\n",
       "\t27 & 4240-01D & 89 & 67 & 77 & 86 & 67 & 45 & 26 & 55 & 43 & $\\dots$ \\\\\n",
       "\t28 & 4240-01D & 385 & 265 & 286 & 285 & 316 & 66 & 48 & 50 & 48 & $\\dots$ \\\\\n",
       "\t29 & 4240-01D & 2 & 0 & 0 & 0 & 0 & 2 & 0 & 0 & 0 & $\\dots$ \\\\\n",
       "\t30 & 4240-01D & 0 & 0 & 3 & 2 & 0 & 0 & 0 & 3 & 2 & $\\dots$ \\\\\n",
       "\t$\\dots$ & $\\dots$ & $\\dots$ & $\\dots$ & $\\dots$ & $\\dots$ & $\\dots$ & $\\dots$ & $\\dots$ & $\\dots$ & $\\dots$ &  \\\\\n",
       "\\end{tabular}\n"
      ],
      "text/plain": [
       "283×11 DataFrame. Omitted printing of 4 columns\n",
       "│ Row │ ouvrage  │ x₁     │ x₂     │ x₃     │ x₄     │ x₅     │ x₆     │\n",
       "│     │ \u001b[90mString\u001b[39m   │ \u001b[90mInt64⍰\u001b[39m │ \u001b[90mInt64⍰\u001b[39m │ \u001b[90mInt64⍰\u001b[39m │ \u001b[90mInt64⍰\u001b[39m │ \u001b[90mInt64⍰\u001b[39m │ \u001b[90mInt64⍰\u001b[39m │\n",
       "├─────┼──────────┼────────┼────────┼────────┼────────┼────────┼────────┤\n",
       "│ 1   │ 3260-01D │ 26     │ 19     │ 15     │ 13     │ 17     │ 12     │\n",
       "│ 2   │ 3260-01D │ 89     │ 67     │ 77     │ 86     │ 67     │ 45     │\n",
       "│ 3   │ 3260-01D │ 385    │ 265    │ 286    │ 285    │ 316    │ 66     │\n",
       "│ 4   │ 3260-01D │ 2      │ 0      │ 0      │ 0      │ 0      │ 2      │\n",
       "│ 5   │ 3260-01D │ 46     │ 5      │ 49     │ 53     │ 50     │ 40     │\n",
       "│ 6   │ 3260-01D │ 175    │ 119    │ 351    │ 159    │ 213    │ 63     │\n",
       "│ 7   │ 3260-01D │ 13     │ 11     │ 22     │ 15     │ 14     │ 9      │\n",
       "│ 8   │ 3260-01D │ 3      │ 3      │ 21     │ 5      │ 7      │ 3      │\n",
       "│ 9   │ 3260-01D │ 7      │ 8      │ 13     │ 12     │ 10     │ 7      │\n",
       "│ 10  │ 3350-07D │ 79     │ 52     │ 58     │ 47     │ 68     │ 24     │\n",
       "⋮\n",
       "│ 273 │ 4380-01D │ 352    │ 327    │ 327    │ 291    │ 340    │ 61     │\n",
       "│ 274 │ 4380-01D │ 227    │ 194    │ 194    │ 224    │ 131    │ 126    │\n",
       "│ 275 │ 4380-01D │ 0      │ 1      │ 1      │ 2      │ 0      │ 0      │\n",
       "│ 276 │ 4380-01D │ 0      │ 0      │ 0      │ 0      │ 0      │ 0      │\n",
       "│ 277 │ 4380-01D │ 0      │ 0      │ 0      │ 0      │ 0      │ 0      │\n",
       "│ 278 │ 4380-01D │ 0      │ 0      │ 0      │ 0      │ 0      │ 0      │\n",
       "│ 279 │ 4380-01D │ 0      │ 0      │ 0      │ 0      │ 0      │ 0      │\n",
       "│ 280 │ 4380-01D │ 112    │ 110    │ 110    │ 72     │ 144    │ 34     │\n",
       "│ 281 │ 4380-01D │ 55     │ 52     │ 52     │ 61     │ 39     │ 17     │\n",
       "│ 282 │ 4380-01D │ 2      │ 2      │ 2      │ 4      │ 0      │ 2      │\n",
       "│ 283 │ 4380-01D │ 0      │ 2      │ 2      │ 0      │ 5      │ 0      │"
      ]
     },
     "execution_count": 83,
     "metadata": {},
     "output_type": "execute_result"
    }
   ],
   "source": [
    "dataframe = DataFrame(ouvrage=df.NO_OUVRAGE, x₁=df.sumMcTavish,x₂=df.sumBellevue,x₃=df.sumAssomption,x₄=df.sumTrudeau,x₅=df.sumStHubert,x₆=df.maxMcTavish,x₇=df.maxBellevue,x₈=df.maxAssomption,x₉=df.maxTrudeau,x₁₀=df.maxStHubert)\n"
   ]
  },
  {
   "cell_type": "code",
   "execution_count": 52,
   "metadata": {},
   "outputs": [
    {
     "data": {
      "text/plain": [
       "predictLogit (generic function with 2 methods)"
      ]
     },
     "execution_count": 52,
     "metadata": {},
     "output_type": "execute_result"
    }
   ],
   "source": [
    "function predictLogit(dataframe, Mvieuxmtl, Mrdesp, Mahunstic, Mpauxt, Mverdun)\n",
    "    predictions = []\n",
    "    for row in eachrow(dataframe)\n",
    "        if row.ouvrage == \"4350-01D\" \n",
    "            predictions = vcat(predictions, GLM.predict(Mvieuxmtl, DataFrame(row[Not(:ouvrage)])))\n",
    "        end\n",
    "        if row.ouvrage == \"3260-01D\"\n",
    "            predictions = vcat(predictions, GLM.predict(Mrdesp, DataFrame(row[Not(:ouvrage)])))\n",
    "        end\n",
    "        if row.ouvrage == \"3350-07D\"\n",
    "            predictions = vcat(predictions, GLM.predict(Mahunstic, DataFrame(row[Not(:ouvrage)])))\n",
    "        end\n",
    "        if row.ouvrage == \"4240-01D\"\n",
    "            predictions = vcat(predictions, GLM.predict(Mpauxt, DataFrame(row[Not(:ouvrage)])))\n",
    "        end\n",
    "        if row.ouvrage == \"4380-01D\"\n",
    "            predictions = vcat(predictions, GLM.predict(Mverdun, DataFrame(row[Not(:ouvrage)])))\n",
    "        end\n",
    "    end\n",
    "    return round.(predictions)\n",
    "end"
   ]
  },
  {
   "cell_type": "code",
   "execution_count": 88,
   "metadata": {},
   "outputs": [
    {
     "data": {
      "text/plain": [
       "predictTree (generic function with 1 method)"
      ]
     },
     "execution_count": 88,
     "metadata": {},
     "output_type": "execute_result"
    }
   ],
   "source": [
    "function predictTree(dataframe, MvieuxmtlT, MrdespT, MahunsticT, MpauxtT, MverdunT)\n",
    "    predictions = []\n",
    "    for row in eachrow(dataframe)\n",
    "        if row.ouvrage == \"4350-01D\" \n",
    "            predictions = vcat(predictions, MvieuxmtlT.predict([convert(Vector{Int64}, row[Not(:ouvrage)])]))\n",
    "        end\n",
    "        if row.ouvrage == \"3260-01D\"\n",
    "            predictions = vcat(predictions, MrdespT.predict([convert(Vector{Int64}, row[Not(:ouvrage)])]))\n",
    "        end\n",
    "        if row.ouvrage == \"3350-07D\"\n",
    "            predictions = vcat(predictions, MahunsticT.predict([convert(Vector{Int64}, row[Not(:ouvrage)])]))\n",
    "        end\n",
    "        if row.ouvrage == \"4240-01D\"\n",
    "            predictions = vcat(predictions, MpauxtT.predict([convert(Vector{Int64}, row[Not(:ouvrage)])]))\n",
    "        end\n",
    "        if row.ouvrage == \"4380-01D\"\n",
    "            predictions = vcat(predictions, MverdunT.predict([convert(Vector{Int64}, row[Not(:ouvrage)])]))\n",
    "        end\n",
    "    end\n",
    "    return round.(predictions)\n",
    "end"
   ]
  },
  {
   "cell_type": "code",
   "execution_count": 89,
   "metadata": {},
   "outputs": [
    {
     "data": {
      "text/plain": [
       "283-element Array{Int64,1}:\n",
       " 0\n",
       " 0\n",
       " 0\n",
       " 0\n",
       " 1\n",
       " 1\n",
       " 0\n",
       " 0\n",
       " 0\n",
       " 0\n",
       " 1\n",
       " 0\n",
       " 0\n",
       " ⋮\n",
       " 0\n",
       " 0\n",
       " 1\n",
       " 0\n",
       " 0\n",
       " 0\n",
       " 0\n",
       " 0\n",
       " 0\n",
       " 1\n",
       " 0\n",
       " 0"
      ]
     },
     "execution_count": 89,
     "metadata": {},
     "output_type": "execute_result"
    }
   ],
   "source": [
    "predictions = predictTree(dataframe, MvieuxmtlT, MrdespT, MahunsticT, MpauxtT, MverdunT)"
   ]
  },
  {
   "cell_type": "code",
   "execution_count": 90,
   "metadata": {},
   "outputs": [
    {
     "ename": "MethodError",
     "evalue": "MethodError: no method matching predict(::Tuple{StatsModels.TableRegressionModel{GeneralizedLinearModel{GLM.GlmResp{Array{Float64,1},Bernoulli{Float64},LogitLink},GLM.DensePredChol{Float64,Cholesky{Float64,Array{Float64,2}}}},Array{Float64,2}},DataFrame}, ::DataFrame)\nClosest candidates are:\n  predict(!Matched::StatsModels.TableRegressionModel, ::Any; kwargs...) at C:\\Users\\Jonathan\\.julia\\packages\\StatsModels\\Oxqpc\\src\\statsmodel.jl:158\n  predict(!Matched::StatsModels.TableRegressionModel, ::Any...; kwargs...) at C:\\Users\\Jonathan\\.julia\\packages\\StatsModels\\Oxqpc\\src\\statsmodel.jl:28",
     "output_type": "error",
     "traceback": [
      "MethodError: no method matching predict(::Tuple{StatsModels.TableRegressionModel{GeneralizedLinearModel{GLM.GlmResp{Array{Float64,1},Bernoulli{Float64},LogitLink},GLM.DensePredChol{Float64,Cholesky{Float64,Array{Float64,2}}}},Array{Float64,2}},DataFrame}, ::DataFrame)\nClosest candidates are:\n  predict(!Matched::StatsModels.TableRegressionModel, ::Any; kwargs...) at C:\\Users\\Jonathan\\.julia\\packages\\StatsModels\\Oxqpc\\src\\statsmodel.jl:158\n  predict(!Matched::StatsModels.TableRegressionModel, ::Any...; kwargs...) at C:\\Users\\Jonathan\\.julia\\packages\\StatsModels\\Oxqpc\\src\\statsmodel.jl:28",
      "",
      "Stacktrace:",
      " [1] predictLogit(::DataFrame, ::Tuple{StatsModels.TableRegressionModel{GeneralizedLinearModel{GLM.GlmResp{Array{Float64,1},Bernoulli{Float64},LogitLink},GLM.DensePredChol{Float64,Cholesky{Float64,Array{Float64,2}}}},Array{Float64,2}},DataFrame}, ::Tuple{StatsModels.TableRegressionModel{GeneralizedLinearModel{GLM.GlmResp{Array{Float64,1},Bernoulli{Float64},LogitLink},GLM.DensePredChol{Float64,Cholesky{Float64,Array{Float64,2}}}},Array{Float64,2}},DataFrame}, ::Tuple{StatsModels.TableRegressionModel{GeneralizedLinearModel{GLM.GlmResp{Array{Float64,1},Bernoulli{Float64},LogitLink},GLM.DensePredChol{Float64,Cholesky{Float64,Array{Float64,2}}}},Array{Float64,2}},DataFrame}, ::Tuple{StatsModels.TableRegressionModel{GeneralizedLinearModel{GLM.GlmResp{Array{Float64,1},Bernoulli{Float64},LogitLink},GLM.DensePredChol{Float64,Cholesky{Float64,Array{Float64,2}}}},Array{Float64,2}},DataFrame}, ::Tuple{StatsModels.TableRegressionModel{GeneralizedLinearModel{GLM.GlmResp{Array{Float64,1},Bernoulli{Float64},LogitLink},GLM.DensePredChol{Float64,Cholesky{Float64,Array{Float64,2}}}},Array{Float64,2}},DataFrame}) at .\\In[52]:8",
      " [2] top-level scope at In[90]:1"
     ]
    }
   ],
   "source": [
    "predictions = predictLogit(dataframe, Mvieuxmtl, Mrdesp, Mahunstic, Mpauxt, Mverdun)"
   ]
  },
  {
   "cell_type": "markdown",
   "metadata": {},
   "source": [
    "# Création du fichier de prédictions pour soumettre sur Kaggle\n",
    "\n",
    "Dans ce cas-ci, nous prédirons une surverse avec une prediction logistique"
   ]
  },
  {
   "cell_type": "code",
   "execution_count": null,
   "metadata": {},
   "outputs": [],
   "source": [
    "\n",
    "# Pour chacune des lignes du fichier test, comportant un ouvrage et une date, une prédiction est requise.\n",
    "# Dans ce cas-ci, utilisons une prédiction les plus naîve. \n",
    "# On prédit avec une chance sur deux qu'il y ait surverse, sans utiliser de variables explicatives\n",
    "#n = size(test,1)\n",
    "#surverse = rand(n) .> .5\n",
    "\n",
    "\n",
    "# Création du fichier sampleSubmission.csv pour soumettre sur Kaggle\n",
    "ID = test[:,:NO_OUVRAGE].*\"_\".*string.(test[:,:DATE])\n",
    "sampleSubmission = DataFrame(ID = ID, Surverse=predictions)\n",
    "CSV.write(\"sampleSubmission.csv\",sampleSubmission)\n",
    "\n",
    "# Vous pouvez par la suite déposer le fichier sampleSubmission.csv sur Kaggle.\n"
   ]
  },
  {
   "cell_type": "code",
   "execution_count": null,
   "metadata": {},
   "outputs": [],
   "source": []
  },
  {
   "cell_type": "code",
   "execution_count": null,
   "metadata": {},
   "outputs": [],
   "source": []
  }
 ],
 "metadata": {
  "@webio": {
   "lastCommId": null,
   "lastKernelId": null
  },
  "kernelspec": {
   "display_name": "Julia 1.2.0",
   "language": "julia",
   "name": "julia-1.2"
  },
  "language_info": {
   "file_extension": ".jl",
   "mimetype": "application/julia",
   "name": "julia",
   "version": "1.2.0"
  }
 },
 "nbformat": 4,
 "nbformat_minor": 2
}

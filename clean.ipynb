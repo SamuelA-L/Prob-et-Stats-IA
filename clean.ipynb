{
 "cells": [
  {
   "cell_type": "markdown",
   "metadata": {},
   "source": [
    "\n",
    "# MTH3302 : Méthodes probabilistes et statistiques pour l'I.A.\n",
    "\n",
    "Jonathan Jalbert<br/>\n",
    "Professeur adjoint au Département de mathématiques et de génie industriel<br/>\n",
    "Polytechnique Montréal<br/>\n",
    "\n",
    "Le projet a été développé à l'aide de Alice Breton, étudiante à la maîtrise en génie informatique. Elle a suivi le cours lors de la session Hiver 2019.\n",
    "\n",
    "\n",
    "\n",
    "# Projet : Débordement d'égouts\n",
    "\n",
    "La description du projet est disponible à l'adresse suivante :\n",
    "https://www.kaggle.com/t/a238b752c33a41d9803c2cdde6bfc929\n",
    "\n",
    "Ce calepin Jupyter de base permet de charger et de nettoyer les données fournies. La dernière section détaille la génération du fichier des prédictions afin de le soumettre sur Kaggle dans le bon format.\n",
    "\n",
    "Dans un premier temps, vous devrez récupérer l'archive *data.zip* sur Moodle. Ce dossier contient les fichiers suivants :\n",
    "- surverses.csv\n",
    "- precipitation.csv\n",
    "- ouvrages-surverses.csv\n",
    "- test.csv\n",
    "\n",
    "Veuillez le décompresser dans le répertoire de ce calepin.\n",
    "\n",
    "Le fichier *surverse.csv* répertorie s'il y a surverse (1) ou non (0) au cours de la journée pour les 170 ouvrages de débordement de 2013 à 2018 pour les mois de mai à octobre (inclusivement). Des renseignements additionnels sur les données sont disponibles à l'adresse suivante :\n",
    "\n",
    "http://donnees.ville.montreal.qc.ca/dataset/debordement\n",
    "\n",
    "\n",
    "Le fichier *precipitation.csv* contient les précipitations horaires en dixième de *mm* enregistrées à 5 stations pluviométriques de 2013 à 2019 :\n",
    "- McTavish (7024745)\n",
    "- Ste-Anne-de-Bellevue (702FHL8)\n",
    "- Montreal/Pierre Elliott Trudeau Intl (702S006)\n",
    "- Montreal/St-Hubert (7027329)\n",
    "- L’Assomption (7014160)\n",
    "\n",
    "Plus d'informations sur les précipitations sont disponibles à l'adresse suivante :\n",
    "\n",
    "https://climat.meteo.gc.ca/climate_data/hourly_data_f.html?hlyRange=2008-01-08%7C2019-11-12&dlyRange=2002-12-23%7C2019-11-12&mlyRange=%7C&StationID=30165&Prov=QC&urlExtension=_f.html&searchType=stnName&optLimit=yearRange&StartYear=1840&EndYear=2019&selRowPerPage=25&Line=17&searchMethod=contains&Month=11&Day=12&txtStationName=montreal&timeframe=1&Year=2019\n",
    "\n",
    "Le fichier *ouvrages-surverses.csv* contient différentes caractéristiques des ouvrages de débordement. \n",
    "\n",
    "http://donnees.ville.montreal.qc.ca/dataset/ouvrage-surverse\n",
    "\n",
    "Le fichier *test.csv* contient les ouvrages et les jours pour lesquels vous devez prédire s'il y a eu surverse (true) ou non (false). Notez que l'on s'intéresse ici à 5 ouvrages de débordement localisés tout autour de l'Ile de Montréal :\n",
    "- 3260-01D dans Rivière-des-Prairies \n",
    "- 3350-07D dans Ahunstic \n",
    "- 4240-01D dans Pointe-aux-Trembles \n",
    "- 4350-01D dans le Vieux-Montréal \n",
    "- 4380-01D dans Verdun\n",
    "\n",
    "#### Remarque\n",
    "\n",
    "Dans le projet, on ne s'intéresse qu'aux surverses occasionnées par les précipitations. On ignore les surverses occasionnées par \n",
    "- fonte de neige (F)\n",
    "- travaux planifiés et entretien (TPL)\n",
    "- urgence (U)\n",
    "- autre (AUT)\n",
    "\n",
    "On suppose que lorsqu'il n'y a pas de raison pour la surverse, il s'agit d'une surverse causée par les précipitations. Puisque Nous nous intéresserons uniquement aux surverses occasionnées par les précipitations liquides, nous ne considérons que les mois de mai à octobre inclusivement."
   ]
  },
  {
   "cell_type": "code",
   "execution_count": 1,
   "metadata": {},
   "outputs": [
    {
     "name": "stderr",
     "output_type": "stream",
     "text": [
      "┌ Info: Loading DataFrames support into Gadfly.jl\n",
      "└ @ Gadfly /home/williamglazer/.julia/packages/Gadfly/09PWZ/src/mapping.jl:228\n"
     ]
    },
    {
     "ename": "ArgumentError",
     "evalue": "ArgumentError: Package GLM not found in current path:\n- Run `import Pkg; Pkg.add(\"GLM\")` to install the GLM package.\n",
     "output_type": "error",
     "traceback": [
      "ArgumentError: Package GLM not found in current path:\n- Run `import Pkg; Pkg.add(\"GLM\")` to install the GLM package.\n",
      "",
      "Stacktrace:",
      " [1] require(::Module, ::Symbol) at ./loading.jl:876",
      " [2] top-level scope at In[1]:1"
     ]
    }
   ],
   "source": [
    "using CSV, DataFrames, Statistics, Dates, Gadfly, LinearAlgebra, Distributions, Random, ScikitLearn, GLM"
   ]
  },
  {
   "cell_type": "markdown",
   "metadata": {},
   "source": [
    "## Fonctions gobales"
   ]
  },
  {
   "cell_type": "code",
   "execution_count": 2,
   "metadata": {},
   "outputs": [
    {
     "data": {
      "text/plain": [
       "splitdataframe"
      ]
     },
     "execution_count": 2,
     "metadata": {},
     "output_type": "execute_result"
    }
   ],
   "source": [
    "\"\"\"\n",
    "    splitdataframe(df::DataFrame, p::Real)\n",
    "\n",
    "Partitionne en un ensemble d'entraînement et un ensemble de validation un DataFrame.\n",
    "\n",
    "### Arguments\n",
    "- `df::DataFrame` : Un DataFrame\n",
    "- `p::Real` : La proportion (entre 0 et 1) de données dans l'ensemble d'entraînement.\n",
    "\n",
    "### Détails\n",
    "\n",
    "La fonction renvoie deux DataFrames, un pour l'ensemble d'entraînement et l'autre pour l'ensemble de validation.\n",
    "\n",
    "### Exemple\n",
    "\n",
    "\\```\n",
    " julia> splitdataframe(df, p.7)\n",
    "\\```\n",
    "\n",
    "\"\"\"\n",
    "function splitdataframe(df::DataFrame, p::Real)\n",
    "   @assert 0 <= p <= 1 \n",
    "    \n",
    "    n = size(df,1)\n",
    "    \n",
    "    ind = shuffle(1:n)\n",
    "    \n",
    "    threshold = Int64(round(n*p))\n",
    "    \n",
    "    indTrain = sort(ind[1:threshold])\n",
    "    \n",
    "    indTest = setdiff(1:n,indTrain)\n",
    "    \n",
    "    dfTrain = df[indTrain,:]\n",
    "    dfTest = df[indTest,:]\n",
    "    \n",
    "    return dfTrain, dfTest\n",
    "    \n",
    "end"
   ]
  },
  {
   "cell_type": "markdown",
   "metadata": {},
   "source": [
    "# Chargement des données et nettoyage préliminaire"
   ]
  },
  {
   "cell_type": "markdown",
   "metadata": {},
   "source": [
    "## Chargement des surverses"
   ]
  },
  {
   "cell_type": "code",
   "execution_count": 3,
   "metadata": {},
   "outputs": [
    {
     "data": {
      "text/html": [
       "<table class=\"data-frame\"><thead><tr><th></th><th>NO_OUVRAGE</th><th>DATE</th><th>SURVERSE</th><th>RAISON</th></tr><tr><th></th><th>String</th><th>Date</th><th>Int64⍰</th><th>String⍰</th></tr></thead><tbody><p>5 rows × 4 columns</p><tr><th>1</th><td>0642-01D</td><td>2013-05-01</td><td>0</td><td>missing</td></tr><tr><th>2</th><td>0642-01D</td><td>2013-05-02</td><td>0</td><td>missing</td></tr><tr><th>3</th><td>0642-01D</td><td>2013-05-03</td><td>0</td><td>missing</td></tr><tr><th>4</th><td>0642-01D</td><td>2013-05-04</td><td>0</td><td>missing</td></tr><tr><th>5</th><td>0642-01D</td><td>2013-05-05</td><td>0</td><td>missing</td></tr></tbody></table>"
      ],
      "text/latex": [
       "\\begin{tabular}{r|cccc}\n",
       "\t& NO\\_OUVRAGE & DATE & SURVERSE & RAISON\\\\\n",
       "\t\\hline\n",
       "\t& String & Date & Int64⍰ & String⍰\\\\\n",
       "\t\\hline\n",
       "\t1 & 0642-01D & 2013-05-01 & 0 &  \\\\\n",
       "\t2 & 0642-01D & 2013-05-02 & 0 &  \\\\\n",
       "\t3 & 0642-01D & 2013-05-03 & 0 &  \\\\\n",
       "\t4 & 0642-01D & 2013-05-04 & 0 &  \\\\\n",
       "\t5 & 0642-01D & 2013-05-05 & 0 &  \\\\\n",
       "\\end{tabular}\n"
      ],
      "text/plain": [
       "5×4 DataFrame\n",
       "│ Row │ NO_OUVRAGE │ DATE       │ SURVERSE │ RAISON  │\n",
       "│     │ \u001b[90mString\u001b[39m     │ \u001b[90mDate\u001b[39m       │ \u001b[90mInt64⍰\u001b[39m   │ \u001b[90mString⍰\u001b[39m │\n",
       "├─────┼────────────┼────────────┼──────────┼─────────┤\n",
       "│ 1   │ 0642-01D   │ 2013-05-01 │ 0        │ \u001b[90mmissing\u001b[39m │\n",
       "│ 2   │ 0642-01D   │ 2013-05-02 │ 0        │ \u001b[90mmissing\u001b[39m │\n",
       "│ 3   │ 0642-01D   │ 2013-05-03 │ 0        │ \u001b[90mmissing\u001b[39m │\n",
       "│ 4   │ 0642-01D   │ 2013-05-04 │ 0        │ \u001b[90mmissing\u001b[39m │\n",
       "│ 5   │ 0642-01D   │ 2013-05-05 │ 0        │ \u001b[90mmissing\u001b[39m │"
      ]
     },
     "execution_count": 3,
     "metadata": {},
     "output_type": "execute_result"
    }
   ],
   "source": [
    "data = CSV.read(\"data/surverses.csv\",missingstring=\"-99999\")\n",
    "first(data,5)"
   ]
  },
  {
   "cell_type": "markdown",
   "metadata": {},
   "source": [
    "## Nettoyage des données sur les surverses\n",
    "\n",
    "#### Extraction des surverses pour les mois de mai à octobre inclusivement"
   ]
  },
  {
   "cell_type": "code",
   "execution_count": 4,
   "metadata": {},
   "outputs": [
    {
     "data": {
      "text/html": [
       "<table class=\"data-frame\"><thead><tr><th></th><th>NO_OUVRAGE</th><th>DATE</th><th>SURVERSE</th><th>RAISON</th></tr><tr><th></th><th>String</th><th>Date</th><th>Int64⍰</th><th>String⍰</th></tr></thead><tbody><p>5 rows × 4 columns</p><tr><th>1</th><td>0642-01D</td><td>2013-05-01</td><td>0</td><td>missing</td></tr><tr><th>2</th><td>0642-01D</td><td>2013-05-02</td><td>0</td><td>missing</td></tr><tr><th>3</th><td>0642-01D</td><td>2013-05-03</td><td>0</td><td>missing</td></tr><tr><th>4</th><td>0642-01D</td><td>2013-05-04</td><td>0</td><td>missing</td></tr><tr><th>5</th><td>0642-01D</td><td>2013-05-05</td><td>0</td><td>missing</td></tr></tbody></table>"
      ],
      "text/latex": [
       "\\begin{tabular}{r|cccc}\n",
       "\t& NO\\_OUVRAGE & DATE & SURVERSE & RAISON\\\\\n",
       "\t\\hline\n",
       "\t& String & Date & Int64⍰ & String⍰\\\\\n",
       "\t\\hline\n",
       "\t1 & 0642-01D & 2013-05-01 & 0 &  \\\\\n",
       "\t2 & 0642-01D & 2013-05-02 & 0 &  \\\\\n",
       "\t3 & 0642-01D & 2013-05-03 & 0 &  \\\\\n",
       "\t4 & 0642-01D & 2013-05-04 & 0 &  \\\\\n",
       "\t5 & 0642-01D & 2013-05-05 & 0 &  \\\\\n",
       "\\end{tabular}\n"
      ],
      "text/plain": [
       "5×4 DataFrame\n",
       "│ Row │ NO_OUVRAGE │ DATE       │ SURVERSE │ RAISON  │\n",
       "│     │ \u001b[90mString\u001b[39m     │ \u001b[90mDate\u001b[39m       │ \u001b[90mInt64⍰\u001b[39m   │ \u001b[90mString⍰\u001b[39m │\n",
       "├─────┼────────────┼────────────┼──────────┼─────────┤\n",
       "│ 1   │ 0642-01D   │ 2013-05-01 │ 0        │ \u001b[90mmissing\u001b[39m │\n",
       "│ 2   │ 0642-01D   │ 2013-05-02 │ 0        │ \u001b[90mmissing\u001b[39m │\n",
       "│ 3   │ 0642-01D   │ 2013-05-03 │ 0        │ \u001b[90mmissing\u001b[39m │\n",
       "│ 4   │ 0642-01D   │ 2013-05-04 │ 0        │ \u001b[90mmissing\u001b[39m │\n",
       "│ 5   │ 0642-01D   │ 2013-05-05 │ 0        │ \u001b[90mmissing\u001b[39m │"
      ]
     },
     "execution_count": 4,
     "metadata": {},
     "output_type": "execute_result"
    }
   ],
   "source": [
    "data = filter(row -> month(row.DATE) > 4, data) \n",
    "data = filter(row -> month(row.DATE) < 11, data) \n",
    "first(data,5)"
   ]
  },
  {
   "cell_type": "markdown",
   "metadata": {},
   "source": [
    "#### Remplacement des valeurs *missing* dans la colonne :RAISON par \"Inconnue\""
   ]
  },
  {
   "cell_type": "code",
   "execution_count": 5,
   "metadata": {},
   "outputs": [
    {
     "data": {
      "text/html": [
       "<table class=\"data-frame\"><thead><tr><th></th><th>NO_OUVRAGE</th><th>DATE</th><th>SURVERSE</th><th>RAISON</th></tr><tr><th></th><th>String</th><th>Date</th><th>Int64⍰</th><th>String</th></tr></thead><tbody><p>5 rows × 4 columns</p><tr><th>1</th><td>0642-01D</td><td>2013-05-01</td><td>0</td><td>Inconnue</td></tr><tr><th>2</th><td>0642-01D</td><td>2013-05-02</td><td>0</td><td>Inconnue</td></tr><tr><th>3</th><td>0642-01D</td><td>2013-05-03</td><td>0</td><td>Inconnue</td></tr><tr><th>4</th><td>0642-01D</td><td>2013-05-04</td><td>0</td><td>Inconnue</td></tr><tr><th>5</th><td>0642-01D</td><td>2013-05-05</td><td>0</td><td>Inconnue</td></tr></tbody></table>"
      ],
      "text/latex": [
       "\\begin{tabular}{r|cccc}\n",
       "\t& NO\\_OUVRAGE & DATE & SURVERSE & RAISON\\\\\n",
       "\t\\hline\n",
       "\t& String & Date & Int64⍰ & String\\\\\n",
       "\t\\hline\n",
       "\t1 & 0642-01D & 2013-05-01 & 0 & Inconnue \\\\\n",
       "\t2 & 0642-01D & 2013-05-02 & 0 & Inconnue \\\\\n",
       "\t3 & 0642-01D & 2013-05-03 & 0 & Inconnue \\\\\n",
       "\t4 & 0642-01D & 2013-05-04 & 0 & Inconnue \\\\\n",
       "\t5 & 0642-01D & 2013-05-05 & 0 & Inconnue \\\\\n",
       "\\end{tabular}\n"
      ],
      "text/plain": [
       "5×4 DataFrame\n",
       "│ Row │ NO_OUVRAGE │ DATE       │ SURVERSE │ RAISON   │\n",
       "│     │ \u001b[90mString\u001b[39m     │ \u001b[90mDate\u001b[39m       │ \u001b[90mInt64⍰\u001b[39m   │ \u001b[90mString\u001b[39m   │\n",
       "├─────┼────────────┼────────────┼──────────┼──────────┤\n",
       "│ 1   │ 0642-01D   │ 2013-05-01 │ 0        │ Inconnue │\n",
       "│ 2   │ 0642-01D   │ 2013-05-02 │ 0        │ Inconnue │\n",
       "│ 3   │ 0642-01D   │ 2013-05-03 │ 0        │ Inconnue │\n",
       "│ 4   │ 0642-01D   │ 2013-05-04 │ 0        │ Inconnue │\n",
       "│ 5   │ 0642-01D   │ 2013-05-05 │ 0        │ Inconnue │"
      ]
     },
     "execution_count": 5,
     "metadata": {},
     "output_type": "execute_result"
    }
   ],
   "source": [
    "raison = coalesce.(data[:,:RAISON],\"Inconnue\")\n",
    "data[!,:RAISON] = raison\n",
    "first(data,5)"
   ]
  },
  {
   "cell_type": "markdown",
   "metadata": {},
   "source": [
    "#### Exlusion des surverses coccasionnées par d'autres facteurs que les précipitations liquides\n",
    "\n",
    "Ces facteurs correspondent à : \n",
    "- la fonte de neige (F), \n",
    "- les travaux planifiés et entretien (TPL)\n",
    "- urgence (U)\n",
    "- autre (AUT)"
   ]
  },
  {
   "cell_type": "code",
   "execution_count": 6,
   "metadata": {},
   "outputs": [
    {
     "data": {
      "text/html": [
       "<table class=\"data-frame\"><thead><tr><th></th><th>NO_OUVRAGE</th><th>DATE</th><th>SURVERSE</th></tr><tr><th></th><th>String</th><th>Date</th><th>Int64⍰</th></tr></thead><tbody><p>5 rows × 3 columns</p><tr><th>1</th><td>0642-01D</td><td>2013-05-01</td><td>0</td></tr><tr><th>2</th><td>0642-01D</td><td>2013-05-02</td><td>0</td></tr><tr><th>3</th><td>0642-01D</td><td>2013-05-03</td><td>0</td></tr><tr><th>4</th><td>0642-01D</td><td>2013-05-04</td><td>0</td></tr><tr><th>5</th><td>0642-01D</td><td>2013-05-05</td><td>0</td></tr></tbody></table>"
      ],
      "text/latex": [
       "\\begin{tabular}{r|ccc}\n",
       "\t& NO\\_OUVRAGE & DATE & SURVERSE\\\\\n",
       "\t\\hline\n",
       "\t& String & Date & Int64⍰\\\\\n",
       "\t\\hline\n",
       "\t1 & 0642-01D & 2013-05-01 & 0 \\\\\n",
       "\t2 & 0642-01D & 2013-05-02 & 0 \\\\\n",
       "\t3 & 0642-01D & 2013-05-03 & 0 \\\\\n",
       "\t4 & 0642-01D & 2013-05-04 & 0 \\\\\n",
       "\t5 & 0642-01D & 2013-05-05 & 0 \\\\\n",
       "\\end{tabular}\n"
      ],
      "text/plain": [
       "5×3 DataFrame\n",
       "│ Row │ NO_OUVRAGE │ DATE       │ SURVERSE │\n",
       "│     │ \u001b[90mString\u001b[39m     │ \u001b[90mDate\u001b[39m       │ \u001b[90mInt64⍰\u001b[39m   │\n",
       "├─────┼────────────┼────────────┼──────────┤\n",
       "│ 1   │ 0642-01D   │ 2013-05-01 │ 0        │\n",
       "│ 2   │ 0642-01D   │ 2013-05-02 │ 0        │\n",
       "│ 3   │ 0642-01D   │ 2013-05-03 │ 0        │\n",
       "│ 4   │ 0642-01D   │ 2013-05-04 │ 0        │\n",
       "│ 5   │ 0642-01D   │ 2013-05-05 │ 0        │"
      ]
     },
     "execution_count": 6,
     "metadata": {},
     "output_type": "execute_result"
    }
   ],
   "source": [
    "data = filter(row -> row.RAISON ∈ [\"P\",\"Inconnue\",\"TS\"], data) \n",
    "select!(data, [:NO_OUVRAGE, :DATE, :SURVERSE])\n",
    "first(data,5)"
   ]
  },
  {
   "cell_type": "markdown",
   "metadata": {},
   "source": [
    "#### Exclusion des lignes où :SURVERSE est manquante"
   ]
  },
  {
   "cell_type": "code",
   "execution_count": 7,
   "metadata": {},
   "outputs": [
    {
     "data": {
      "text/html": [
       "<table class=\"data-frame\"><thead><tr><th></th><th>NO_OUVRAGE</th><th>DATE</th><th>SURVERSE</th></tr><tr><th></th><th>String</th><th>Date</th><th>Int64</th></tr></thead><tbody><p>5 rows × 3 columns</p><tr><th>1</th><td>0642-01D</td><td>2013-05-01</td><td>0</td></tr><tr><th>2</th><td>0642-01D</td><td>2013-05-02</td><td>0</td></tr><tr><th>3</th><td>0642-01D</td><td>2013-05-03</td><td>0</td></tr><tr><th>4</th><td>0642-01D</td><td>2013-05-04</td><td>0</td></tr><tr><th>5</th><td>0642-01D</td><td>2013-05-05</td><td>0</td></tr></tbody></table>"
      ],
      "text/latex": [
       "\\begin{tabular}{r|ccc}\n",
       "\t& NO\\_OUVRAGE & DATE & SURVERSE\\\\\n",
       "\t\\hline\n",
       "\t& String & Date & Int64\\\\\n",
       "\t\\hline\n",
       "\t1 & 0642-01D & 2013-05-01 & 0 \\\\\n",
       "\t2 & 0642-01D & 2013-05-02 & 0 \\\\\n",
       "\t3 & 0642-01D & 2013-05-03 & 0 \\\\\n",
       "\t4 & 0642-01D & 2013-05-04 & 0 \\\\\n",
       "\t5 & 0642-01D & 2013-05-05 & 0 \\\\\n",
       "\\end{tabular}\n"
      ],
      "text/plain": [
       "5×3 DataFrame\n",
       "│ Row │ NO_OUVRAGE │ DATE       │ SURVERSE │\n",
       "│     │ \u001b[90mString\u001b[39m     │ \u001b[90mDate\u001b[39m       │ \u001b[90mInt64\u001b[39m    │\n",
       "├─────┼────────────┼────────────┼──────────┤\n",
       "│ 1   │ 0642-01D   │ 2013-05-01 │ 0        │\n",
       "│ 2   │ 0642-01D   │ 2013-05-02 │ 0        │\n",
       "│ 3   │ 0642-01D   │ 2013-05-03 │ 0        │\n",
       "│ 4   │ 0642-01D   │ 2013-05-04 │ 0        │\n",
       "│ 5   │ 0642-01D   │ 2013-05-05 │ 0        │"
      ]
     },
     "execution_count": 7,
     "metadata": {},
     "output_type": "execute_result"
    }
   ],
   "source": [
    "surverse_df = dropmissing(data, disallowmissing=true)\n",
    "first(surverse_df,5)"
   ]
  },
  {
   "cell_type": "code",
   "execution_count": 8,
   "metadata": {},
   "outputs": [
    {
     "data": {
      "text/plain": [
       "\"surverse_df.csv\""
      ]
     },
     "execution_count": 8,
     "metadata": {},
     "output_type": "execute_result"
    }
   ],
   "source": [
    "CSV.write(\"surverse_df.csv\", surverse_df)"
   ]
  },
  {
   "cell_type": "markdown",
   "metadata": {},
   "source": [
    "## Chargement des précipitations"
   ]
  },
  {
   "cell_type": "code",
   "execution_count": 9,
   "metadata": {},
   "outputs": [
    {
     "data": {
      "text/html": [
       "<table class=\"data-frame\"><thead><tr><th></th><th>date</th><th>heure</th><th>McTavish</th><th>Bellevue</th><th>Assomption</th><th>Trudeau</th><th>StHubert</th></tr><tr><th></th><th>Date</th><th>Int64</th><th>Int64⍰</th><th>Int64⍰</th><th>Int64⍰</th><th>Int64⍰</th><th>Int64⍰</th></tr></thead><tbody><p>5 rows × 7 columns</p><tr><th>1</th><td>2013-01-01</td><td>0</td><td>0</td><td>0</td><td>0</td><td>0</td><td>missing</td></tr><tr><th>2</th><td>2013-01-01</td><td>1</td><td>0</td><td>0</td><td>0</td><td>0</td><td>missing</td></tr><tr><th>3</th><td>2013-01-01</td><td>2</td><td>0</td><td>0</td><td>0</td><td>0</td><td>missing</td></tr><tr><th>4</th><td>2013-01-01</td><td>3</td><td>0</td><td>0</td><td>0</td><td>0</td><td>missing</td></tr><tr><th>5</th><td>2013-01-01</td><td>4</td><td>0</td><td>0</td><td>0</td><td>0</td><td>missing</td></tr></tbody></table>"
      ],
      "text/latex": [
       "\\begin{tabular}{r|ccccccc}\n",
       "\t& date & heure & McTavish & Bellevue & Assomption & Trudeau & StHubert\\\\\n",
       "\t\\hline\n",
       "\t& Date & Int64 & Int64⍰ & Int64⍰ & Int64⍰ & Int64⍰ & Int64⍰\\\\\n",
       "\t\\hline\n",
       "\t1 & 2013-01-01 & 0 & 0 & 0 & 0 & 0 &  \\\\\n",
       "\t2 & 2013-01-01 & 1 & 0 & 0 & 0 & 0 &  \\\\\n",
       "\t3 & 2013-01-01 & 2 & 0 & 0 & 0 & 0 &  \\\\\n",
       "\t4 & 2013-01-01 & 3 & 0 & 0 & 0 & 0 &  \\\\\n",
       "\t5 & 2013-01-01 & 4 & 0 & 0 & 0 & 0 &  \\\\\n",
       "\\end{tabular}\n"
      ],
      "text/plain": [
       "5×7 DataFrame. Omitted printing of 1 columns\n",
       "│ Row │ date       │ heure │ McTavish │ Bellevue │ Assomption │ Trudeau │\n",
       "│     │ \u001b[90mDate\u001b[39m       │ \u001b[90mInt64\u001b[39m │ \u001b[90mInt64⍰\u001b[39m   │ \u001b[90mInt64⍰\u001b[39m   │ \u001b[90mInt64⍰\u001b[39m     │ \u001b[90mInt64⍰\u001b[39m  │\n",
       "├─────┼────────────┼───────┼──────────┼──────────┼────────────┼─────────┤\n",
       "│ 1   │ 2013-01-01 │ 0     │ 0        │ 0        │ 0          │ 0       │\n",
       "│ 2   │ 2013-01-01 │ 1     │ 0        │ 0        │ 0          │ 0       │\n",
       "│ 3   │ 2013-01-01 │ 2     │ 0        │ 0        │ 0          │ 0       │\n",
       "│ 4   │ 2013-01-01 │ 3     │ 0        │ 0        │ 0          │ 0       │\n",
       "│ 5   │ 2013-01-01 │ 4     │ 0        │ 0        │ 0          │ 0       │"
      ]
     },
     "execution_count": 9,
     "metadata": {},
     "output_type": "execute_result"
    }
   ],
   "source": [
    "data = CSV.read(\"data/precipitations.csv\",missingstring=\"-99999\")\n",
    "rename!(data, Symbol(\"St-Hubert\")=>:StHubert)\n",
    "first(data,5)"
   ]
  },
  {
   "cell_type": "markdown",
   "metadata": {},
   "source": [
    "## Nettoyage des données sur les précipitations\n",
    "\n",
    "#### Extraction des précipitations des mois de mai à octobre inclusivement"
   ]
  },
  {
   "cell_type": "code",
   "execution_count": 10,
   "metadata": {},
   "outputs": [
    {
     "data": {
      "text/html": [
       "<table class=\"data-frame\"><thead><tr><th></th><th>date</th><th>heure</th><th>McTavish</th><th>Bellevue</th><th>Assomption</th><th>Trudeau</th><th>StHubert</th></tr><tr><th></th><th>Date</th><th>Int64</th><th>Int64⍰</th><th>Int64⍰</th><th>Int64⍰</th><th>Int64⍰</th><th>Int64⍰</th></tr></thead><tbody><p>5 rows × 7 columns</p><tr><th>1</th><td>2013-05-01</td><td>0</td><td>0</td><td>0</td><td>0</td><td>0</td><td>missing</td></tr><tr><th>2</th><td>2013-05-01</td><td>1</td><td>0</td><td>0</td><td>0</td><td>0</td><td>missing</td></tr><tr><th>3</th><td>2013-05-01</td><td>2</td><td>0</td><td>0</td><td>0</td><td>0</td><td>missing</td></tr><tr><th>4</th><td>2013-05-01</td><td>3</td><td>0</td><td>0</td><td>0</td><td>0</td><td>missing</td></tr><tr><th>5</th><td>2013-05-01</td><td>4</td><td>0</td><td>0</td><td>0</td><td>0</td><td>missing</td></tr></tbody></table>"
      ],
      "text/latex": [
       "\\begin{tabular}{r|ccccccc}\n",
       "\t& date & heure & McTavish & Bellevue & Assomption & Trudeau & StHubert\\\\\n",
       "\t\\hline\n",
       "\t& Date & Int64 & Int64⍰ & Int64⍰ & Int64⍰ & Int64⍰ & Int64⍰\\\\\n",
       "\t\\hline\n",
       "\t1 & 2013-05-01 & 0 & 0 & 0 & 0 & 0 &  \\\\\n",
       "\t2 & 2013-05-01 & 1 & 0 & 0 & 0 & 0 &  \\\\\n",
       "\t3 & 2013-05-01 & 2 & 0 & 0 & 0 & 0 &  \\\\\n",
       "\t4 & 2013-05-01 & 3 & 0 & 0 & 0 & 0 &  \\\\\n",
       "\t5 & 2013-05-01 & 4 & 0 & 0 & 0 & 0 &  \\\\\n",
       "\\end{tabular}\n"
      ],
      "text/plain": [
       "5×7 DataFrame. Omitted printing of 1 columns\n",
       "│ Row │ date       │ heure │ McTavish │ Bellevue │ Assomption │ Trudeau │\n",
       "│     │ \u001b[90mDate\u001b[39m       │ \u001b[90mInt64\u001b[39m │ \u001b[90mInt64⍰\u001b[39m   │ \u001b[90mInt64⍰\u001b[39m   │ \u001b[90mInt64⍰\u001b[39m     │ \u001b[90mInt64⍰\u001b[39m  │\n",
       "├─────┼────────────┼───────┼──────────┼──────────┼────────────┼─────────┤\n",
       "│ 1   │ 2013-05-01 │ 0     │ 0        │ 0        │ 0          │ 0       │\n",
       "│ 2   │ 2013-05-01 │ 1     │ 0        │ 0        │ 0          │ 0       │\n",
       "│ 3   │ 2013-05-01 │ 2     │ 0        │ 0        │ 0          │ 0       │\n",
       "│ 4   │ 2013-05-01 │ 3     │ 0        │ 0        │ 0          │ 0       │\n",
       "│ 5   │ 2013-05-01 │ 4     │ 0        │ 0        │ 0          │ 0       │"
      ]
     },
     "execution_count": 10,
     "metadata": {},
     "output_type": "execute_result"
    }
   ],
   "source": [
    "data = filter(row -> month(row.date) > 4, data) \n",
    "data = filter(row -> month(row.date) < 11, data) \n",
    "first(data,5)"
   ]
  },
  {
   "cell_type": "markdown",
   "metadata": {},
   "source": [
    " ### Remplissage des données manquantes\n",
    "Nous allons tenter de remplir les données manquantes par des moyennes de précipitations lorsque les données sont inconnues pour 2 stations ou plus"
   ]
  },
  {
   "cell_type": "code",
   "execution_count": 11,
   "metadata": {},
   "outputs": [
    {
     "data": {
      "text/plain": [
       "countMissing (generic function with 1 method)"
      ]
     },
     "execution_count": 11,
     "metadata": {},
     "output_type": "execute_result"
    }
   ],
   "source": [
    "# fonction permettant de compter le nombre de valeurs du type \"missing\" dans une ligne\n",
    "function countMissing(line)\n",
    "    count=0\n",
    "    ind = 0\n",
    "    for i=1:length(line)\n",
    "        if (ismissing(line[i]))\n",
    "            count += 1\n",
    "            ind = i\n",
    "        end\n",
    "    end\n",
    "    return count, ind\n",
    "end"
   ]
  },
  {
   "cell_type": "code",
   "execution_count": 12,
   "metadata": {},
   "outputs": [
    {
     "data": {
      "text/plain": [
       "meanLine (generic function with 1 method)"
      ]
     },
     "execution_count": 12,
     "metadata": {},
     "output_type": "execute_result"
    }
   ],
   "source": [
    "# fonction permettant de calculer le moyenne des valeurs d'une ligne peu importe le nombre de \"missing\"\n",
    "function meanLine(line)\n",
    "    values = []\n",
    "    for i=1:length(line)\n",
    "        if (!ismissing(line[i]))\n",
    "            append!(values,line[i])\n",
    "        end\n",
    "    end\n",
    "    return mean(values)\n",
    "end"
   ]
  },
  {
   "cell_type": "code",
   "execution_count": 13,
   "metadata": {},
   "outputs": [
    {
     "data": {
      "text/plain": [
       "replaceMissing (generic function with 1 method)"
      ]
     },
     "execution_count": 13,
     "metadata": {},
     "output_type": "execute_result"
    }
   ],
   "source": [
    "# fonction permettant de remplacer toutes les valeurs \"missing\" d'une ligne avec la valeur donnée en parametre\n",
    "function replaceMissing(line,value)\n",
    "    n = length(line)\n",
    "    for i=1:n\n",
    "        if (ismissing(line[i]))\n",
    "            line[i] = value\n",
    "        end\n",
    "    end\n",
    "end"
   ]
  },
  {
   "cell_type": "markdown",
   "metadata": {},
   "source": [
    "### Faire le remplissage des valeurs manquantes"
   ]
  },
  {
   "cell_type": "code",
   "execution_count": 14,
   "metadata": {},
   "outputs": [
    {
     "ename": "UndefVarError",
     "evalue": "UndefVarError: betas not defined",
     "output_type": "error",
     "traceback": [
      "UndefVarError: betas not defined",
      "",
      "Stacktrace:",
      " [1] top-level scope at ./In[14]:8"
     ]
    }
   ],
   "source": [
    "n = length(data[:,:date])\n",
    "prec = data[:,Not(:date)][:,Not(:heure)]\n",
    "nbMissing = 0\n",
    "\n",
    "for row in eachrow(prec)\n",
    "    nbMissing, ind = countMissing(row)\n",
    "    if(nbMissing == 1)\n",
    "        row[ind] = round((convert(Vector{Float64},row[Not(ind)])'*betas[:, :β][ind]))\n",
    "    end\n",
    "    # remplacer les lignes qui ont de 2 a 4 missing\n",
    "    if(nbMissing<5 && nbMissing>1)\n",
    "        replaceMissing(row,round(meanLine(row)))\n",
    "    end\n",
    "end\n",
    "first(prec,10)"
   ]
  },
  {
   "cell_type": "code",
   "execution_count": 15,
   "metadata": {},
   "outputs": [
    {
     "data": {
      "text/html": [
       "<table class=\"data-frame\"><thead><tr><th></th><th>McTavish</th><th>Bellevue</th><th>Assomption</th><th>Trudeau</th><th>StHubert</th><th>heure</th><th>date</th></tr><tr><th></th><th>Int64⍰</th><th>Int64⍰</th><th>Int64⍰</th><th>Int64⍰</th><th>Int64⍰</th><th>Int64</th><th>Date</th></tr></thead><tbody><p>5 rows × 7 columns</p><tr><th>1</th><td>0</td><td>0</td><td>0</td><td>0</td><td>missing</td><td>0</td><td>2013-05-01</td></tr><tr><th>2</th><td>0</td><td>0</td><td>0</td><td>0</td><td>missing</td><td>1</td><td>2013-05-01</td></tr><tr><th>3</th><td>0</td><td>0</td><td>0</td><td>0</td><td>missing</td><td>2</td><td>2013-05-01</td></tr><tr><th>4</th><td>0</td><td>0</td><td>0</td><td>0</td><td>missing</td><td>3</td><td>2013-05-01</td></tr><tr><th>5</th><td>0</td><td>0</td><td>0</td><td>0</td><td>missing</td><td>4</td><td>2013-05-01</td></tr></tbody></table>"
      ],
      "text/latex": [
       "\\begin{tabular}{r|ccccccc}\n",
       "\t& McTavish & Bellevue & Assomption & Trudeau & StHubert & heure & date\\\\\n",
       "\t\\hline\n",
       "\t& Int64⍰ & Int64⍰ & Int64⍰ & Int64⍰ & Int64⍰ & Int64 & Date\\\\\n",
       "\t\\hline\n",
       "\t1 & 0 & 0 & 0 & 0 &  & 0 & 2013-05-01 \\\\\n",
       "\t2 & 0 & 0 & 0 & 0 &  & 1 & 2013-05-01 \\\\\n",
       "\t3 & 0 & 0 & 0 & 0 &  & 2 & 2013-05-01 \\\\\n",
       "\t4 & 0 & 0 & 0 & 0 &  & 3 & 2013-05-01 \\\\\n",
       "\t5 & 0 & 0 & 0 & 0 &  & 4 & 2013-05-01 \\\\\n",
       "\\end{tabular}\n"
      ],
      "text/plain": [
       "5×7 DataFrame. Omitted printing of 1 columns\n",
       "│ Row │ McTavish │ Bellevue │ Assomption │ Trudeau │ StHubert │ heure │\n",
       "│     │ \u001b[90mInt64⍰\u001b[39m   │ \u001b[90mInt64⍰\u001b[39m   │ \u001b[90mInt64⍰\u001b[39m     │ \u001b[90mInt64⍰\u001b[39m  │ \u001b[90mInt64⍰\u001b[39m   │ \u001b[90mInt64\u001b[39m │\n",
       "├─────┼──────────┼──────────┼────────────┼─────────┼──────────┼───────┤\n",
       "│ 1   │ 0        │ 0        │ 0          │ 0       │ \u001b[90mmissing\u001b[39m  │ 0     │\n",
       "│ 2   │ 0        │ 0        │ 0          │ 0       │ \u001b[90mmissing\u001b[39m  │ 1     │\n",
       "│ 3   │ 0        │ 0        │ 0          │ 0       │ \u001b[90mmissing\u001b[39m  │ 2     │\n",
       "│ 4   │ 0        │ 0        │ 0          │ 0       │ \u001b[90mmissing\u001b[39m  │ 3     │\n",
       "│ 5   │ 0        │ 0        │ 0          │ 0       │ \u001b[90mmissing\u001b[39m  │ 4     │"
      ]
     },
     "execution_count": 15,
     "metadata": {},
     "output_type": "execute_result"
    }
   ],
   "source": [
    "prec.heure = data[:,:heure]\n",
    "prec.date = data[:,:date]\n",
    "first(prec,5)"
   ]
  },
  {
   "cell_type": "code",
   "execution_count": 16,
   "metadata": {},
   "outputs": [
    {
     "data": {
      "text/plain": [
       "\"clean_values.csv\""
      ]
     },
     "execution_count": 16,
     "metadata": {},
     "output_type": "execute_result"
    }
   ],
   "source": [
    "clean_values = prec[: ,[:date, :heure, :McTavish, :Bellevue, :Assomption, :Trudeau, :StHubert]]\n",
    "CSV.write(\"clean_values.csv\",clean_values)"
   ]
  },
  {
   "cell_type": "markdown",
   "metadata": {},
   "source": [
    "# Calcul des max et des sums par jour"
   ]
  },
  {
   "cell_type": "code",
   "execution_count": 17,
   "metadata": {},
   "outputs": [
    {
     "data": {
      "text/html": [
       "<table class=\"data-frame\"><thead><tr><th></th><th>date</th><th>McTavish</th><th>Bellevue</th><th>Assomption</th><th>Trudeau</th><th>StHubert</th></tr><tr><th></th><th>Date</th><th>Int64⍰</th><th>Int64⍰</th><th>Int64⍰</th><th>Int64⍰</th><th>Int64⍰</th></tr></thead><tbody><p>10 rows × 6 columns</p><tr><th>1</th><td>2013-05-01</td><td>0</td><td>0</td><td>0</td><td>0</td><td>missing</td></tr><tr><th>2</th><td>2013-05-02</td><td>0</td><td>0</td><td>0</td><td>0</td><td>missing</td></tr><tr><th>3</th><td>2013-05-03</td><td>0</td><td>0</td><td>0</td><td>0</td><td>missing</td></tr><tr><th>4</th><td>2013-05-04</td><td>0</td><td>0</td><td>0</td><td>0</td><td>missing</td></tr><tr><th>5</th><td>2013-05-05</td><td>0</td><td>0</td><td>0</td><td>0</td><td>missing</td></tr><tr><th>6</th><td>2013-05-06</td><td>0</td><td>0</td><td>0</td><td>0</td><td>missing</td></tr><tr><th>7</th><td>2013-05-07</td><td>0</td><td>0</td><td>0</td><td>0</td><td>missing</td></tr><tr><th>8</th><td>2013-05-08</td><td>0</td><td>0</td><td>0</td><td>0</td><td>missing</td></tr><tr><th>9</th><td>2013-05-09</td><td>10</td><td>0</td><td>19</td><td>0</td><td>missing</td></tr><tr><th>10</th><td>2013-05-10</td><td>0</td><td>4</td><td>20</td><td>0</td><td>missing</td></tr></tbody></table>"
      ],
      "text/latex": [
       "\\begin{tabular}{r|cccccc}\n",
       "\t& date & McTavish & Bellevue & Assomption & Trudeau & StHubert\\\\\n",
       "\t\\hline\n",
       "\t& Date & Int64⍰ & Int64⍰ & Int64⍰ & Int64⍰ & Int64⍰\\\\\n",
       "\t\\hline\n",
       "\t1 & 2013-05-01 & 0 & 0 & 0 & 0 &  \\\\\n",
       "\t2 & 2013-05-02 & 0 & 0 & 0 & 0 &  \\\\\n",
       "\t3 & 2013-05-03 & 0 & 0 & 0 & 0 &  \\\\\n",
       "\t4 & 2013-05-04 & 0 & 0 & 0 & 0 &  \\\\\n",
       "\t5 & 2013-05-05 & 0 & 0 & 0 & 0 &  \\\\\n",
       "\t6 & 2013-05-06 & 0 & 0 & 0 & 0 &  \\\\\n",
       "\t7 & 2013-05-07 & 0 & 0 & 0 & 0 &  \\\\\n",
       "\t8 & 2013-05-08 & 0 & 0 & 0 & 0 &  \\\\\n",
       "\t9 & 2013-05-09 & 10 & 0 & 19 & 0 &  \\\\\n",
       "\t10 & 2013-05-10 & 0 & 4 & 20 & 0 &  \\\\\n",
       "\\end{tabular}\n"
      ],
      "text/plain": [
       "10×6 DataFrame\n",
       "│ Row │ date       │ McTavish │ Bellevue │ Assomption │ Trudeau │ StHubert │\n",
       "│     │ \u001b[90mDate\u001b[39m       │ \u001b[90mInt64⍰\u001b[39m   │ \u001b[90mInt64⍰\u001b[39m   │ \u001b[90mInt64⍰\u001b[39m     │ \u001b[90mInt64⍰\u001b[39m  │ \u001b[90mInt64⍰\u001b[39m   │\n",
       "├─────┼────────────┼──────────┼──────────┼────────────┼─────────┼──────────┤\n",
       "│ 1   │ 2013-05-01 │ 0        │ 0        │ 0          │ 0       │ \u001b[90mmissing\u001b[39m  │\n",
       "│ 2   │ 2013-05-02 │ 0        │ 0        │ 0          │ 0       │ \u001b[90mmissing\u001b[39m  │\n",
       "│ 3   │ 2013-05-03 │ 0        │ 0        │ 0          │ 0       │ \u001b[90mmissing\u001b[39m  │\n",
       "│ 4   │ 2013-05-04 │ 0        │ 0        │ 0          │ 0       │ \u001b[90mmissing\u001b[39m  │\n",
       "│ 5   │ 2013-05-05 │ 0        │ 0        │ 0          │ 0       │ \u001b[90mmissing\u001b[39m  │\n",
       "│ 6   │ 2013-05-06 │ 0        │ 0        │ 0          │ 0       │ \u001b[90mmissing\u001b[39m  │\n",
       "│ 7   │ 2013-05-07 │ 0        │ 0        │ 0          │ 0       │ \u001b[90mmissing\u001b[39m  │\n",
       "│ 8   │ 2013-05-08 │ 0        │ 0        │ 0          │ 0       │ \u001b[90mmissing\u001b[39m  │\n",
       "│ 9   │ 2013-05-09 │ 10       │ 0        │ 19         │ 0       │ \u001b[90mmissing\u001b[39m  │\n",
       "│ 10  │ 2013-05-10 │ 0        │ 4        │ 20         │ 0       │ \u001b[90mmissing\u001b[39m  │"
      ]
     },
     "execution_count": 17,
     "metadata": {},
     "output_type": "execute_result"
    }
   ],
   "source": [
    "pcp_sum = by(prec, :date,  McTavish = :McTavish=>sum, Bellevue = :Bellevue=>sum, \n",
    "   Assomption = :Assomption=>sum, Trudeau = :Trudeau=>sum, StHubert = :StHubert=>sum)\n",
    "first(pcp_sum ,10)"
   ]
  },
  {
   "cell_type": "markdown",
   "metadata": {},
   "source": [
    "#### Extraction du taux horaire journalier maximum des précipitations pour chacune des stations météorologiques"
   ]
  },
  {
   "cell_type": "code",
   "execution_count": 18,
   "metadata": {},
   "outputs": [
    {
     "data": {
      "text/html": [
       "<table class=\"data-frame\"><thead><tr><th></th><th>date</th><th>McTavish</th><th>Bellevue</th><th>Assomption</th><th>Trudeau</th><th>StHubert</th></tr><tr><th></th><th>Date</th><th>Int64⍰</th><th>Int64⍰</th><th>Int64⍰</th><th>Int64⍰</th><th>Int64⍰</th></tr></thead><tbody><p>10 rows × 6 columns</p><tr><th>1</th><td>2013-05-01</td><td>0</td><td>0</td><td>0</td><td>0</td><td>missing</td></tr><tr><th>2</th><td>2013-05-02</td><td>0</td><td>0</td><td>0</td><td>0</td><td>missing</td></tr><tr><th>3</th><td>2013-05-03</td><td>0</td><td>0</td><td>0</td><td>0</td><td>missing</td></tr><tr><th>4</th><td>2013-05-04</td><td>0</td><td>0</td><td>0</td><td>0</td><td>missing</td></tr><tr><th>5</th><td>2013-05-05</td><td>0</td><td>0</td><td>0</td><td>0</td><td>missing</td></tr><tr><th>6</th><td>2013-05-06</td><td>0</td><td>0</td><td>0</td><td>0</td><td>missing</td></tr><tr><th>7</th><td>2013-05-07</td><td>0</td><td>0</td><td>0</td><td>0</td><td>missing</td></tr><tr><th>8</th><td>2013-05-08</td><td>0</td><td>0</td><td>0</td><td>0</td><td>missing</td></tr><tr><th>9</th><td>2013-05-09</td><td>10</td><td>0</td><td>19</td><td>0</td><td>missing</td></tr><tr><th>10</th><td>2013-05-10</td><td>0</td><td>4</td><td>20</td><td>0</td><td>missing</td></tr></tbody></table>"
      ],
      "text/latex": [
       "\\begin{tabular}{r|cccccc}\n",
       "\t& date & McTavish & Bellevue & Assomption & Trudeau & StHubert\\\\\n",
       "\t\\hline\n",
       "\t& Date & Int64⍰ & Int64⍰ & Int64⍰ & Int64⍰ & Int64⍰\\\\\n",
       "\t\\hline\n",
       "\t1 & 2013-05-01 & 0 & 0 & 0 & 0 &  \\\\\n",
       "\t2 & 2013-05-02 & 0 & 0 & 0 & 0 &  \\\\\n",
       "\t3 & 2013-05-03 & 0 & 0 & 0 & 0 &  \\\\\n",
       "\t4 & 2013-05-04 & 0 & 0 & 0 & 0 &  \\\\\n",
       "\t5 & 2013-05-05 & 0 & 0 & 0 & 0 &  \\\\\n",
       "\t6 & 2013-05-06 & 0 & 0 & 0 & 0 &  \\\\\n",
       "\t7 & 2013-05-07 & 0 & 0 & 0 & 0 &  \\\\\n",
       "\t8 & 2013-05-08 & 0 & 0 & 0 & 0 &  \\\\\n",
       "\t9 & 2013-05-09 & 10 & 0 & 19 & 0 &  \\\\\n",
       "\t10 & 2013-05-10 & 0 & 4 & 20 & 0 &  \\\\\n",
       "\\end{tabular}\n"
      ],
      "text/plain": [
       "10×6 DataFrame\n",
       "│ Row │ date       │ McTavish │ Bellevue │ Assomption │ Trudeau │ StHubert │\n",
       "│     │ \u001b[90mDate\u001b[39m       │ \u001b[90mInt64⍰\u001b[39m   │ \u001b[90mInt64⍰\u001b[39m   │ \u001b[90mInt64⍰\u001b[39m     │ \u001b[90mInt64⍰\u001b[39m  │ \u001b[90mInt64⍰\u001b[39m   │\n",
       "├─────┼────────────┼──────────┼──────────┼────────────┼─────────┼──────────┤\n",
       "│ 1   │ 2013-05-01 │ 0        │ 0        │ 0          │ 0       │ \u001b[90mmissing\u001b[39m  │\n",
       "│ 2   │ 2013-05-02 │ 0        │ 0        │ 0          │ 0       │ \u001b[90mmissing\u001b[39m  │\n",
       "│ 3   │ 2013-05-03 │ 0        │ 0        │ 0          │ 0       │ \u001b[90mmissing\u001b[39m  │\n",
       "│ 4   │ 2013-05-04 │ 0        │ 0        │ 0          │ 0       │ \u001b[90mmissing\u001b[39m  │\n",
       "│ 5   │ 2013-05-05 │ 0        │ 0        │ 0          │ 0       │ \u001b[90mmissing\u001b[39m  │\n",
       "│ 6   │ 2013-05-06 │ 0        │ 0        │ 0          │ 0       │ \u001b[90mmissing\u001b[39m  │\n",
       "│ 7   │ 2013-05-07 │ 0        │ 0        │ 0          │ 0       │ \u001b[90mmissing\u001b[39m  │\n",
       "│ 8   │ 2013-05-08 │ 0        │ 0        │ 0          │ 0       │ \u001b[90mmissing\u001b[39m  │\n",
       "│ 9   │ 2013-05-09 │ 10       │ 0        │ 19         │ 0       │ \u001b[90mmissing\u001b[39m  │\n",
       "│ 10  │ 2013-05-10 │ 0        │ 4        │ 20         │ 0       │ \u001b[90mmissing\u001b[39m  │"
      ]
     },
     "execution_count": 18,
     "metadata": {},
     "output_type": "execute_result"
    }
   ],
   "source": [
    "pcp_max = by(prec, :date,  McTavish = :McTavish=>maximum, Bellevue = :Bellevue=>maximum, \n",
    "   Assomption = :Assomption=>maximum, Trudeau = :Trudeau=>maximum, StHubert = :StHubert=>maximum)\n",
    "first(pcp_max,10)"
   ]
  },
  {
   "cell_type": "markdown",
   "metadata": {},
   "source": [
    "#### Traçage des distribution de la somme des précipitations en fonction des surverses ou non\n",
    "\n",
    "On remarque que les deux distributions sont très différentes. Ceci suggère que la somme des précipitations à la station McTavish a un effet sur les surverses au Bota-Bota."
   ]
  },
  {
   "cell_type": "code",
   "execution_count": 19,
   "metadata": {},
   "outputs": [
    {
     "ename": "UndefVarError",
     "evalue": "UndefVarError: df not defined",
     "output_type": "error",
     "traceback": [
      "UndefVarError: df not defined",
      "",
      "Stacktrace:",
      " [1] top-level scope at In[19]:1"
     ]
    }
   ],
   "source": [
    "plot(df, x=:SURVERSE, y=:SUM, Geom.boxplot)"
   ]
  },
  {
   "cell_type": "markdown",
   "metadata": {},
   "source": [
    "#### Traçage des distribution de la somme des précipitations en fonction des surverses ou non\n",
    "\n",
    "On remarque que les deux distributions sont très différentes. Ceci suggère que le maximum journalier des précipitations à la station McTavish a un effet sur les surverses au Bota-Bota."
   ]
  },
  {
   "cell_type": "code",
   "execution_count": 20,
   "metadata": {},
   "outputs": [
    {
     "ename": "UndefVarError",
     "evalue": "UndefVarError: df not defined",
     "output_type": "error",
     "traceback": [
      "UndefVarError: df not defined",
      "",
      "Stacktrace:",
      " [1] top-level scope at In[20]:1"
     ]
    }
   ],
   "source": [
    "plot(df, x=:SURVERSE, y=:MAX, Geom.boxplot)"
   ]
  },
  {
   "cell_type": "markdown",
   "metadata": {},
   "source": [
    "## Mise en place des valeurs cherchees "
   ]
  },
  {
   "cell_type": "code",
   "execution_count": 21,
   "metadata": {},
   "outputs": [
    {
     "data": {
      "text/html": [
       "<table class=\"data-frame\"><thead><tr><th></th><th>NO_OUVRAGE</th><th>date</th><th>maxMcTavish</th><th>maxBellevue</th><th>maxAssomption</th><th>maxTrudeau</th><th>maxStHubert</th></tr><tr><th></th><th>String</th><th>Date</th><th>Int64⍰</th><th>Int64⍰</th><th>Int64⍰</th><th>Int64⍰</th><th>Int64⍰</th></tr></thead><tbody><p>283 rows × 12 columns (omitted printing of 5 columns)</p><tr><th>1</th><td>3260-01D</td><td>2019-05-02</td><td>12</td><td>7</td><td>7</td><td>8</td><td>10</td></tr><tr><th>2</th><td>3260-01D</td><td>2019-05-09</td><td>45</td><td>26</td><td>55</td><td>43</td><td>32</td></tr><tr><th>3</th><td>3260-01D</td><td>2019-05-10</td><td>66</td><td>48</td><td>50</td><td>48</td><td>50</td></tr><tr><th>4</th><td>3260-01D</td><td>2019-05-15</td><td>2</td><td>0</td><td>0</td><td>0</td><td>0</td></tr><tr><th>5</th><td>3260-01D</td><td>2019-05-20</td><td>40</td><td>5</td><td>27</td><td>51</td><td>38</td></tr><tr><th>6</th><td>3260-01D</td><td>2019-05-23</td><td>missing</td><td>missing</td><td>186</td><td>66</td><td>99</td></tr><tr><th>7</th><td>3260-01D</td><td>2019-05-24</td><td>9</td><td>missing</td><td>12</td><td>6</td><td>12</td></tr><tr><th>8</th><td>3260-01D</td><td>2019-05-26</td><td>3</td><td>missing</td><td>21</td><td>3</td><td>5</td></tr><tr><th>9</th><td>3260-01D</td><td>2019-05-30</td><td>7</td><td>missing</td><td>10</td><td>missing</td><td>10</td></tr><tr><th>10</th><td>3350-07D</td><td>2019-05-01</td><td>24</td><td>24</td><td>15</td><td>21</td><td>22</td></tr><tr><th>11</th><td>3350-07D</td><td>2019-05-02</td><td>12</td><td>7</td><td>7</td><td>8</td><td>10</td></tr><tr><th>12</th><td>3350-07D</td><td>2019-05-08</td><td>0</td><td>0</td><td>0</td><td>0</td><td>0</td></tr><tr><th>13</th><td>3350-07D</td><td>2019-05-09</td><td>45</td><td>26</td><td>55</td><td>43</td><td>32</td></tr><tr><th>14</th><td>3350-07D</td><td>2019-05-10</td><td>66</td><td>48</td><td>50</td><td>48</td><td>50</td></tr><tr><th>15</th><td>3350-07D</td><td>2019-05-11</td><td>2</td><td>0</td><td>0</td><td>0</td><td>0</td></tr><tr><th>16</th><td>3350-07D</td><td>2019-05-13</td><td>18</td><td>14</td><td>0</td><td>9</td><td>5</td></tr><tr><th>17</th><td>3350-07D</td><td>2019-05-14</td><td>22</td><td>21</td><td>25</td><td>18</td><td>15</td></tr><tr><th>18</th><td>3350-07D</td><td>2019-05-18</td><td>0</td><td>0</td><td>0</td><td>2</td><td>0</td></tr><tr><th>19</th><td>3350-07D</td><td>2019-05-19</td><td>23</td><td>32</td><td>16</td><td>27</td><td>25</td></tr><tr><th>20</th><td>3350-07D</td><td>2019-05-20</td><td>40</td><td>5</td><td>27</td><td>51</td><td>38</td></tr><tr><th>21</th><td>3350-07D</td><td>2019-05-23</td><td>missing</td><td>missing</td><td>186</td><td>66</td><td>99</td></tr><tr><th>22</th><td>3350-07D</td><td>2019-05-24</td><td>9</td><td>missing</td><td>12</td><td>6</td><td>12</td></tr><tr><th>23</th><td>3350-07D</td><td>2019-05-25</td><td>0</td><td>missing</td><td>7</td><td>2</td><td>2</td></tr><tr><th>24</th><td>3350-07D</td><td>2019-05-27</td><td>0</td><td>missing</td><td>0</td><td>0</td><td>0</td></tr><tr><th>25</th><td>3350-07D</td><td>2019-05-31</td><td>2</td><td>missing</td><td>0</td><td>5</td><td>5</td></tr><tr><th>26</th><td>4240-01D</td><td>2019-05-07</td><td>3</td><td>0</td><td>0</td><td>0</td><td>0</td></tr><tr><th>27</th><td>4240-01D</td><td>2019-05-09</td><td>45</td><td>26</td><td>55</td><td>43</td><td>32</td></tr><tr><th>28</th><td>4240-01D</td><td>2019-05-10</td><td>66</td><td>48</td><td>50</td><td>48</td><td>50</td></tr><tr><th>29</th><td>4240-01D</td><td>2019-05-15</td><td>2</td><td>0</td><td>0</td><td>0</td><td>0</td></tr><tr><th>30</th><td>4240-01D</td><td>2019-05-21</td><td>0</td><td>0</td><td>3</td><td>2</td><td>0</td></tr><tr><th>&vellip;</th><td>&vellip;</td><td>&vellip;</td><td>&vellip;</td><td>&vellip;</td><td>&vellip;</td><td>&vellip;</td><td>&vellip;</td></tr></tbody></table>"
      ],
      "text/latex": [
       "\\begin{tabular}{r|cccccccc}\n",
       "\t& NO\\_OUVRAGE & date & maxMcTavish & maxBellevue & maxAssomption & maxTrudeau & maxStHubert & \\\\\n",
       "\t\\hline\n",
       "\t& String & Date & Int64⍰ & Int64⍰ & Int64⍰ & Int64⍰ & Int64⍰ & \\\\\n",
       "\t\\hline\n",
       "\t1 & 3260-01D & 2019-05-02 & 12 & 7 & 7 & 8 & 10 & $\\dots$ \\\\\n",
       "\t2 & 3260-01D & 2019-05-09 & 45 & 26 & 55 & 43 & 32 & $\\dots$ \\\\\n",
       "\t3 & 3260-01D & 2019-05-10 & 66 & 48 & 50 & 48 & 50 & $\\dots$ \\\\\n",
       "\t4 & 3260-01D & 2019-05-15 & 2 & 0 & 0 & 0 & 0 & $\\dots$ \\\\\n",
       "\t5 & 3260-01D & 2019-05-20 & 40 & 5 & 27 & 51 & 38 & $\\dots$ \\\\\n",
       "\t6 & 3260-01D & 2019-05-23 &  &  & 186 & 66 & 99 & $\\dots$ \\\\\n",
       "\t7 & 3260-01D & 2019-05-24 & 9 &  & 12 & 6 & 12 & $\\dots$ \\\\\n",
       "\t8 & 3260-01D & 2019-05-26 & 3 &  & 21 & 3 & 5 & $\\dots$ \\\\\n",
       "\t9 & 3260-01D & 2019-05-30 & 7 &  & 10 &  & 10 & $\\dots$ \\\\\n",
       "\t10 & 3350-07D & 2019-05-01 & 24 & 24 & 15 & 21 & 22 & $\\dots$ \\\\\n",
       "\t11 & 3350-07D & 2019-05-02 & 12 & 7 & 7 & 8 & 10 & $\\dots$ \\\\\n",
       "\t12 & 3350-07D & 2019-05-08 & 0 & 0 & 0 & 0 & 0 & $\\dots$ \\\\\n",
       "\t13 & 3350-07D & 2019-05-09 & 45 & 26 & 55 & 43 & 32 & $\\dots$ \\\\\n",
       "\t14 & 3350-07D & 2019-05-10 & 66 & 48 & 50 & 48 & 50 & $\\dots$ \\\\\n",
       "\t15 & 3350-07D & 2019-05-11 & 2 & 0 & 0 & 0 & 0 & $\\dots$ \\\\\n",
       "\t16 & 3350-07D & 2019-05-13 & 18 & 14 & 0 & 9 & 5 & $\\dots$ \\\\\n",
       "\t17 & 3350-07D & 2019-05-14 & 22 & 21 & 25 & 18 & 15 & $\\dots$ \\\\\n",
       "\t18 & 3350-07D & 2019-05-18 & 0 & 0 & 0 & 2 & 0 & $\\dots$ \\\\\n",
       "\t19 & 3350-07D & 2019-05-19 & 23 & 32 & 16 & 27 & 25 & $\\dots$ \\\\\n",
       "\t20 & 3350-07D & 2019-05-20 & 40 & 5 & 27 & 51 & 38 & $\\dots$ \\\\\n",
       "\t21 & 3350-07D & 2019-05-23 &  &  & 186 & 66 & 99 & $\\dots$ \\\\\n",
       "\t22 & 3350-07D & 2019-05-24 & 9 &  & 12 & 6 & 12 & $\\dots$ \\\\\n",
       "\t23 & 3350-07D & 2019-05-25 & 0 &  & 7 & 2 & 2 & $\\dots$ \\\\\n",
       "\t24 & 3350-07D & 2019-05-27 & 0 &  & 0 & 0 & 0 & $\\dots$ \\\\\n",
       "\t25 & 3350-07D & 2019-05-31 & 2 &  & 0 & 5 & 5 & $\\dots$ \\\\\n",
       "\t26 & 4240-01D & 2019-05-07 & 3 & 0 & 0 & 0 & 0 & $\\dots$ \\\\\n",
       "\t27 & 4240-01D & 2019-05-09 & 45 & 26 & 55 & 43 & 32 & $\\dots$ \\\\\n",
       "\t28 & 4240-01D & 2019-05-10 & 66 & 48 & 50 & 48 & 50 & $\\dots$ \\\\\n",
       "\t29 & 4240-01D & 2019-05-15 & 2 & 0 & 0 & 0 & 0 & $\\dots$ \\\\\n",
       "\t30 & 4240-01D & 2019-05-21 & 0 & 0 & 3 & 2 & 0 & $\\dots$ \\\\\n",
       "\t$\\dots$ & $\\dots$ & $\\dots$ & $\\dots$ & $\\dots$ & $\\dots$ & $\\dots$ & $\\dots$ &  \\\\\n",
       "\\end{tabular}\n"
      ],
      "text/plain": [
       "283×12 DataFrame. Omitted printing of 7 columns\n",
       "│ Row │ NO_OUVRAGE │ date       │ maxMcTavish │ maxBellevue │ maxAssomption │\n",
       "│     │ \u001b[90mString\u001b[39m     │ \u001b[90mDate\u001b[39m       │ \u001b[90mInt64⍰\u001b[39m      │ \u001b[90mInt64⍰\u001b[39m      │ \u001b[90mInt64⍰\u001b[39m        │\n",
       "├─────┼────────────┼────────────┼─────────────┼─────────────┼───────────────┤\n",
       "│ 1   │ 3260-01D   │ 2019-05-02 │ 12          │ 7           │ 7             │\n",
       "│ 2   │ 3260-01D   │ 2019-05-09 │ 45          │ 26          │ 55            │\n",
       "│ 3   │ 3260-01D   │ 2019-05-10 │ 66          │ 48          │ 50            │\n",
       "│ 4   │ 3260-01D   │ 2019-05-15 │ 2           │ 0           │ 0             │\n",
       "│ 5   │ 3260-01D   │ 2019-05-20 │ 40          │ 5           │ 27            │\n",
       "│ 6   │ 3260-01D   │ 2019-05-23 │ \u001b[90mmissing\u001b[39m     │ \u001b[90mmissing\u001b[39m     │ 186           │\n",
       "│ 7   │ 3260-01D   │ 2019-05-24 │ 9           │ \u001b[90mmissing\u001b[39m     │ 12            │\n",
       "│ 8   │ 3260-01D   │ 2019-05-26 │ 3           │ \u001b[90mmissing\u001b[39m     │ 21            │\n",
       "│ 9   │ 3260-01D   │ 2019-05-30 │ 7           │ \u001b[90mmissing\u001b[39m     │ 10            │\n",
       "│ 10  │ 3350-07D   │ 2019-05-01 │ 24          │ 24          │ 15            │\n",
       "⋮\n",
       "│ 273 │ 4380-01D   │ 2019-09-02 │ 61          │ \u001b[90mmissing\u001b[39m     │ \u001b[90mmissing\u001b[39m       │\n",
       "│ 274 │ 4380-01D   │ 2019-09-04 │ 126         │ \u001b[90mmissing\u001b[39m     │ \u001b[90mmissing\u001b[39m       │\n",
       "│ 275 │ 4380-01D   │ 2019-09-05 │ 0           │ \u001b[90mmissing\u001b[39m     │ \u001b[90mmissing\u001b[39m       │\n",
       "│ 276 │ 4380-01D   │ 2019-09-12 │ 0           │ \u001b[90mmissing\u001b[39m     │ \u001b[90mmissing\u001b[39m       │\n",
       "│ 277 │ 4380-01D   │ 2019-09-13 │ 0           │ \u001b[90mmissing\u001b[39m     │ \u001b[90mmissing\u001b[39m       │\n",
       "│ 278 │ 4380-01D   │ 2019-09-16 │ 0           │ \u001b[90mmissing\u001b[39m     │ \u001b[90mmissing\u001b[39m       │\n",
       "│ 279 │ 4380-01D   │ 2019-09-22 │ 0           │ \u001b[90mmissing\u001b[39m     │ \u001b[90mmissing\u001b[39m       │\n",
       "│ 280 │ 4380-01D   │ 2019-09-26 │ 34          │ \u001b[90mmissing\u001b[39m     │ \u001b[90mmissing\u001b[39m       │\n",
       "│ 281 │ 4380-01D   │ 2019-09-28 │ 17          │ \u001b[90mmissing\u001b[39m     │ \u001b[90mmissing\u001b[39m       │\n",
       "│ 282 │ 4380-01D   │ 2019-09-29 │ 2           │ \u001b[90mmissing\u001b[39m     │ \u001b[90mmissing\u001b[39m       │\n",
       "│ 283 │ 4380-01D   │ 2019-09-30 │ 0           │ \u001b[90mmissing\u001b[39m     │ \u001b[90mmissing\u001b[39m       │"
      ]
     },
     "execution_count": 21,
     "metadata": {},
     "output_type": "execute_result"
    }
   ],
   "source": [
    "test = CSV.read(\"data/test.csv\")\n",
    "df = test[:, [:NO_OUVRAGE, :DATE]]\n",
    "rename!(df, :DATE=>:date)\n",
    "for name in names(pcp_max[:, Not(:date)])\n",
    "    name2 = name\n",
    "    rename!(pcp_max, name=>Symbol(\"max\" * String(name)))\n",
    "    rename!(pcp_sum, name2=>Symbol(\"sum\" * String(name2)))\n",
    "end\n",
    "df = join(df, pcp_max, on=:date, kind= :inner)\n",
    "df = join(df, pcp_sum, on=:date, kind= :inner)\n"
   ]
  },
  {
   "cell_type": "code",
   "execution_count": 22,
   "metadata": {},
   "outputs": [
    {
     "data": {
      "text/html": [
       "<table class=\"data-frame\"><thead><tr><th></th><th>ouvrage</th><th>x₁</th><th>x₂</th><th>x₃</th><th>x₄</th><th>x₅</th><th>x₆</th><th>x₇</th><th>x₈</th></tr><tr><th></th><th>String</th><th>Int64⍰</th><th>Int64⍰</th><th>Int64⍰</th><th>Int64⍰</th><th>Int64⍰</th><th>Int64⍰</th><th>Int64⍰</th><th>Int64⍰</th></tr></thead><tbody><p>283 rows × 11 columns (omitted printing of 2 columns)</p><tr><th>1</th><td>3260-01D</td><td>26</td><td>12</td><td>19</td><td>7</td><td>15</td><td>7</td><td>13</td><td>8</td></tr><tr><th>2</th><td>3260-01D</td><td>89</td><td>45</td><td>67</td><td>26</td><td>77</td><td>55</td><td>86</td><td>43</td></tr><tr><th>3</th><td>3260-01D</td><td>385</td><td>66</td><td>265</td><td>48</td><td>286</td><td>50</td><td>285</td><td>48</td></tr><tr><th>4</th><td>3260-01D</td><td>2</td><td>2</td><td>0</td><td>0</td><td>0</td><td>0</td><td>0</td><td>0</td></tr><tr><th>5</th><td>3260-01D</td><td>46</td><td>40</td><td>5</td><td>5</td><td>49</td><td>27</td><td>53</td><td>51</td></tr><tr><th>6</th><td>3260-01D</td><td>missing</td><td>missing</td><td>missing</td><td>missing</td><td>351</td><td>186</td><td>159</td><td>66</td></tr><tr><th>7</th><td>3260-01D</td><td>13</td><td>9</td><td>missing</td><td>missing</td><td>22</td><td>12</td><td>15</td><td>6</td></tr><tr><th>8</th><td>3260-01D</td><td>3</td><td>3</td><td>missing</td><td>missing</td><td>21</td><td>21</td><td>5</td><td>3</td></tr><tr><th>9</th><td>3260-01D</td><td>7</td><td>7</td><td>missing</td><td>missing</td><td>13</td><td>10</td><td>missing</td><td>missing</td></tr><tr><th>10</th><td>3350-07D</td><td>79</td><td>24</td><td>52</td><td>24</td><td>58</td><td>15</td><td>47</td><td>21</td></tr><tr><th>11</th><td>3350-07D</td><td>26</td><td>12</td><td>19</td><td>7</td><td>15</td><td>7</td><td>13</td><td>8</td></tr><tr><th>12</th><td>3350-07D</td><td>0</td><td>0</td><td>0</td><td>0</td><td>0</td><td>0</td><td>0</td><td>0</td></tr><tr><th>13</th><td>3350-07D</td><td>89</td><td>45</td><td>67</td><td>26</td><td>77</td><td>55</td><td>86</td><td>43</td></tr><tr><th>14</th><td>3350-07D</td><td>385</td><td>66</td><td>265</td><td>48</td><td>286</td><td>50</td><td>285</td><td>48</td></tr><tr><th>15</th><td>3350-07D</td><td>2</td><td>2</td><td>0</td><td>0</td><td>0</td><td>0</td><td>0</td><td>0</td></tr><tr><th>16</th><td>3350-07D</td><td>18</td><td>18</td><td>22</td><td>14</td><td>0</td><td>0</td><td>9</td><td>9</td></tr><tr><th>17</th><td>3350-07D</td><td>95</td><td>22</td><td>130</td><td>21</td><td>62</td><td>25</td><td>104</td><td>18</td></tr><tr><th>18</th><td>3350-07D</td><td>0</td><td>0</td><td>0</td><td>0</td><td>0</td><td>0</td><td>2</td><td>2</td></tr><tr><th>19</th><td>3350-07D</td><td>65</td><td>23</td><td>56</td><td>32</td><td>37</td><td>16</td><td>57</td><td>27</td></tr><tr><th>20</th><td>3350-07D</td><td>46</td><td>40</td><td>5</td><td>5</td><td>49</td><td>27</td><td>53</td><td>51</td></tr><tr><th>21</th><td>3350-07D</td><td>missing</td><td>missing</td><td>missing</td><td>missing</td><td>351</td><td>186</td><td>159</td><td>66</td></tr><tr><th>22</th><td>3350-07D</td><td>13</td><td>9</td><td>missing</td><td>missing</td><td>22</td><td>12</td><td>15</td><td>6</td></tr><tr><th>23</th><td>3350-07D</td><td>0</td><td>0</td><td>missing</td><td>missing</td><td>7</td><td>7</td><td>4</td><td>2</td></tr><tr><th>24</th><td>3350-07D</td><td>0</td><td>0</td><td>missing</td><td>missing</td><td>0</td><td>0</td><td>0</td><td>0</td></tr><tr><th>25</th><td>3350-07D</td><td>2</td><td>2</td><td>missing</td><td>missing</td><td>0</td><td>0</td><td>5</td><td>5</td></tr><tr><th>26</th><td>4240-01D</td><td>3</td><td>3</td><td>0</td><td>0</td><td>0</td><td>0</td><td>0</td><td>0</td></tr><tr><th>27</th><td>4240-01D</td><td>89</td><td>45</td><td>67</td><td>26</td><td>77</td><td>55</td><td>86</td><td>43</td></tr><tr><th>28</th><td>4240-01D</td><td>385</td><td>66</td><td>265</td><td>48</td><td>286</td><td>50</td><td>285</td><td>48</td></tr><tr><th>29</th><td>4240-01D</td><td>2</td><td>2</td><td>0</td><td>0</td><td>0</td><td>0</td><td>0</td><td>0</td></tr><tr><th>30</th><td>4240-01D</td><td>0</td><td>0</td><td>0</td><td>0</td><td>3</td><td>3</td><td>2</td><td>2</td></tr><tr><th>&vellip;</th><td>&vellip;</td><td>&vellip;</td><td>&vellip;</td><td>&vellip;</td><td>&vellip;</td><td>&vellip;</td><td>&vellip;</td><td>&vellip;</td><td>&vellip;</td></tr></tbody></table>"
      ],
      "text/latex": [
       "\\begin{tabular}{r|cccccccccc}\n",
       "\t& ouvrage & x₁ & x₂ & x₃ & x₄ & x₅ & x₆ & x₇ & x₈ & \\\\\n",
       "\t\\hline\n",
       "\t& String & Int64⍰ & Int64⍰ & Int64⍰ & Int64⍰ & Int64⍰ & Int64⍰ & Int64⍰ & Int64⍰ & \\\\\n",
       "\t\\hline\n",
       "\t1 & 3260-01D & 26 & 12 & 19 & 7 & 15 & 7 & 13 & 8 & $\\dots$ \\\\\n",
       "\t2 & 3260-01D & 89 & 45 & 67 & 26 & 77 & 55 & 86 & 43 & $\\dots$ \\\\\n",
       "\t3 & 3260-01D & 385 & 66 & 265 & 48 & 286 & 50 & 285 & 48 & $\\dots$ \\\\\n",
       "\t4 & 3260-01D & 2 & 2 & 0 & 0 & 0 & 0 & 0 & 0 & $\\dots$ \\\\\n",
       "\t5 & 3260-01D & 46 & 40 & 5 & 5 & 49 & 27 & 53 & 51 & $\\dots$ \\\\\n",
       "\t6 & 3260-01D &  &  &  &  & 351 & 186 & 159 & 66 & $\\dots$ \\\\\n",
       "\t7 & 3260-01D & 13 & 9 &  &  & 22 & 12 & 15 & 6 & $\\dots$ \\\\\n",
       "\t8 & 3260-01D & 3 & 3 &  &  & 21 & 21 & 5 & 3 & $\\dots$ \\\\\n",
       "\t9 & 3260-01D & 7 & 7 &  &  & 13 & 10 &  &  & $\\dots$ \\\\\n",
       "\t10 & 3350-07D & 79 & 24 & 52 & 24 & 58 & 15 & 47 & 21 & $\\dots$ \\\\\n",
       "\t11 & 3350-07D & 26 & 12 & 19 & 7 & 15 & 7 & 13 & 8 & $\\dots$ \\\\\n",
       "\t12 & 3350-07D & 0 & 0 & 0 & 0 & 0 & 0 & 0 & 0 & $\\dots$ \\\\\n",
       "\t13 & 3350-07D & 89 & 45 & 67 & 26 & 77 & 55 & 86 & 43 & $\\dots$ \\\\\n",
       "\t14 & 3350-07D & 385 & 66 & 265 & 48 & 286 & 50 & 285 & 48 & $\\dots$ \\\\\n",
       "\t15 & 3350-07D & 2 & 2 & 0 & 0 & 0 & 0 & 0 & 0 & $\\dots$ \\\\\n",
       "\t16 & 3350-07D & 18 & 18 & 22 & 14 & 0 & 0 & 9 & 9 & $\\dots$ \\\\\n",
       "\t17 & 3350-07D & 95 & 22 & 130 & 21 & 62 & 25 & 104 & 18 & $\\dots$ \\\\\n",
       "\t18 & 3350-07D & 0 & 0 & 0 & 0 & 0 & 0 & 2 & 2 & $\\dots$ \\\\\n",
       "\t19 & 3350-07D & 65 & 23 & 56 & 32 & 37 & 16 & 57 & 27 & $\\dots$ \\\\\n",
       "\t20 & 3350-07D & 46 & 40 & 5 & 5 & 49 & 27 & 53 & 51 & $\\dots$ \\\\\n",
       "\t21 & 3350-07D &  &  &  &  & 351 & 186 & 159 & 66 & $\\dots$ \\\\\n",
       "\t22 & 3350-07D & 13 & 9 &  &  & 22 & 12 & 15 & 6 & $\\dots$ \\\\\n",
       "\t23 & 3350-07D & 0 & 0 &  &  & 7 & 7 & 4 & 2 & $\\dots$ \\\\\n",
       "\t24 & 3350-07D & 0 & 0 &  &  & 0 & 0 & 0 & 0 & $\\dots$ \\\\\n",
       "\t25 & 3350-07D & 2 & 2 &  &  & 0 & 0 & 5 & 5 & $\\dots$ \\\\\n",
       "\t26 & 4240-01D & 3 & 3 & 0 & 0 & 0 & 0 & 0 & 0 & $\\dots$ \\\\\n",
       "\t27 & 4240-01D & 89 & 45 & 67 & 26 & 77 & 55 & 86 & 43 & $\\dots$ \\\\\n",
       "\t28 & 4240-01D & 385 & 66 & 265 & 48 & 286 & 50 & 285 & 48 & $\\dots$ \\\\\n",
       "\t29 & 4240-01D & 2 & 2 & 0 & 0 & 0 & 0 & 0 & 0 & $\\dots$ \\\\\n",
       "\t30 & 4240-01D & 0 & 0 & 0 & 0 & 3 & 3 & 2 & 2 & $\\dots$ \\\\\n",
       "\t$\\dots$ & $\\dots$ & $\\dots$ & $\\dots$ & $\\dots$ & $\\dots$ & $\\dots$ & $\\dots$ & $\\dots$ & $\\dots$ &  \\\\\n",
       "\\end{tabular}\n"
      ],
      "text/plain": [
       "283×11 DataFrame. Omitted printing of 4 columns\n",
       "│ Row │ ouvrage  │ x₁      │ x₂      │ x₃      │ x₄      │ x₅      │ x₆      │\n",
       "│     │ \u001b[90mString\u001b[39m   │ \u001b[90mInt64⍰\u001b[39m  │ \u001b[90mInt64⍰\u001b[39m  │ \u001b[90mInt64⍰\u001b[39m  │ \u001b[90mInt64⍰\u001b[39m  │ \u001b[90mInt64⍰\u001b[39m  │ \u001b[90mInt64⍰\u001b[39m  │\n",
       "├─────┼──────────┼─────────┼─────────┼─────────┼─────────┼─────────┼─────────┤\n",
       "│ 1   │ 3260-01D │ 26      │ 12      │ 19      │ 7       │ 15      │ 7       │\n",
       "│ 2   │ 3260-01D │ 89      │ 45      │ 67      │ 26      │ 77      │ 55      │\n",
       "│ 3   │ 3260-01D │ 385     │ 66      │ 265     │ 48      │ 286     │ 50      │\n",
       "│ 4   │ 3260-01D │ 2       │ 2       │ 0       │ 0       │ 0       │ 0       │\n",
       "│ 5   │ 3260-01D │ 46      │ 40      │ 5       │ 5       │ 49      │ 27      │\n",
       "│ 6   │ 3260-01D │ \u001b[90mmissing\u001b[39m │ \u001b[90mmissing\u001b[39m │ \u001b[90mmissing\u001b[39m │ \u001b[90mmissing\u001b[39m │ 351     │ 186     │\n",
       "│ 7   │ 3260-01D │ 13      │ 9       │ \u001b[90mmissing\u001b[39m │ \u001b[90mmissing\u001b[39m │ 22      │ 12      │\n",
       "│ 8   │ 3260-01D │ 3       │ 3       │ \u001b[90mmissing\u001b[39m │ \u001b[90mmissing\u001b[39m │ 21      │ 21      │\n",
       "│ 9   │ 3260-01D │ 7       │ 7       │ \u001b[90mmissing\u001b[39m │ \u001b[90mmissing\u001b[39m │ 13      │ 10      │\n",
       "│ 10  │ 3350-07D │ 79      │ 24      │ 52      │ 24      │ 58      │ 15      │\n",
       "⋮\n",
       "│ 273 │ 4380-01D │ 352     │ 61      │ \u001b[90mmissing\u001b[39m │ \u001b[90mmissing\u001b[39m │ \u001b[90mmissing\u001b[39m │ \u001b[90mmissing\u001b[39m │\n",
       "│ 274 │ 4380-01D │ 227     │ 126     │ \u001b[90mmissing\u001b[39m │ \u001b[90mmissing\u001b[39m │ \u001b[90mmissing\u001b[39m │ \u001b[90mmissing\u001b[39m │\n",
       "│ 275 │ 4380-01D │ 0       │ 0       │ \u001b[90mmissing\u001b[39m │ \u001b[90mmissing\u001b[39m │ \u001b[90mmissing\u001b[39m │ \u001b[90mmissing\u001b[39m │\n",
       "│ 276 │ 4380-01D │ 0       │ 0       │ \u001b[90mmissing\u001b[39m │ \u001b[90mmissing\u001b[39m │ \u001b[90mmissing\u001b[39m │ \u001b[90mmissing\u001b[39m │\n",
       "│ 277 │ 4380-01D │ 0       │ 0       │ \u001b[90mmissing\u001b[39m │ \u001b[90mmissing\u001b[39m │ \u001b[90mmissing\u001b[39m │ \u001b[90mmissing\u001b[39m │\n",
       "│ 278 │ 4380-01D │ 0       │ 0       │ \u001b[90mmissing\u001b[39m │ \u001b[90mmissing\u001b[39m │ \u001b[90mmissing\u001b[39m │ \u001b[90mmissing\u001b[39m │\n",
       "│ 279 │ 4380-01D │ 0       │ 0       │ \u001b[90mmissing\u001b[39m │ \u001b[90mmissing\u001b[39m │ \u001b[90mmissing\u001b[39m │ \u001b[90mmissing\u001b[39m │\n",
       "│ 280 │ 4380-01D │ 112     │ 34      │ \u001b[90mmissing\u001b[39m │ \u001b[90mmissing\u001b[39m │ \u001b[90mmissing\u001b[39m │ \u001b[90mmissing\u001b[39m │\n",
       "│ 281 │ 4380-01D │ 55      │ 17      │ \u001b[90mmissing\u001b[39m │ \u001b[90mmissing\u001b[39m │ \u001b[90mmissing\u001b[39m │ \u001b[90mmissing\u001b[39m │\n",
       "│ 282 │ 4380-01D │ 2       │ 2       │ \u001b[90mmissing\u001b[39m │ \u001b[90mmissing\u001b[39m │ \u001b[90mmissing\u001b[39m │ \u001b[90mmissing\u001b[39m │\n",
       "│ 283 │ 4380-01D │ 0       │ 0       │ \u001b[90mmissing\u001b[39m │ \u001b[90mmissing\u001b[39m │ \u001b[90mmissing\u001b[39m │ \u001b[90mmissing\u001b[39m │"
      ]
     },
     "execution_count": 22,
     "metadata": {},
     "output_type": "execute_result"
    }
   ],
   "source": [
    "dataframe = DataFrame(ouvrage=df.NO_OUVRAGE, x₁=df.sumMcTavish,x₂=df.maxMcTavish,x₃=df.sumBellevue,x₄=df.maxBellevue,x₅=df.sumAssomption,x₆=df.maxAssomption,x₇=df.sumTrudeau,x₈=df.maxTrudeau,x₉=df.sumStHubert,x₁₀=df.maxStHubert)\n"
   ]
  },
  {
   "cell_type": "code",
   "execution_count": 23,
   "metadata": {},
   "outputs": [
    {
     "ename": "UndefVarError",
     "evalue": "UndefVarError: GLM not defined",
     "output_type": "error",
     "traceback": [
      "UndefVarError: GLM not defined",
      "",
      "Stacktrace:",
      " [1] top-level scope at ./In[23]:7"
     ]
    }
   ],
   "source": [
    "predictions = []\n",
    "for row in eachrow(dataframe)\n",
    "    if row.ouvrage == \"4350-01D\" \n",
    "        predictions = vcat(predictions, GLM.predict(Mvieuxmtl, DataFrame(row[Not(:ouvrage)])))\n",
    "    end\n",
    "    if row.ouvrage == \"3260-01D\"\n",
    "        predictions = vcat(predictions, GLM.predict(Mrdesp, DataFrame(row[Not(:ouvrage)])))\n",
    "    end\n",
    "    if row.ouvrage == \"3350-07D\"\n",
    "        predictions = vcat(predictions, GLM.predict(Mahunstic, DataFrame(row[Not(:ouvrage)])))\n",
    "    end\n",
    "    if row.ouvrage == \"4240-01D\"\n",
    "        predictions = vcat(predictions, GLM.predict(Mpauxt, DataFrame(row[Not(:ouvrage)])))\n",
    "    end\n",
    "    if row.ouvrage == \"4380-01D\"\n",
    "        predictions = vcat(predictions, GLM.predict(Mverdun, DataFrame(row[Not(:ouvrage)])))\n",
    "    end\n",
    "end\n",
    "predictions = round.(predictions)"
   ]
  },
  {
   "cell_type": "markdown",
   "metadata": {},
   "source": [
    "# Création du fichier de prédictions pour soumettre sur Kaggle\n",
    "\n",
    "Dans ce cas-ci, nous prédirons une surverse avec une prediction logistique"
   ]
  },
  {
   "cell_type": "code",
   "execution_count": 24,
   "metadata": {},
   "outputs": [
    {
     "ename": "DimensionMismatch",
     "evalue": "DimensionMismatch(\"column length 283 for column(s) ID, and is incompatible with column length 0 for column(s) Surverse\")",
     "output_type": "error",
     "traceback": [
      "DimensionMismatch(\"column length 283 for column(s) ID, and is incompatible with column length 0 for column(s) Surverse\")",
      "",
      "Stacktrace:",
      " [1] (::getfield(DataFrames, Symbol(\"##DataFrame#91#94\")))(::Bool, ::Type{DataFrame}, ::Array{Any,1}, ::DataFrames.Index) at /home/williamglazer/.julia/packages/DataFrames/yH0f6/src/dataframe/dataframe.jl:121",
      " [2] Type at ./none:0 [inlined]",
      " [3] #DataFrame#102(::Base.Iterators.Pairs{Symbol,Array{T,1} where T,Tuple{Symbol,Symbol},NamedTuple{(:ID, :Surverse),Tuple{Array{String,1},Array{Any,1}}}}, ::Type{DataFrame}) at /home/williamglazer/.julia/packages/DataFrames/yH0f6/src/dataframe/dataframe.jl:177",
      " [4] (::getfield(Core, Symbol(\"#kw#Type\")))(::NamedTuple{(:ID, :Surverse),Tuple{Array{String,1},Array{Any,1}}}, ::Type{DataFrame}) at ./none:0",
      " [5] top-level scope at In[24]:11"
     ]
    }
   ],
   "source": [
    "\n",
    "# Pour chacune des lignes du fichier test, comportant un ouvrage et une date, une prédiction est requise.\n",
    "# Dans ce cas-ci, utilisons une prédiction les plus naîve. \n",
    "# On prédit avec une chance sur deux qu'il y ait surverse, sans utiliser de variables explicatives\n",
    "#n = size(test,1)\n",
    "#surverse = rand(n) .> .5\n",
    "\n",
    "\n",
    "# Création du fichier sampleSubmission.csv pour soumettre sur Kaggle\n",
    "ID = test[:,:NO_OUVRAGE].*\"_\".*string.(test[:,:DATE])\n",
    "sampleSubmission = DataFrame(ID = ID, Surverse=predictions)\n",
    "CSV.write(\"sampleSubmission.csv\",sampleSubmission)\n",
    "\n",
    "# Vous pouvez par la suite déposer le fichier sampleSubmission.csv sur Kaggle.\n"
   ]
  },
  {
   "cell_type": "code",
   "execution_count": null,
   "metadata": {},
   "outputs": [],
   "source": []
  },
  {
   "cell_type": "code",
   "execution_count": null,
   "metadata": {},
   "outputs": [],
   "source": []
  }
 ],
 "metadata": {
  "@webio": {
   "lastCommId": null,
   "lastKernelId": null
  },
  "kernelspec": {
   "display_name": "Julia 1.2.0",
   "language": "julia",
   "name": "julia-1.2"
  },
  "language_info": {
   "file_extension": ".jl",
   "mimetype": "application/julia",
   "name": "julia",
   "version": "1.2.0"
  }
 },
 "nbformat": 4,
 "nbformat_minor": 2
}
